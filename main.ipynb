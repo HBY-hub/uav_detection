{
 "cells": [
  {
   "cell_type": "code",
   "execution_count": null,
   "metadata": {
    "scrolled": true,
    "tags": []
   },
   "outputs": [],
   "source": [
    "!ls /home/aistudio/data/data199606"
   ]
  },
  {
   "cell_type": "code",
   "execution_count": 4,
   "metadata": {
    "execution": {
     "iopub.execute_input": "2023-03-17T12:44:02.483938Z",
     "iopub.status.busy": "2023-03-17T12:44:02.483360Z",
     "iopub.status.idle": "2023-03-17T12:45:34.904786Z",
     "shell.execute_reply": "2023-03-17T12:45:34.902759Z",
     "shell.execute_reply.started": "2023-03-17T12:44:02.483905Z"
    },
    "scrolled": true,
    "tags": []
   },
   "outputs": [],
   "source": [
    "!unzip /home/aistudio/data/data199606/wurenji.zip -d /home/aistudio/ >/dev/null"
   ]
  },
  {
   "cell_type": "code",
   "execution_count": 1,
   "metadata": {
    "execution": {
     "iopub.execute_input": "2023-03-19T09:09:10.042196Z",
     "iopub.status.busy": "2023-03-19T09:09:10.041413Z",
     "iopub.status.idle": "2023-03-19T09:09:53.441894Z",
     "shell.execute_reply": "2023-03-19T09:09:53.440736Z",
     "shell.execute_reply.started": "2023-03-19T09:09:10.042150Z"
    },
    "scrolled": true,
    "tags": []
   },
   "outputs": [],
   "source": [
    "!pip install sahi   > /dev/null\n",
    "!pip install pylabel > /dev/null\n",
    "!pip install pycocotools > /dev/null"
   ]
  },
  {
   "cell_type": "code",
   "execution_count": 2,
   "metadata": {
    "execution": {
     "iopub.execute_input": "2023-03-19T06:33:39.485028Z",
     "iopub.status.busy": "2023-03-19T06:33:39.484753Z",
     "iopub.status.idle": "2023-03-19T06:33:39.819240Z",
     "shell.execute_reply": "2023-03-19T06:33:39.818198Z",
     "shell.execute_reply.started": "2023-03-19T06:33:39.485002Z"
    },
    "scrolled": true
   },
   "outputs": [
    {
     "name": "stdout",
     "output_type": "stream",
     "text": [
      "Sun Mar 19 14:33:39 2023       \r\n",
      "+-----------------------------------------------------------------------------+\r\n",
      "| NVIDIA-SMI 460.32.03    Driver Version: 460.32.03    CUDA Version: 11.2     |\r\n",
      "|-------------------------------+----------------------+----------------------+\r\n",
      "| GPU  Name        Persistence-M| Bus-Id        Disp.A | Volatile Uncorr. ECC |\r\n",
      "| Fan  Temp  Perf  Pwr:Usage/Cap|         Memory-Usage | GPU-Util  Compute M. |\r\n",
      "|                               |                      |               MIG M. |\r\n",
      "|===============================+======================+======================|\r\n",
      "|   0  Tesla V100-SXM2...  On   | 00000000:06:00.0 Off |                    0 |\r\n",
      "| N/A   35C    P0    39W / 300W |      0MiB / 32510MiB |      0%      Default |\r\n",
      "|                               |                      |                  N/A |\r\n",
      "+-------------------------------+----------------------+----------------------+\r\n",
      "                                                                               \r\n",
      "+-----------------------------------------------------------------------------+\r\n",
      "| Processes:                                                                  |\r\n",
      "|  GPU   GI   CI        PID   Type   Process name                  GPU Memory |\r\n",
      "|        ID   ID                                                   Usage      |\r\n",
      "|=============================================================================|\r\n",
      "|  No running processes found                                                 |\r\n",
      "+-----------------------------------------------------------------------------+\r\n"
     ]
    }
   ],
   "source": [
    "!nvidia-smi"
   ]
  },
  {
   "cell_type": "code",
   "execution_count": null,
   "metadata": {
    "scrolled": true,
    "tags": []
   },
   "outputs": [],
   "source": [
    "import json\n",
    "import os\n",
    "root = '/home/aistudio/wurenji/train/'\n",
    "dir = os.listdir(root)\n",
    "from sahi.utils.coco import Coco, CocoCategory, CocoImage, CocoAnnotation\n",
    "from sahi.utils.file import save_json\n",
    "from PIL import Image\n",
    "\n",
    "coco = Coco()\n",
    "coco.add_category(CocoCategory(id=0, name='uav'))\n",
    "for folder in dir:\n",
    "  print(folder)\n",
    "  with open(root+folder+'/IR_label.json','r',encoding='utf8') as fp1:\n",
    "      json_data = json.load(fp1)\n",
    "      num = len(os.listdir(root+folder))\n",
    "      print(num)\n",
    "      \n",
    "      for i in range(1,num-1):\n",
    "        if i%10!=3:\n",
    "          os.remove(root+folder+\"/\"+str(i).zfill(6)+\".jpg\")\n",
    "          continue\n",
    "        imgname = root+folder+\"/\"+str(i).zfill(6)+\".jpg\"\n",
    "        width, height = Image.open(imgname).size\n",
    "        coco_image = CocoImage(file_name=imgname, height=height, width=width)\n",
    "        ann = json_data[\"gt_rect\"][i-1]\n",
    "        if(json_data['exist'][i-1]==0):\n",
    "          continue\n",
    "        # print(root+folder+str(i))\n",
    "        coco_image.add_annotation(\n",
    "            \n",
    "            CocoAnnotation(\n",
    "                bbox=[ann[0], ann[1], ann[2], ann[3]],\n",
    "                category_id=0,\n",
    "                category_name='uav'\n",
    "            )\n",
    "        )\n",
    "        coco.add_image(coco_image)\n",
    "!mkdir ./wurenji/annotations\n",
    "save_json(data=coco.json, save_path='./wurenji/annotations/test.json')\n",
    "print(\"------------\")"
   ]
  },
  {
   "cell_type": "code",
   "execution_count": null,
   "metadata": {
    "scrolled": true,
    "tags": []
   },
   "outputs": [],
   "source": [
    "# from pylabel import importer\n",
    "# dataset = importer.ImportCoco(\"./test.json\", path_to_images=\"./wurenji/train\", name=\"uav\")\n",
    "# dataset.path_to_annotations = \"data/yoloformat\"\n",
    "# dataset.export.ExportToYoloV5()[0]"
   ]
  },
  {
   "cell_type": "code",
   "execution_count": null,
   "metadata": {
    "scrolled": true,
    "tags": []
   },
   "outputs": [],
   "source": [
    "!git clone https://gitee.com/monkeycc/PaddleYOLO.git # clone\n",
    "!cd PaddleYOLO\n",
    "!pip install -r PaddleYOLO/requirements.txt  # install"
   ]
  },
  {
   "cell_type": "markdown",
   "metadata": {},
   "source": [
    "## 训练"
   ]
  },
  {
   "cell_type": "code",
   "execution_count": 5,
   "metadata": {
    "execution": {
     "iopub.execute_input": "2023-03-18T12:46:57.072995Z",
     "iopub.status.busy": "2023-03-18T12:46:57.072090Z",
     "iopub.status.idle": "2023-03-18T13:20:35.028822Z",
     "shell.execute_reply": "2023-03-18T13:20:35.027405Z",
     "shell.execute_reply.started": "2023-03-18T12:46:57.072955Z"
    },
    "scrolled": true,
    "tags": []
   },
   "outputs": [
    {
     "name": "stdout",
     "output_type": "stream",
     "text": [
      "LAUNCH WARNING 2023-03-18 20:46:59,362 Compatible mode enable with args ['--selected_gpus=0']\r\n",
      "-----------  Configuration Arguments -----------\r\n",
      "backend: auto\r\n",
      "cluster_topo_path: None\r\n",
      "coordinator_num: None\r\n",
      "coordinators: \r\n",
      "elastic_pre_hook: None\r\n",
      "elastic_server: None\r\n",
      "enable_auto_mapping: False\r\n",
      "force: False\r\n",
      "gpus: 0\r\n",
      "heter_devices: \r\n",
      "heter_worker_num: None\r\n",
      "heter_workers: \r\n",
      "host: None\r\n",
      "http_port: None\r\n",
      "ips: 127.0.0.1\r\n",
      "job_id: None\r\n",
      "log_dir: log\r\n",
      "np: None\r\n",
      "nproc_per_node: None\r\n",
      "rank_mapping_path: None\r\n",
      "run_mode: None\r\n",
      "scale: 0\r\n",
      "server_num: None\r\n",
      "servers: \r\n",
      "training_script: ./PaddleYOLO/tools/train.py\r\n",
      "training_script_args: ['-c', './PaddleYOLO/configs/yolov7/yolov7_tiny_300e_coco.yml', '--eval', '--amp']\r\n",
      "worker_num: None\r\n",
      "workers: \r\n",
      "------------------------------------------------\r\n",
      "[2023-03-18 20:46:59,364] [ WARNING] launch.py:538 - Not found distinct arguments and compiled with cuda or xpu or npu or mlu. Default use collective mode\r\n",
      "WARNING 2023-03-18 20:46:59,364 launch.py:538] Not found distinct arguments and compiled with cuda or xpu or npu or mlu. Default use collective mode\r\n",
      "launch train in GPU mode!\r\n",
      "[2023-03-18 20:46:59,365] [    INFO] launch.py:286 - find free ports:[37983]\r\n",
      "INFO 2023-03-18 20:46:59,365 launch.py:286] find free ports:[37983]\r\n",
      "[2023-03-18 20:46:59,367] [    INFO] launch_utils.py:576 - Local start 1 processes. First process distributed environment info (Only For Debug): \r\n",
      "    +=======================================================================================+\r\n",
      "    |                        Distributed Envs                      Value                    |\r\n",
      "    +---------------------------------------------------------------------------------------+\r\n",
      "    |                       PADDLE_TRAINER_ID                        0                      |\r\n",
      "    |                 PADDLE_CURRENT_ENDPOINT                 127.0.0.1:37983               |\r\n",
      "    |                     PADDLE_TRAINERS_NUM                        1                      |\r\n",
      "    |                PADDLE_TRAINER_ENDPOINTS                 127.0.0.1:37983               |\r\n",
      "    |                     PADDLE_RANK_IN_NODE                        0                      |\r\n",
      "    |                 PADDLE_LOCAL_DEVICE_IDS                        0                      |\r\n",
      "    |                 PADDLE_WORLD_DEVICE_IDS                        0                      |\r\n",
      "    |                     FLAGS_selected_gpus                        0                      |\r\n",
      "    |             FLAGS_selected_accelerators                        0                      |\r\n",
      "    +=======================================================================================+\r\n",
      "\r\n",
      "INFO 2023-03-18 20:46:59,367 launch_utils.py:576] Local start 1 processes. First process distributed environment info (Only For Debug): \r\n",
      "    +=======================================================================================+\r\n",
      "    |                        Distributed Envs                      Value                    |\r\n",
      "    +---------------------------------------------------------------------------------------+\r\n",
      "    |                       PADDLE_TRAINER_ID                        0                      |\r\n",
      "    |                 PADDLE_CURRENT_ENDPOINT                 127.0.0.1:37983               |\r\n",
      "    |                     PADDLE_TRAINERS_NUM                        1                      |\r\n",
      "    |                PADDLE_TRAINER_ENDPOINTS                 127.0.0.1:37983               |\r\n",
      "    |                     PADDLE_RANK_IN_NODE                        0                      |\r\n",
      "    |                 PADDLE_LOCAL_DEVICE_IDS                        0                      |\r\n",
      "    |                 PADDLE_WORLD_DEVICE_IDS                        0                      |\r\n",
      "    |                     FLAGS_selected_gpus                        0                      |\r\n",
      "    |             FLAGS_selected_accelerators                        0                      |\r\n",
      "    +=======================================================================================+\r\n",
      "\r\n",
      "[2023-03-18 20:46:59,367] [    INFO] launch_utils.py:580 - details about PADDLE_TRAINER_ENDPOINTS can be found in log/endpoints.log, and detail running logs maybe found in log/workerlog.0\r\n",
      "INFO 2023-03-18 20:46:59,367 launch_utils.py:580] details about PADDLE_TRAINER_ENDPOINTS can be found in log/endpoints.log, and detail running logs maybe found in log/workerlog.0\r\n",
      "launch proc_id:853 idx:0\r\n",
      "Warning: import ppdet from source directory without installing, run 'python setup.py install' to install ppdet firstly\r\n",
      "loading annotations into memory...\r\n",
      "Done (t=0.13s)\r\n",
      "creating index...\r\n",
      "index created!\r\n",
      "[03/18 20:47:03] ppdet.data.source.coco INFO: Load [16360 samples valid, 10 samples invalid] in file /home/aistudio/wurenji/annotations/test.json.\r\n",
      "W0318 20:47:03.144068   853 gpu_resources.cc:61] Please NOTE: device: 0, GPU Compute Capability: 7.0, Driver API Version: 11.2, Runtime API Version: 11.2\r\n",
      "W0318 20:47:03.149129   853 gpu_resources.cc:91] device: 0, cuDNN Version: 8.2.\r\n",
      "[03/18 20:47:10] ppdet.engine INFO: Epoch: [0] [  0/512] eta: 0:26:59 lr: 0.000000 loss_box: 0.056817 loss_cls: 0.000000 loss_obj: 3.853248 loss: 125.122086 batch_cost: 3.1625 data_cost: 0.0007 ips: 10.1187 images/s\r\n",
      "[03/18 20:49:17] ppdet.engine INFO: Epoch: [0] [100/512] eta: 0:08:33 lr: 0.000042 loss_box: 0.061951 loss_cls: 0.000000 loss_obj: 3.344325 loss: 108.959442 batch_cost: 1.2281 data_cost: 0.3689 ips: 26.0561 images/s\r\n",
      "[03/18 20:51:25] ppdet.engine INFO: Epoch: [0] [200/512] eta: 0:06:29 lr: 0.000170 loss_box: 0.085531 loss_cls: 0.000000 loss_obj: 0.430348 loss: 16.947239 batch_cost: 1.2507 data_cost: 0.3747 ips: 25.5858 images/s\r\n",
      "[03/18 20:53:33] ppdet.engine INFO: Epoch: [0] [300/512] eta: 0:04:24 lr: 0.000381 loss_box: 0.082988 loss_cls: 0.000000 loss_obj: 0.077907 loss: 5.272195 batch_cost: 1.2402 data_cost: 0.3625 ips: 25.8017 images/s\r\n",
      "[03/18 20:55:40] ppdet.engine INFO: Epoch: [0] [400/512] eta: 0:02:19 lr: 0.000678 loss_box: 0.052825 loss_cls: 0.000000 loss_obj: 0.026755 loss: 2.740064 batch_cost: 1.2350 data_cost: 0.3797 ips: 25.9117 images/s\r\n",
      "[03/18 20:57:49] ppdet.engine INFO: Epoch: [0] [500/512] eta: 0:00:14 lr: 0.001060 loss_box: 0.043527 loss_cls: 0.000000 loss_obj: 0.013100 loss: 1.821655 batch_cost: 1.2569 data_cost: 0.4215 ips: 25.4587 images/s\r\n",
      "[03/18 20:58:02] ppdet.utils.checkpoint INFO: Save checkpoint: output/yolov7_tiny_300e_coco\r\n",
      "loading annotations into memory...\r\n",
      "Done (t=0.35s)\r\n",
      "creating index...\r\n",
      "index created!\r\n",
      "[03/18 20:58:05] ppdet.data.source.coco INFO: Load [16370 samples valid, 0 samples invalid] in file /home/aistudio/wurenji/annotations/test.json.\r\n",
      "loading annotations into memory...\r\n",
      "Done (t=0.70s)\r\n",
      "creating index...\r\n",
      "index created!\r\n",
      "[03/18 20:58:07] ppdet.engine INFO: Eval loader length is 2047, eval batch_size is 8.\r\n",
      "[03/18 20:58:07] ppdet.engine INFO: Starting evaluation ......\r\n",
      "\r\n",
      "[03/18 20:58:09] ppdet.engine INFO: Eval iter: 0\r\n",
      "[03/18 20:59:07] ppdet.engine INFO: Eval iter: 100\r\n",
      "[03/18 21:00:06] ppdet.engine INFO: Eval iter: 200\r\n",
      "[03/18 21:00:55] ppdet.engine INFO: Eval iter: 300\r\n",
      "[03/18 21:01:46] ppdet.engine INFO: Eval iter: 400\r\n",
      "[03/18 21:02:43] ppdet.engine INFO: Eval iter: 500\r\n",
      "[03/18 21:03:38] ppdet.engine INFO: Eval iter: 600\r\n",
      "[03/18 21:04:36] ppdet.engine INFO: Eval iter: 700\r\n",
      "[03/18 21:05:33] ppdet.engine INFO: Eval iter: 800\r\n",
      "[03/18 21:06:28] ppdet.engine INFO: Eval iter: 900\r\n",
      "[03/18 21:07:29] ppdet.engine INFO: Eval iter: 1000\r\n",
      "[03/18 21:08:20] ppdet.engine INFO: Eval iter: 1100\r\n",
      "[03/18 21:09:09] ppdet.engine INFO: Eval iter: 1200\r\n",
      "[03/18 21:10:08] ppdet.engine INFO: Eval iter: 1300\r\n",
      "[03/18 21:11:03] ppdet.engine INFO: Eval iter: 1400\r\n",
      "[03/18 21:12:01] ppdet.engine INFO: Eval iter: 1500\r\n",
      "[03/18 21:13:00] ppdet.engine INFO: Eval iter: 1600\r\n",
      "[03/18 21:13:53] ppdet.engine INFO: Eval iter: 1700\r\n",
      "[03/18 21:14:46] ppdet.engine INFO: Eval iter: 1800\r\n",
      "[03/18 21:15:46] ppdet.engine INFO: Eval iter: 1900\r\n",
      "[03/18 21:16:46] ppdet.engine INFO: Eval iter: 2000\r\n",
      "[03/18 21:18:50] ppdet.metrics.metrics INFO: The bbox result is saved to bbox.json.\r\n",
      "loading annotations into memory...\r\n",
      "Done (t=0.08s)\r\n",
      "creating index...\r\n",
      "index created!\r\n",
      "[03/18 21:18:50] ppdet.metrics.coco_utils INFO: Start evaluate...\r\n",
      "Loading and preparing results...\r\n",
      "DONE (t=52.87s)\r\n",
      "creating index...\r\n",
      "index created!\r\n",
      "Running per image evaluation...\r\n",
      "Evaluate annotation type *bbox*\r\n",
      "Traceback (most recent call last):\r\n",
      "  File \"./PaddleYOLO/tools/train.py\", line 188, in <module>\r\n",
      "    main()\r\n",
      "  File \"./PaddleYOLO/tools/train.py\", line 184, in main\r\n",
      "    run(FLAGS, cfg)\r\n",
      "  File \"./PaddleYOLO/tools/train.py\", line 137, in run\r\n",
      "    trainer.train(FLAGS.eval)\r\n",
      "  File \"/home/aistudio/PaddleYOLO/ppdet/engine/trainer.py\", line 481, in train\r\n",
      "    self._eval_with_loader(self._eval_loader)\r\n",
      "  File \"/home/aistudio/PaddleYOLO/ppdet/engine/trainer.py\", line 536, in _eval_with_loader\r\n",
      "    metric.accumulate()\r\n",
      "  File \"/home/aistudio/PaddleYOLO/ppdet/metrics/metrics.py\", line 129, in accumulate\r\n",
      "    classwise=self.classwise)\r\n",
      "  File \"/home/aistudio/PaddleYOLO/ppdet/metrics/coco_utils.py\", line 112, in cocoapi_eval\r\n",
      "    coco_eval.evaluate()\r\n",
      "  File \"/opt/conda/envs/python35-paddle120-env/lib/python3.7/site-packages/pycocotools/cocoeval.py\", line 149, in evaluate\r\n",
      "    for imgId in p.imgIds\r\n",
      "  File \"/opt/conda/envs/python35-paddle120-env/lib/python3.7/site-packages/pycocotools/cocoeval.py\", line 150, in <dictcomp>\r\n",
      "    for catId in catIds}\r\n",
      "  File \"/opt/conda/envs/python35-paddle120-env/lib/python3.7/site-packages/pycocotools/cocoeval.py\", line 189, in computeIoU\r\n",
      "    ious = maskUtils.iou(d,g,iscrowd)\r\n",
      "  File \"pycocotools/_mask.pyx\", line 215, in pycocotools._mask.iou\r\n",
      "  File \"pycocotools/_mask.pyx\", line 193, in pycocotools._mask.iou._preproc\r\n",
      "Exception: list input can be bounding box (Nx4) or RLEs ([RLE])\r\n",
      "[2023-03-18 21:20:26,665] [    INFO] launch_utils.py:350 - terminate all the procs\r\n",
      "INFO 2023-03-18 21:20:26,665 launch_utils.py:350] terminate all the procs\r\n",
      "[2023-03-18 21:20:26,665] [   ERROR] launch_utils.py:659 - ABORT!!! Out of all 1 trainers, the trainer process with rank=[0] was aborted. Please check its log.\r\n",
      "ERROR 2023-03-18 21:20:26,665 launch_utils.py:659] ABORT!!! Out of all 1 trainers, the trainer process with rank=[0] was aborted. Please check its log.\r\n",
      "[2023-03-18 21:20:30,669] [    INFO] launch_utils.py:350 - terminate all the procs\r\n",
      "INFO 2023-03-18 21:20:30,669 launch_utils.py:350] terminate all the procs\r\n",
      "[2023-03-18 21:20:30,669] [ WARNING] launch.py:424 - Terminating... exit\r\n",
      "WARNING 2023-03-18 21:20:30,669 launch.py:424] Terminating... exit\r\n",
      "[2023-03-18 21:20:34,673] [    INFO] launch_utils.py:350 - terminate all the procs\r\n",
      "INFO 2023-03-18 21:20:34,673 launch_utils.py:350] terminate all the procs\r\n"
     ]
    }
   ],
   "source": [
    "import pycocotools\n",
    "!python -m paddle.distributed.launch --selected_gpus=\"0\" ./PaddleYOLO/tools/train.py -c ./PaddleYOLO/configs/yolov7/yolov7_tiny_300e_coco.yml --eval --amp "
   ]
  },
  {
   "cell_type": "code",
   "execution_count": 17,
   "metadata": {
    "execution": {
     "iopub.execute_input": "2023-03-19T06:53:19.143194Z",
     "iopub.status.busy": "2023-03-19T06:53:19.142549Z",
     "iopub.status.idle": "2023-03-19T06:53:19.207091Z",
     "shell.execute_reply": "2023-03-19T06:53:19.205937Z",
     "shell.execute_reply.started": "2023-03-19T06:53:19.143152Z"
    },
    "scrolled": true,
    "tags": []
   },
   "outputs": [
    {
     "name": "stdout",
     "output_type": "stream",
     "text": [
      "{'image_id': 122, 'category_id': 1, 'bbox': [34.85061264038086, 331.8454895019531, 111.25436782836914, 57.656494140625], 'score': 0.007921426557004452}\r\n"
     ]
    }
   ],
   "source": [
    "with open(\"/home/aistudio/output/bbox.json\",'r',encoding='utf8') as fp1:\n",
    "    bbox_data = json.load(fp1)\n",
    "    print(bbox_data[1000])"
   ]
  },
  {
   "cell_type": "markdown",
   "metadata": {},
   "source": [
    "## 单个文件"
   ]
  },
  {
   "cell_type": "code",
   "execution_count": 15,
   "metadata": {
    "execution": {
     "iopub.execute_input": "2023-03-19T12:34:03.155251Z",
     "iopub.status.busy": "2023-03-19T12:34:03.154187Z",
     "iopub.status.idle": "2023-03-19T12:34:03.456419Z",
     "shell.execute_reply": "2023-03-19T12:34:03.455182Z",
     "shell.execute_reply.started": "2023-03-19T12:34:03.155208Z"
    },
    "scrolled": true,
    "tags": []
   },
   "outputs": [],
   "source": [
    "!rm -rf ./output/*.jpg"
   ]
  },
  {
   "cell_type": "code",
   "execution_count": 6,
   "metadata": {
    "execution": {
     "iopub.execute_input": "2023-03-20T08:10:18.178558Z",
     "iopub.status.busy": "2023-03-20T08:10:18.177948Z",
     "iopub.status.idle": "2023-03-20T08:10:24.823239Z",
     "shell.execute_reply": "2023-03-20T08:10:24.822312Z",
     "shell.execute_reply.started": "2023-03-20T08:10:18.178519Z"
    },
    "scrolled": true,
    "tags": []
   },
   "outputs": [
    {
     "name": "stderr",
     "output_type": "stream",
     "text": [
      "W0320 16:10:20.398725  1095 gpu_resources.cc:61] Please NOTE: device: 0, GPU Compute Capability: 7.0, Driver API Version: 11.2, Runtime API Version: 11.2\r\n",
      "W0320 16:10:20.403421  1095 gpu_resources.cc:91] device: 0, cuDNN Version: 8.2.\r\n"
     ]
    },
    {
     "name": "stdout",
     "output_type": "stream",
     "text": [
      "[03/20 16:10:22] ppdet.utils.checkpoint INFO: Finish loading model weights: /home/aistudio/output/yolov7_tiny_300e_coco/model_final.pdparams\r\n",
      "[03/20 16:10:22] ppdet.data.source.category WARNING: anno_file 'dataset/coco/annotations/instances_val2017.json' is None or not set or not exist, please recheck TrainDataset/EvalDataset/TestDataset.anno_path, otherwise the default categories will be used by metric_type.\r\n",
      "[03/20 16:10:22] ppdet.data.source.category WARNING: metric_type: COCO, load default categories of COCO.\r\n",
      "[03/20 16:10:22] ppdet.data.source.category WARNING: anno_file 'dataset/coco/annotations/instances_val2017.json' is None or not set or not exist, please recheck TrainDataset/EvalDataset/TestDataset.anno_path, otherwise the default categories will be used by metric_type.\r\n",
      "[03/20 16:10:22] ppdet.data.source.category WARNING: metric_type: COCO, load default categories of COCO.\r\n",
      "[03/20 16:10:22] ppdet.engine INFO: Test loader length is 1, test batch_size is 1.\r\n",
      "[03/20 16:10:22] ppdet.engine INFO: Starting predicting ......\r\n",
      "\r\n"
     ]
    },
    {
     "name": "stderr",
     "output_type": "stream",
     "text": [
      "Warning: import ppdet from source directory without installing, run 'python setup.py install' to install ppdet firstly\r\n",
      "100%|██████████| 1/1 [00:01<00:00,  1.41s/it]\r\n"
     ]
    },
    {
     "name": "stdout",
     "output_type": "stream",
     "text": [
      "[03/20 16:10:23] ppdet.metrics.metrics INFO: The bbox result is saved to bbox.json.\r\n",
      "[03/20 16:10:23] ppdet.metrics.metrics INFO: The bbox result is saved to output/bbox.json and do not evaluate the mAP.\r\n",
      "[03/20 16:10:23] ppdet.engine INFO: Detection bbox results save in output/000541.jpg\r\n"
     ]
    },
    {
     "data": {
      "text/plain": [
       "0"
      ]
     },
     "execution_count": 6,
     "metadata": {},
     "output_type": "execute_result"
    }
   ],
   "source": [
    "import os\n",
    "os.system(\"python /home/aistudio/PaddleYOLO/tools/infer.py -c /home/aistudio/PaddleYOLO/configs/yolov7/yolov7_tiny_300e_coco.yml -o weights=/home/aistudio/output/yolov7_tiny_300e_coco/model_final.pdparams --infer_img=/home/aistudio/wurenji/test/01_2192_0001-1500/000541.jpg --save_results ./test --draw_threshold=0.1\")"
   ]
  },
  {
   "cell_type": "code",
   "execution_count": 1,
   "metadata": {
    "collapsed": true,
    "execution": {
     "iopub.execute_input": "2023-03-19T12:38:14.079634Z",
     "iopub.status.busy": "2023-03-19T12:38:14.078965Z",
     "iopub.status.idle": "2023-03-19T12:39:08.166276Z",
     "shell.execute_reply": "2023-03-19T12:39:08.165218Z",
     "shell.execute_reply.started": "2023-03-19T12:38:14.079596Z"
    },
    "jupyter": {
     "outputs_hidden": true
    },
    "scrolled": true,
    "tags": []
   },
   "outputs": [
    {
     "name": "stderr",
     "output_type": "stream",
     "text": [
      "Warning: import ppdet from source directory without installing, run 'python setup.py install' to install ppdet firstly\r\n",
      "W0319 20:38:16.383507  1138 gpu_resources.cc:61] Please NOTE: device: 0, GPU Compute Capability: 7.0, Driver API Version: 11.2, Runtime API Version: 11.2\r\n",
      "W0319 20:38:16.387972  1138 gpu_resources.cc:91] device: 0, cuDNN Version: 8.2.\r\n"
     ]
    },
    {
     "name": "stdout",
     "output_type": "stream",
     "text": [
      "[03/19 20:38:18] ppdet.utils.checkpoint INFO: Finish loading model weights: /home/aistudio/output/yolov7_tiny_300e_coco/model_final.pdparams\r\n",
      "[03/19 20:38:18] ppdet.data.source.category WARNING: anno_file 'dataset/coco/annotations/instances_val2017.json' is None or not set or not exist, please recheck TrainDataset/EvalDataset/TestDataset.anno_path, otherwise the default categories will be used by metric_type.\r\n",
      "[03/19 20:38:18] ppdet.data.source.category WARNING: metric_type: COCO, load default categories of COCO.\r\n",
      "[03/19 20:38:18] ppdet.data.source.category WARNING: anno_file 'dataset/coco/annotations/instances_val2017.json' is None or not set or not exist, please recheck TrainDataset/EvalDataset/TestDataset.anno_path, otherwise the default categories will be used by metric_type.\r\n",
      "[03/19 20:38:18] ppdet.data.source.category WARNING: metric_type: COCO, load default categories of COCO.\r\n",
      "[03/19 20:38:18] ppdet.engine INFO: Test loader length is 1, test batch_size is 1.\r\n",
      "[03/19 20:38:18] ppdet.engine INFO: Starting predicting ......\r\n",
      "\r\n"
     ]
    },
    {
     "name": "stderr",
     "output_type": "stream",
     "text": [
      "100%|██████████| 1/1 [00:01<00:00,  1.26s/it]\r\n"
     ]
    },
    {
     "name": "stdout",
     "output_type": "stream",
     "text": [
      "[03/19 20:38:19] ppdet.metrics.metrics INFO: The bbox result is saved to bbox.json.\r\n",
      "[03/19 20:38:19] ppdet.metrics.metrics INFO: The bbox result is saved to output/bbox.json and do not evaluate the mAP.\r\n",
      "[03/19 20:38:19] ppdet.engine INFO: Detection bbox results save in output/000001.jpg\r\n"
     ]
    },
    {
     "name": "stderr",
     "output_type": "stream",
     "text": [
      "Warning: import ppdet from source directory without installing, run 'python setup.py install' to install ppdet firstly\r\n",
      "W0319 20:38:22.258324  1259 gpu_resources.cc:61] Please NOTE: device: 0, GPU Compute Capability: 7.0, Driver API Version: 11.2, Runtime API Version: 11.2\r\n",
      "W0319 20:38:22.262508  1259 gpu_resources.cc:91] device: 0, cuDNN Version: 8.2.\r\n"
     ]
    },
    {
     "name": "stdout",
     "output_type": "stream",
     "text": [
      "[03/19 20:38:24] ppdet.utils.checkpoint INFO: Finish loading model weights: /home/aistudio/output/yolov7_tiny_300e_coco/model_final.pdparams\r\n",
      "[03/19 20:38:24] ppdet.data.source.category WARNING: anno_file 'dataset/coco/annotations/instances_val2017.json' is None or not set or not exist, please recheck TrainDataset/EvalDataset/TestDataset.anno_path, otherwise the default categories will be used by metric_type.\r\n",
      "[03/19 20:38:24] ppdet.data.source.category WARNING: metric_type: COCO, load default categories of COCO.\r\n",
      "[03/19 20:38:24] ppdet.data.source.category WARNING: anno_file 'dataset/coco/annotations/instances_val2017.json' is None or not set or not exist, please recheck TrainDataset/EvalDataset/TestDataset.anno_path, otherwise the default categories will be used by metric_type.\r\n",
      "[03/19 20:38:24] ppdet.data.source.category WARNING: metric_type: COCO, load default categories of COCO.\r\n",
      "[03/19 20:38:24] ppdet.engine INFO: Test loader length is 1, test batch_size is 1.\r\n",
      "[03/19 20:38:24] ppdet.engine INFO: Starting predicting ......\r\n",
      "\r\n"
     ]
    },
    {
     "name": "stderr",
     "output_type": "stream",
     "text": [
      "100%|██████████| 1/1 [00:01<00:00,  1.24s/it]\r\n"
     ]
    },
    {
     "name": "stdout",
     "output_type": "stream",
     "text": [
      "[03/19 20:38:25] ppdet.metrics.metrics INFO: The bbox result is saved to bbox.json.\r\n",
      "[03/19 20:38:25] ppdet.metrics.metrics INFO: The bbox result is saved to output/bbox.json and do not evaluate the mAP.\r\n",
      "[03/19 20:38:25] ppdet.engine INFO: Detection bbox results save in output/000002.jpg\r\n"
     ]
    },
    {
     "name": "stderr",
     "output_type": "stream",
     "text": [
      "Warning: import ppdet from source directory without installing, run 'python setup.py install' to install ppdet firstly\r\n",
      "W0319 20:38:28.180474  1318 gpu_resources.cc:61] Please NOTE: device: 0, GPU Compute Capability: 7.0, Driver API Version: 11.2, Runtime API Version: 11.2\r\n",
      "W0319 20:38:28.184825  1318 gpu_resources.cc:91] device: 0, cuDNN Version: 8.2.\r\n"
     ]
    },
    {
     "name": "stdout",
     "output_type": "stream",
     "text": [
      "[03/19 20:38:30] ppdet.utils.checkpoint INFO: Finish loading model weights: /home/aistudio/output/yolov7_tiny_300e_coco/model_final.pdparams\r\n",
      "[03/19 20:38:30] ppdet.data.source.category WARNING: anno_file 'dataset/coco/annotations/instances_val2017.json' is None or not set or not exist, please recheck TrainDataset/EvalDataset/TestDataset.anno_path, otherwise the default categories will be used by metric_type.\r\n",
      "[03/19 20:38:30] ppdet.data.source.category WARNING: metric_type: COCO, load default categories of COCO.\r\n",
      "[03/19 20:38:30] ppdet.data.source.category WARNING: anno_file 'dataset/coco/annotations/instances_val2017.json' is None or not set or not exist, please recheck TrainDataset/EvalDataset/TestDataset.anno_path, otherwise the default categories will be used by metric_type.\r\n",
      "[03/19 20:38:30] ppdet.data.source.category WARNING: metric_type: COCO, load default categories of COCO.\r\n",
      "[03/19 20:38:30] ppdet.engine INFO: Test loader length is 1, test batch_size is 1.\r\n",
      "[03/19 20:38:30] ppdet.engine INFO: Starting predicting ......\r\n",
      "\r\n"
     ]
    },
    {
     "name": "stderr",
     "output_type": "stream",
     "text": [
      "100%|██████████| 1/1 [00:01<00:00,  1.31s/it]\r\n"
     ]
    },
    {
     "name": "stdout",
     "output_type": "stream",
     "text": [
      "[03/19 20:38:31] ppdet.metrics.metrics INFO: The bbox result is saved to bbox.json.\r\n",
      "[03/19 20:38:31] ppdet.metrics.metrics INFO: The bbox result is saved to output/bbox.json and do not evaluate the mAP.\r\n",
      "[03/19 20:38:31] ppdet.engine INFO: Detection bbox results save in output/000003.jpg\r\n"
     ]
    },
    {
     "name": "stderr",
     "output_type": "stream",
     "text": [
      "Warning: import ppdet from source directory without installing, run 'python setup.py install' to install ppdet firstly\r\n",
      "W0319 20:38:34.304044  1375 gpu_resources.cc:61] Please NOTE: device: 0, GPU Compute Capability: 7.0, Driver API Version: 11.2, Runtime API Version: 11.2\r\n",
      "W0319 20:38:34.308064  1375 gpu_resources.cc:91] device: 0, cuDNN Version: 8.2.\r\n"
     ]
    },
    {
     "name": "stdout",
     "output_type": "stream",
     "text": [
      "[03/19 20:38:36] ppdet.utils.checkpoint INFO: Finish loading model weights: /home/aistudio/output/yolov7_tiny_300e_coco/model_final.pdparams\r\n",
      "[03/19 20:38:36] ppdet.data.source.category WARNING: anno_file 'dataset/coco/annotations/instances_val2017.json' is None or not set or not exist, please recheck TrainDataset/EvalDataset/TestDataset.anno_path, otherwise the default categories will be used by metric_type.\r\n",
      "[03/19 20:38:36] ppdet.data.source.category WARNING: metric_type: COCO, load default categories of COCO.\r\n",
      "[03/19 20:38:36] ppdet.data.source.category WARNING: anno_file 'dataset/coco/annotations/instances_val2017.json' is None or not set or not exist, please recheck TrainDataset/EvalDataset/TestDataset.anno_path, otherwise the default categories will be used by metric_type.\r\n",
      "[03/19 20:38:36] ppdet.data.source.category WARNING: metric_type: COCO, load default categories of COCO.\r\n",
      "[03/19 20:38:36] ppdet.engine INFO: Test loader length is 1, test batch_size is 1.\r\n",
      "[03/19 20:38:36] ppdet.engine INFO: Starting predicting ......\r\n",
      "\r\n"
     ]
    },
    {
     "name": "stderr",
     "output_type": "stream",
     "text": [
      "100%|██████████| 1/1 [00:01<00:00,  1.28s/it]\r\n"
     ]
    },
    {
     "name": "stdout",
     "output_type": "stream",
     "text": [
      "[03/19 20:38:37] ppdet.metrics.metrics INFO: The bbox result is saved to bbox.json.\r\n",
      "[03/19 20:38:37] ppdet.metrics.metrics INFO: The bbox result is saved to output/bbox.json and do not evaluate the mAP.\r\n",
      "[03/19 20:38:37] ppdet.engine INFO: Detection bbox results save in output/000004.jpg\r\n"
     ]
    },
    {
     "name": "stderr",
     "output_type": "stream",
     "text": [
      "Warning: import ppdet from source directory without installing, run 'python setup.py install' to install ppdet firstly\r\n",
      "W0319 20:38:40.162402  1442 gpu_resources.cc:61] Please NOTE: device: 0, GPU Compute Capability: 7.0, Driver API Version: 11.2, Runtime API Version: 11.2\r\n",
      "W0319 20:38:40.166859  1442 gpu_resources.cc:91] device: 0, cuDNN Version: 8.2.\r\n"
     ]
    },
    {
     "name": "stdout",
     "output_type": "stream",
     "text": [
      "[03/19 20:38:42] ppdet.utils.checkpoint INFO: Finish loading model weights: /home/aistudio/output/yolov7_tiny_300e_coco/model_final.pdparams\r\n",
      "[03/19 20:38:42] ppdet.data.source.category WARNING: anno_file 'dataset/coco/annotations/instances_val2017.json' is None or not set or not exist, please recheck TrainDataset/EvalDataset/TestDataset.anno_path, otherwise the default categories will be used by metric_type.\r\n",
      "[03/19 20:38:42] ppdet.data.source.category WARNING: metric_type: COCO, load default categories of COCO.\r\n",
      "[03/19 20:38:42] ppdet.data.source.category WARNING: anno_file 'dataset/coco/annotations/instances_val2017.json' is None or not set or not exist, please recheck TrainDataset/EvalDataset/TestDataset.anno_path, otherwise the default categories will be used by metric_type.\r\n",
      "[03/19 20:38:42] ppdet.data.source.category WARNING: metric_type: COCO, load default categories of COCO.\r\n",
      "[03/19 20:38:42] ppdet.engine INFO: Test loader length is 1, test batch_size is 1.\r\n",
      "[03/19 20:38:42] ppdet.engine INFO: Starting predicting ......\r\n",
      "\r\n"
     ]
    },
    {
     "name": "stderr",
     "output_type": "stream",
     "text": [
      "100%|██████████| 1/1 [00:01<00:00,  1.27s/it]\r\n"
     ]
    },
    {
     "name": "stdout",
     "output_type": "stream",
     "text": [
      "[03/19 20:38:43] ppdet.metrics.metrics INFO: The bbox result is saved to bbox.json.\r\n",
      "[03/19 20:38:43] ppdet.metrics.metrics INFO: The bbox result is saved to output/bbox.json and do not evaluate the mAP.\r\n",
      "[03/19 20:38:43] ppdet.engine INFO: Detection bbox results save in output/000005.jpg\r\n"
     ]
    },
    {
     "name": "stderr",
     "output_type": "stream",
     "text": [
      "Warning: import ppdet from source directory without installing, run 'python setup.py install' to install ppdet firstly\r\n",
      "W0319 20:38:46.172215  1496 gpu_resources.cc:61] Please NOTE: device: 0, GPU Compute Capability: 7.0, Driver API Version: 11.2, Runtime API Version: 11.2\r\n",
      "W0319 20:38:46.176353  1496 gpu_resources.cc:91] device: 0, cuDNN Version: 8.2.\r\n"
     ]
    },
    {
     "name": "stdout",
     "output_type": "stream",
     "text": [
      "[03/19 20:38:47] ppdet.utils.checkpoint INFO: Finish loading model weights: /home/aistudio/output/yolov7_tiny_300e_coco/model_final.pdparams\r\n",
      "[03/19 20:38:47] ppdet.data.source.category WARNING: anno_file 'dataset/coco/annotations/instances_val2017.json' is None or not set or not exist, please recheck TrainDataset/EvalDataset/TestDataset.anno_path, otherwise the default categories will be used by metric_type.\r\n",
      "[03/19 20:38:47] ppdet.data.source.category WARNING: metric_type: COCO, load default categories of COCO.\r\n",
      "[03/19 20:38:47] ppdet.data.source.category WARNING: anno_file 'dataset/coco/annotations/instances_val2017.json' is None or not set or not exist, please recheck TrainDataset/EvalDataset/TestDataset.anno_path, otherwise the default categories will be used by metric_type.\r\n",
      "[03/19 20:38:47] ppdet.data.source.category WARNING: metric_type: COCO, load default categories of COCO.\r\n",
      "[03/19 20:38:47] ppdet.engine INFO: Test loader length is 1, test batch_size is 1.\r\n",
      "[03/19 20:38:47] ppdet.engine INFO: Starting predicting ......\r\n",
      "\r\n"
     ]
    },
    {
     "name": "stderr",
     "output_type": "stream",
     "text": [
      "100%|██████████| 1/1 [00:01<00:00,  1.23s/it]\r\n"
     ]
    },
    {
     "name": "stdout",
     "output_type": "stream",
     "text": [
      "[03/19 20:38:49] ppdet.metrics.metrics INFO: The bbox result is saved to bbox.json.\r\n",
      "[03/19 20:38:49] ppdet.metrics.metrics INFO: The bbox result is saved to output/bbox.json and do not evaluate the mAP.\r\n",
      "[03/19 20:38:49] ppdet.engine INFO: Detection bbox results save in output/000006.jpg\r\n"
     ]
    },
    {
     "name": "stderr",
     "output_type": "stream",
     "text": [
      "Warning: import ppdet from source directory without installing, run 'python setup.py install' to install ppdet firstly\r\n",
      "W0319 20:38:52.002465  1552 gpu_resources.cc:61] Please NOTE: device: 0, GPU Compute Capability: 7.0, Driver API Version: 11.2, Runtime API Version: 11.2\r\n",
      "W0319 20:38:52.006707  1552 gpu_resources.cc:91] device: 0, cuDNN Version: 8.2.\r\n"
     ]
    },
    {
     "name": "stdout",
     "output_type": "stream",
     "text": [
      "[03/19 20:38:53] ppdet.utils.checkpoint INFO: Finish loading model weights: /home/aistudio/output/yolov7_tiny_300e_coco/model_final.pdparams\r\n",
      "[03/19 20:38:53] ppdet.data.source.category WARNING: anno_file 'dataset/coco/annotations/instances_val2017.json' is None or not set or not exist, please recheck TrainDataset/EvalDataset/TestDataset.anno_path, otherwise the default categories will be used by metric_type.\r\n",
      "[03/19 20:38:53] ppdet.data.source.category WARNING: metric_type: COCO, load default categories of COCO.\r\n",
      "[03/19 20:38:53] ppdet.data.source.category WARNING: anno_file 'dataset/coco/annotations/instances_val2017.json' is None or not set or not exist, please recheck TrainDataset/EvalDataset/TestDataset.anno_path, otherwise the default categories will be used by metric_type.\r\n",
      "[03/19 20:38:53] ppdet.data.source.category WARNING: metric_type: COCO, load default categories of COCO.\r\n",
      "[03/19 20:38:53] ppdet.engine INFO: Test loader length is 1, test batch_size is 1.\r\n",
      "[03/19 20:38:53] ppdet.engine INFO: Starting predicting ......\r\n",
      "\r\n"
     ]
    },
    {
     "name": "stderr",
     "output_type": "stream",
     "text": [
      "100%|██████████| 1/1 [00:01<00:00,  1.26s/it]\r\n"
     ]
    },
    {
     "name": "stdout",
     "output_type": "stream",
     "text": [
      "[03/19 20:38:55] ppdet.metrics.metrics INFO: The bbox result is saved to bbox.json.\r\n",
      "[03/19 20:38:55] ppdet.metrics.metrics INFO: The bbox result is saved to output/bbox.json and do not evaluate the mAP.\r\n",
      "[03/19 20:38:55] ppdet.engine INFO: Detection bbox results save in output/000007.jpg\r\n"
     ]
    },
    {
     "name": "stderr",
     "output_type": "stream",
     "text": [
      "Warning: import ppdet from source directory without installing, run 'python setup.py install' to install ppdet firstly\r\n",
      "W0319 20:38:57.914851  1613 gpu_resources.cc:61] Please NOTE: device: 0, GPU Compute Capability: 7.0, Driver API Version: 11.2, Runtime API Version: 11.2\r\n",
      "W0319 20:38:57.919054  1613 gpu_resources.cc:91] device: 0, cuDNN Version: 8.2.\r\n"
     ]
    },
    {
     "name": "stdout",
     "output_type": "stream",
     "text": [
      "[03/19 20:38:59] ppdet.utils.checkpoint INFO: Finish loading model weights: /home/aistudio/output/yolov7_tiny_300e_coco/model_final.pdparams\r\n",
      "[03/19 20:38:59] ppdet.data.source.category WARNING: anno_file 'dataset/coco/annotations/instances_val2017.json' is None or not set or not exist, please recheck TrainDataset/EvalDataset/TestDataset.anno_path, otherwise the default categories will be used by metric_type.\r\n",
      "[03/19 20:38:59] ppdet.data.source.category WARNING: metric_type: COCO, load default categories of COCO.\r\n",
      "[03/19 20:38:59] ppdet.data.source.category WARNING: anno_file 'dataset/coco/annotations/instances_val2017.json' is None or not set or not exist, please recheck TrainDataset/EvalDataset/TestDataset.anno_path, otherwise the default categories will be used by metric_type.\r\n",
      "[03/19 20:38:59] ppdet.data.source.category WARNING: metric_type: COCO, load default categories of COCO.\r\n",
      "[03/19 20:38:59] ppdet.engine INFO: Test loader length is 1, test batch_size is 1.\r\n",
      "[03/19 20:38:59] ppdet.engine INFO: Starting predicting ......\r\n",
      "\r\n"
     ]
    },
    {
     "name": "stderr",
     "output_type": "stream",
     "text": [
      "100%|██████████| 1/1 [00:01<00:00,  1.28s/it]\r\n"
     ]
    },
    {
     "name": "stdout",
     "output_type": "stream",
     "text": [
      "[03/19 20:39:01] ppdet.metrics.metrics INFO: The bbox result is saved to bbox.json.\r\n",
      "[03/19 20:39:01] ppdet.metrics.metrics INFO: The bbox result is saved to output/bbox.json and do not evaluate the mAP.\r\n",
      "[03/19 20:39:01] ppdet.engine INFO: Detection bbox results save in output/000008.jpg\r\n"
     ]
    },
    {
     "name": "stderr",
     "output_type": "stream",
     "text": [
      "Warning: import ppdet from source directory without installing, run 'python setup.py install' to install ppdet firstly\r\n",
      "W0319 20:39:03.883507  1670 gpu_resources.cc:61] Please NOTE: device: 0, GPU Compute Capability: 7.0, Driver API Version: 11.2, Runtime API Version: 11.2\r\n",
      "W0319 20:39:03.887714  1670 gpu_resources.cc:91] device: 0, cuDNN Version: 8.2.\r\n"
     ]
    },
    {
     "name": "stdout",
     "output_type": "stream",
     "text": [
      "[03/19 20:39:06] ppdet.utils.checkpoint INFO: Finish loading model weights: /home/aistudio/output/yolov7_tiny_300e_coco/model_final.pdparams\r\n",
      "[03/19 20:39:06] ppdet.data.source.category WARNING: anno_file 'dataset/coco/annotations/instances_val2017.json' is None or not set or not exist, please recheck TrainDataset/EvalDataset/TestDataset.anno_path, otherwise the default categories will be used by metric_type.\r\n",
      "[03/19 20:39:06] ppdet.data.source.category WARNING: metric_type: COCO, load default categories of COCO.\r\n",
      "[03/19 20:39:06] ppdet.data.source.category WARNING: anno_file 'dataset/coco/annotations/instances_val2017.json' is None or not set or not exist, please recheck TrainDataset/EvalDataset/TestDataset.anno_path, otherwise the default categories will be used by metric_type.\r\n",
      "[03/19 20:39:06] ppdet.data.source.category WARNING: metric_type: COCO, load default categories of COCO.\r\n",
      "[03/19 20:39:06] ppdet.engine INFO: Test loader length is 1, test batch_size is 1.\r\n",
      "[03/19 20:39:06] ppdet.engine INFO: Starting predicting ......\r\n",
      "\r\n"
     ]
    },
    {
     "name": "stderr",
     "output_type": "stream",
     "text": [
      "100%|██████████| 1/1 [00:01<00:00,  1.30s/it]\r\n"
     ]
    },
    {
     "name": "stdout",
     "output_type": "stream",
     "text": [
      "[03/19 20:39:07] ppdet.metrics.metrics INFO: The bbox result is saved to bbox.json.\r\n",
      "[03/19 20:39:07] ppdet.metrics.metrics INFO: The bbox result is saved to output/bbox.json and do not evaluate the mAP.\r\n",
      "[03/19 20:39:07] ppdet.engine INFO: Detection bbox results save in output/000009.jpg\r\n"
     ]
    }
   ],
   "source": [
    "import os\n",
    "for i in range(1,10):\n",
    "    os.system(\"python /home/aistudio/PaddleYOLO/tools/infer.py -c /home/aistudio/PaddleYOLO/configs/yolov7/yolov7_tiny_300e_coco.yml -o weights=/home/aistudio/output/yolov7_tiny_300e_coco/model_final.pdparams --infer_img=/home/aistudio/wurenji/test/wg2022_ir_020_split_08/\"+str(i).zfill(6)+\".jpg --save_results ./test \")"
   ]
  },
  {
   "cell_type": "code",
   "execution_count": 11,
   "metadata": {
    "execution": {
     "iopub.execute_input": "2023-03-19T12:58:21.009352Z",
     "iopub.status.busy": "2023-03-19T12:58:21.008544Z",
     "iopub.status.idle": "2023-03-19T12:58:21.072884Z",
     "shell.execute_reply": "2023-03-19T12:58:21.071908Z",
     "shell.execute_reply.started": "2023-03-19T12:58:21.009312Z"
    },
    "scrolled": true
   },
   "outputs": [
    {
     "data": {
      "text/plain": [
       "0"
      ]
     },
     "execution_count": 11,
     "metadata": {},
     "output_type": "execute_result"
    }
   ],
   "source": [
    "import os\n",
    "os.system(\"rm -rf /home/aistudio/output/bbox.json\")\n",
    "os.system(\"rm -rf /home/aistudio/output/*.jpg\")"
   ]
  },
  {
   "cell_type": "markdown",
   "metadata": {},
   "source": [
    "## 全部文件夹"
   ]
  },
  {
   "cell_type": "code",
   "execution_count": 1,
   "metadata": {
    "execution": {
     "iopub.execute_input": "2023-03-19T13:44:43.722193Z",
     "iopub.status.busy": "2023-03-19T13:44:43.721679Z",
     "iopub.status.idle": "2023-03-19T14:10:21.229297Z",
     "shell.execute_reply": "2023-03-19T14:10:21.228131Z",
     "shell.execute_reply.started": "2023-03-19T13:44:43.722162Z"
    },
    "scrolled": true,
    "tags": []
   },
   "outputs": [
    {
     "name": "stderr",
     "output_type": "stream",
     "text": [
      "W0319 21:44:45.362495   628 gpu_resources.cc:61] Please NOTE: device: 0, GPU Compute Capability: 8.0, Driver API Version: 11.2, Runtime API Version: 11.2\r\n",
      "W0319 21:44:45.365794   628 gpu_resources.cc:91] device: 0, cuDNN Version: 8.2.\r\n"
     ]
    },
    {
     "name": "stdout",
     "output_type": "stream",
     "text": [
      "[03/19 21:44:47] ppdet.utils.checkpoint INFO: Finish loading model weights: /home/aistudio/output/yolov7_tiny_300e_coco/model_final.pdparams\r\n",
      "['/home/aistudio/wurenji/test/20190926_183941_1_9/000001.jpg', '/home/aistudio/wurenji/test/20190926_183941_1_9/000002.jpg', '/home/aistudio/wurenji/test/20190926_183941_1_9/000003.jpg', '/home/aistudio/wurenji/test/20190926_183941_1_9/000004.jpg', '/home/aistudio/wurenji/test/20190926_183941_1_9/000005.jpg', '/home/aistudio/wurenji/test/20190926_183941_1_9/000006.jpg', '/home/aistudio/wurenji/test/20190926_183941_1_9/000007.jpg', '/home/aistudio/wurenji/test/20190926_183941_1_9/000008.jpg', '/home/aistudio/wurenji/test/20190926_183941_1_9/000009.jpg', '/home/aistudio/wurenji/test/20190926_183941_1_9/000010.jpg', '/home/aistudio/wurenji/test/20190926_183941_1_9/000011.jpg', '/home/aistudio/wurenji/test/20190926_183941_1_9/000012.jpg', '/home/aistudio/wurenji/test/20190926_183941_1_9/000013.jpg', '/home/aistudio/wurenji/test/20190926_183941_1_9/000014.jpg', '/home/aistudio/wurenji/test/20190926_183941_1_9/000015.jpg', '/home/aistudio/wurenji/test/20190926_183941_1_9/000016.jpg', '/home/\r\n",
      "[03/19 21:44:47] train INFO: Found 163 inference images in total.\r\n",
      "[03/19 21:44:47] ppdet.data.source.category WARNING: anno_file 'dataset/coco/annotations/instances_val2017.json' is None or not set or not exist, please recheck TrainDataset/EvalDataset/TestDataset.anno_path, otherwise the default categories will be used by metric_type.\r\n",
      "[03/19 21:44:47] ppdet.data.source.category WARNING: metric_type: COCO, load default categories of COCO.\r\n",
      "[03/19 21:44:47] ppdet.data.source.category WARNING: anno_file 'dataset/coco/annotations/instances_val2017.json' is None or not set or not exist, please recheck TrainDataset/EvalDataset/TestDataset.anno_path, otherwise the default categories will be used by metric_type.\r\n",
      "[03/19 21:44:47] ppdet.data.source.category WARNING: metric_type: COCO, load default categories of COCO.\r\n",
      "[03/19 21:44:47] ppdet.engine INFO: Test loader length is 163, test batch_size is 1.\r\n",
      "[03/19 21:44:47] ppdet.engine INFO: Starting predicting ......\r\n",
      "\r\n"
     ]
    },
    {
     "name": "stderr",
     "output_type": "stream",
     "text": [
      "Warning: import ppdet from source directory without installing, run 'python setup.py install' to install ppdet firstly\r\n",
      "100%|██████████| 163/163 [00:06<00:00, 26.07it/s]\r\n"
     ]
    },
    {
     "name": "stdout",
     "output_type": "stream",
     "text": [
      "[03/19 21:44:53] ppdet.metrics.metrics INFO: The bbox result is saved to bbox.json.\r\n",
      "[03/19 21:44:53] ppdet.metrics.metrics INFO: The bbox result is saved to output/bbox.json and do not evaluate the mAP.\r\n"
     ]
    },
    {
     "name": "stderr",
     "output_type": "stream",
     "text": [
      "W0319 21:44:58.027827   743 gpu_resources.cc:61] Please NOTE: device: 0, GPU Compute Capability: 8.0, Driver API Version: 11.2, Runtime API Version: 11.2\r\n",
      "W0319 21:44:58.030959   743 gpu_resources.cc:91] device: 0, cuDNN Version: 8.2.\r\n"
     ]
    },
    {
     "name": "stdout",
     "output_type": "stream",
     "text": [
      "[03/19 21:44:59] ppdet.utils.checkpoint INFO: Finish loading model weights: /home/aistudio/output/yolov7_tiny_300e_coco/model_final.pdparams\r\n",
      "['/home/aistudio/wurenji/test/02_1610_0001_1500/000001.jpg', '/home/aistudio/wurenji/test/02_1610_0001_1500/000002.jpg', '/home/aistudio/wurenji/test/02_1610_0001_1500/000003.jpg', '/home/aistudio/wurenji/test/02_1610_0001_1500/000004.jpg', '/home/aistudio/wurenji/test/02_1610_0001_1500/000005.jpg', '/home/aistudio/wurenji/test/02_1610_0001_1500/000006.jpg', '/home/aistudio/wurenji/test/02_1610_0001_1500/000007.jpg', '/home/aistudio/wurenji/test/02_1610_0001_1500/000008.jpg', '/home/aistudio/wurenji/test/02_1610_0001_1500/000009.jpg', '/home/aistudio/wurenji/test/02_1610_0001_1500/000010.jpg', '/home/aistudio/wurenji/test/02_1610_0001_1500/000011.jpg', '/home/aistudio/wurenji/test/02_1610_0001_1500/000012.jpg', '/home/aistudio/wurenji/test/02_1610_0001_1500/000013.jpg', '/home/aistudio/wurenji/test/02_1610_0001_1500/000014.jpg', '/home/aistudio/wurenji/test/02_1610_0001_1500/000015.jpg', '/home/aistudio/wurenji/test/02_1610_0001_1500/000016.jpg', '/home/aistudio/wurenji/test/02_1610_00\r\n",
      "[03/19 21:44:59] train INFO: Found 1500 inference images in total.\r\n",
      "[03/19 21:44:59] ppdet.data.source.category WARNING: anno_file 'dataset/coco/annotations/instances_val2017.json' is None or not set or not exist, please recheck TrainDataset/EvalDataset/TestDataset.anno_path, otherwise the default categories will be used by metric_type.\r\n",
      "[03/19 21:44:59] ppdet.data.source.category WARNING: metric_type: COCO, load default categories of COCO.\r\n",
      "[03/19 21:44:59] ppdet.data.source.category WARNING: anno_file 'dataset/coco/annotations/instances_val2017.json' is None or not set or not exist, please recheck TrainDataset/EvalDataset/TestDataset.anno_path, otherwise the default categories will be used by metric_type.\r\n",
      "[03/19 21:44:59] ppdet.data.source.category WARNING: metric_type: COCO, load default categories of COCO.\r\n",
      "[03/19 21:44:59] ppdet.engine INFO: Test loader length is 1500, test batch_size is 1.\r\n",
      "[03/19 21:44:59] ppdet.engine INFO: Starting predicting ......\r\n",
      "\r\n"
     ]
    },
    {
     "name": "stderr",
     "output_type": "stream",
     "text": [
      "Warning: import ppdet from source directory without installing, run 'python setup.py install' to install ppdet firstly\r\n",
      "100%|██████████| 1500/1500 [00:28<00:00, 51.76it/s]"
     ]
    },
    {
     "name": "stdout",
     "output_type": "stream",
     "text": [
      "[03/19 21:45:29] ppdet.metrics.metrics INFO: The bbox result is saved to bbox.json.\r\n",
      "[03/19 21:45:29] ppdet.metrics.metrics INFO: The bbox result is saved to output/bbox.json and do not evaluate the mAP.\r\n"
     ]
    },
    {
     "name": "stderr",
     "output_type": "stream",
     "text": [
      "\r\n",
      "W0319 21:45:33.448628   939 gpu_resources.cc:61] Please NOTE: device: 0, GPU Compute Capability: 8.0, Driver API Version: 11.2, Runtime API Version: 11.2\r\n",
      "W0319 21:45:33.451918   939 gpu_resources.cc:91] device: 0, cuDNN Version: 8.2.\r\n"
     ]
    },
    {
     "name": "stdout",
     "output_type": "stream",
     "text": [
      "[03/19 21:45:34] ppdet.utils.checkpoint INFO: Finish loading model weights: /home/aistudio/output/yolov7_tiny_300e_coco/model_final.pdparams\r\n",
      "['/home/aistudio/wurenji/test/3700000000002_140908_1/000001.jpg', '/home/aistudio/wurenji/test/3700000000002_140908_1/000002.jpg', '/home/aistudio/wurenji/test/3700000000002_140908_1/000003.jpg', '/home/aistudio/wurenji/test/3700000000002_140908_1/000004.jpg', '/home/aistudio/wurenji/test/3700000000002_140908_1/000005.jpg', '/home/aistudio/wurenji/test/3700000000002_140908_1/000006.jpg', '/home/aistudio/wurenji/test/3700000000002_140908_1/000007.jpg', '/home/aistudio/wurenji/test/3700000000002_140908_1/000008.jpg', '/home/aistudio/wurenji/test/3700000000002_140908_1/000009.jpg', '/home/aistudio/wurenji/test/3700000000002_140908_1/000010.jpg', '/home/aistudio/wurenji/test/3700000000002_140908_1/000011.jpg', '/home/aistudio/wurenji/test/3700000000002_140908_1/000012.jpg', '/home/aistudio/wurenji/test/3700000000002_140908_1/000013.jpg', '/home/aistudio/wurenji/test/3700000000002_140908_1/000014.jpg', '/home/aistudio/wurenji/test/3700000000002_140908_1/000015.jpg', '/home/aistudio/wurenji/\r\n",
      "[03/19 21:45:35] train INFO: Found 1500 inference images in total.\r\n",
      "[03/19 21:45:35] ppdet.data.source.category WARNING: anno_file 'dataset/coco/annotations/instances_val2017.json' is None or not set or not exist, please recheck TrainDataset/EvalDataset/TestDataset.anno_path, otherwise the default categories will be used by metric_type.\r\n",
      "[03/19 21:45:35] ppdet.data.source.category WARNING: metric_type: COCO, load default categories of COCO.\r\n",
      "[03/19 21:45:35] ppdet.data.source.category WARNING: anno_file 'dataset/coco/annotations/instances_val2017.json' is None or not set or not exist, please recheck TrainDataset/EvalDataset/TestDataset.anno_path, otherwise the default categories will be used by metric_type.\r\n",
      "[03/19 21:45:35] ppdet.data.source.category WARNING: metric_type: COCO, load default categories of COCO.\r\n",
      "[03/19 21:45:35] ppdet.engine INFO: Test loader length is 1500, test batch_size is 1.\r\n",
      "[03/19 21:45:35] ppdet.engine INFO: Starting predicting ......\r\n",
      "\r\n"
     ]
    },
    {
     "name": "stderr",
     "output_type": "stream",
     "text": [
      "Warning: import ppdet from source directory without installing, run 'python setup.py install' to install ppdet firstly\r\n",
      "100%|██████████| 1500/1500 [00:29<00:00, 51.19it/s]"
     ]
    },
    {
     "name": "stdout",
     "output_type": "stream",
     "text": [
      "[03/19 21:46:05] ppdet.metrics.metrics INFO: The bbox result is saved to bbox.json.\r\n",
      "[03/19 21:46:05] ppdet.metrics.metrics INFO: The bbox result is saved to output/bbox.json and do not evaluate the mAP.\r\n"
     ]
    },
    {
     "name": "stderr",
     "output_type": "stream",
     "text": [
      "\r\n",
      "W0319 21:46:09.867446  1132 gpu_resources.cc:61] Please NOTE: device: 0, GPU Compute Capability: 8.0, Driver API Version: 11.2, Runtime API Version: 11.2\r\n",
      "W0319 21:46:09.870610  1132 gpu_resources.cc:91] device: 0, cuDNN Version: 8.2.\r\n"
     ]
    },
    {
     "name": "stdout",
     "output_type": "stream",
     "text": [
      "[03/19 21:46:12] ppdet.utils.checkpoint INFO: Finish loading model weights: /home/aistudio/output/yolov7_tiny_300e_coco/model_final.pdparams\r\n",
      "['/home/aistudio/wurenji/test/wg2022_ir_020_split_08/000001.jpg', '/home/aistudio/wurenji/test/wg2022_ir_020_split_08/000002.jpg', '/home/aistudio/wurenji/test/wg2022_ir_020_split_08/000003.jpg', '/home/aistudio/wurenji/test/wg2022_ir_020_split_08/000004.jpg', '/home/aistudio/wurenji/test/wg2022_ir_020_split_08/000005.jpg', '/home/aistudio/wurenji/test/wg2022_ir_020_split_08/000006.jpg', '/home/aistudio/wurenji/test/wg2022_ir_020_split_08/000007.jpg', '/home/aistudio/wurenji/test/wg2022_ir_020_split_08/000008.jpg', '/home/aistudio/wurenji/test/wg2022_ir_020_split_08/000009.jpg', '/home/aistudio/wurenji/test/wg2022_ir_020_split_08/000010.jpg', '/home/aistudio/wurenji/test/wg2022_ir_020_split_08/000011.jpg', '/home/aistudio/wurenji/test/wg2022_ir_020_split_08/000012.jpg', '/home/aistudio/wurenji/test/wg2022_ir_020_split_08/000013.jpg', '/home/aistudio/wurenji/test/wg2022_ir_020_split_08/000014.jpg', '/home/aistudio/wurenji/test/wg2022_ir_020_split_08/000015.jpg', '/home/aistudio/wurenji/\r\n",
      "[03/19 21:46:12] train INFO: Found 1500 inference images in total.\r\n",
      "[03/19 21:46:12] ppdet.data.source.category WARNING: anno_file 'dataset/coco/annotations/instances_val2017.json' is None or not set or not exist, please recheck TrainDataset/EvalDataset/TestDataset.anno_path, otherwise the default categories will be used by metric_type.\r\n",
      "[03/19 21:46:12] ppdet.data.source.category WARNING: metric_type: COCO, load default categories of COCO.\r\n",
      "[03/19 21:46:12] ppdet.data.source.category WARNING: anno_file 'dataset/coco/annotations/instances_val2017.json' is None or not set or not exist, please recheck TrainDataset/EvalDataset/TestDataset.anno_path, otherwise the default categories will be used by metric_type.\r\n",
      "[03/19 21:46:12] ppdet.data.source.category WARNING: metric_type: COCO, load default categories of COCO.\r\n",
      "[03/19 21:46:12] ppdet.engine INFO: Test loader length is 1500, test batch_size is 1.\r\n",
      "[03/19 21:46:12] ppdet.engine INFO: Starting predicting ......\r\n",
      "\r\n"
     ]
    },
    {
     "name": "stderr",
     "output_type": "stream",
     "text": [
      "Warning: import ppdet from source directory without installing, run 'python setup.py install' to install ppdet firstly\r\n",
      "100%|██████████| 1500/1500 [00:29<00:00, 51.13it/s]\r\n"
     ]
    },
    {
     "name": "stdout",
     "output_type": "stream",
     "text": [
      "[03/19 21:46:41] ppdet.metrics.metrics INFO: The bbox result is saved to bbox.json.\r\n",
      "[03/19 21:46:41] ppdet.metrics.metrics INFO: The bbox result is saved to output/bbox.json and do not evaluate the mAP.\r\n"
     ]
    },
    {
     "name": "stderr",
     "output_type": "stream",
     "text": [
      "W0319 21:46:46.635975  1376 gpu_resources.cc:61] Please NOTE: device: 0, GPU Compute Capability: 8.0, Driver API Version: 11.2, Runtime API Version: 11.2\r\n",
      "W0319 21:46:46.639153  1376 gpu_resources.cc:91] device: 0, cuDNN Version: 8.2.\r\n"
     ]
    },
    {
     "name": "stdout",
     "output_type": "stream",
     "text": [
      "[03/19 21:46:48] ppdet.utils.checkpoint INFO: Finish loading model weights: /home/aistudio/output/yolov7_tiny_300e_coco/model_final.pdparams\r\n",
      "['/home/aistudio/wurenji/test/3700000000002_113556_2/000001.jpg', '/home/aistudio/wurenji/test/3700000000002_113556_2/000002.jpg', '/home/aistudio/wurenji/test/3700000000002_113556_2/000003.jpg', '/home/aistudio/wurenji/test/3700000000002_113556_2/000004.jpg', '/home/aistudio/wurenji/test/3700000000002_113556_2/000005.jpg', '/home/aistudio/wurenji/test/3700000000002_113556_2/000006.jpg', '/home/aistudio/wurenji/test/3700000000002_113556_2/000007.jpg', '/home/aistudio/wurenji/test/3700000000002_113556_2/000008.jpg', '/home/aistudio/wurenji/test/3700000000002_113556_2/000009.jpg', '/home/aistudio/wurenji/test/3700000000002_113556_2/000010.jpg', '/home/aistudio/wurenji/test/3700000000002_113556_2/000011.jpg', '/home/aistudio/wurenji/test/3700000000002_113556_2/000012.jpg', '/home/aistudio/wurenji/test/3700000000002_113556_2/000013.jpg', '/home/aistudio/wurenji/test/3700000000002_113556_2/000014.jpg', '/home/aistudio/wurenji/test/3700000000002_113556_2/000015.jpg', '/home/aistudio/wurenji/\r\n",
      "[03/19 21:46:48] train INFO: Found 1500 inference images in total.\r\n",
      "[03/19 21:46:48] ppdet.data.source.category WARNING: anno_file 'dataset/coco/annotations/instances_val2017.json' is None or not set or not exist, please recheck TrainDataset/EvalDataset/TestDataset.anno_path, otherwise the default categories will be used by metric_type.\r\n",
      "[03/19 21:46:48] ppdet.data.source.category WARNING: metric_type: COCO, load default categories of COCO.\r\n",
      "[03/19 21:46:48] ppdet.data.source.category WARNING: anno_file 'dataset/coco/annotations/instances_val2017.json' is None or not set or not exist, please recheck TrainDataset/EvalDataset/TestDataset.anno_path, otherwise the default categories will be used by metric_type.\r\n",
      "[03/19 21:46:48] ppdet.data.source.category WARNING: metric_type: COCO, load default categories of COCO.\r\n",
      "[03/19 21:46:48] ppdet.engine INFO: Test loader length is 1500, test batch_size is 1.\r\n",
      "[03/19 21:46:48] ppdet.engine INFO: Starting predicting ......\r\n",
      "\r\n"
     ]
    },
    {
     "name": "stderr",
     "output_type": "stream",
     "text": [
      "Warning: import ppdet from source directory without installing, run 'python setup.py install' to install ppdet firstly\r\n",
      "100%|██████████| 1500/1500 [00:30<00:00, 49.81it/s]"
     ]
    },
    {
     "name": "stdout",
     "output_type": "stream",
     "text": [
      "[03/19 21:47:18] ppdet.metrics.metrics INFO: The bbox result is saved to bbox.json.\r\n",
      "[03/19 21:47:18] ppdet.metrics.metrics INFO: The bbox result is saved to output/bbox.json and do not evaluate the mAP.\r\n"
     ]
    },
    {
     "name": "stderr",
     "output_type": "stream",
     "text": [
      "\r\n",
      "W0319 21:47:24.081068  1533 gpu_resources.cc:61] Please NOTE: device: 0, GPU Compute Capability: 8.0, Driver API Version: 11.2, Runtime API Version: 11.2\r\n",
      "W0319 21:47:24.084304  1533 gpu_resources.cc:91] device: 0, cuDNN Version: 8.2.\r\n"
     ]
    },
    {
     "name": "stdout",
     "output_type": "stream",
     "text": [
      "[03/19 21:47:25] ppdet.utils.checkpoint INFO: Finish loading model weights: /home/aistudio/output/yolov7_tiny_300e_coco/model_final.pdparams\r\n",
      "['/home/aistudio/wurenji/test/20190926_200510_1_4/000001.jpg', '/home/aistudio/wurenji/test/20190926_200510_1_4/000002.jpg', '/home/aistudio/wurenji/test/20190926_200510_1_4/000003.jpg', '/home/aistudio/wurenji/test/20190926_200510_1_4/000004.jpg', '/home/aistudio/wurenji/test/20190926_200510_1_4/000005.jpg', '/home/aistudio/wurenji/test/20190926_200510_1_4/000006.jpg', '/home/aistudio/wurenji/test/20190926_200510_1_4/000007.jpg', '/home/aistudio/wurenji/test/20190926_200510_1_4/000008.jpg', '/home/aistudio/wurenji/test/20190926_200510_1_4/000009.jpg', '/home/aistudio/wurenji/test/20190926_200510_1_4/000010.jpg', '/home/aistudio/wurenji/test/20190926_200510_1_4/000011.jpg', '/home/aistudio/wurenji/test/20190926_200510_1_4/000012.jpg', '/home/aistudio/wurenji/test/20190926_200510_1_4/000013.jpg', '/home/aistudio/wurenji/test/20190926_200510_1_4/000014.jpg', '/home/aistudio/wurenji/test/20190926_200510_1_4/000015.jpg', '/home/aistudio/wurenji/test/20190926_200510_1_4/000016.jpg', '/home/\r\n",
      "[03/19 21:47:25] train INFO: Found 1000 inference images in total.\r\n",
      "[03/19 21:47:25] ppdet.data.source.category WARNING: anno_file 'dataset/coco/annotations/instances_val2017.json' is None or not set or not exist, please recheck TrainDataset/EvalDataset/TestDataset.anno_path, otherwise the default categories will be used by metric_type.\r\n",
      "[03/19 21:47:25] ppdet.data.source.category WARNING: metric_type: COCO, load default categories of COCO.\r\n",
      "[03/19 21:47:25] ppdet.data.source.category WARNING: anno_file 'dataset/coco/annotations/instances_val2017.json' is None or not set or not exist, please recheck TrainDataset/EvalDataset/TestDataset.anno_path, otherwise the default categories will be used by metric_type.\r\n",
      "[03/19 21:47:25] ppdet.data.source.category WARNING: metric_type: COCO, load default categories of COCO.\r\n",
      "[03/19 21:47:25] ppdet.engine INFO: Test loader length is 1000, test batch_size is 1.\r\n",
      "[03/19 21:47:25] ppdet.engine INFO: Starting predicting ......\r\n",
      "\r\n"
     ]
    },
    {
     "name": "stderr",
     "output_type": "stream",
     "text": [
      "Warning: import ppdet from source directory without installing, run 'python setup.py install' to install ppdet firstly\r\n",
      "100%|██████████| 1000/1000 [00:20<00:00, 49.98it/s]\r\n"
     ]
    },
    {
     "name": "stdout",
     "output_type": "stream",
     "text": [
      "[03/19 21:47:45] ppdet.metrics.metrics INFO: The bbox result is saved to bbox.json.\r\n",
      "[03/19 21:47:45] ppdet.metrics.metrics INFO: The bbox result is saved to output/bbox.json and do not evaluate the mAP.\r\n"
     ]
    },
    {
     "name": "stderr",
     "output_type": "stream",
     "text": [
      "W0319 21:47:50.016175  1754 gpu_resources.cc:61] Please NOTE: device: 0, GPU Compute Capability: 8.0, Driver API Version: 11.2, Runtime API Version: 11.2\r\n",
      "W0319 21:47:50.019291  1754 gpu_resources.cc:91] device: 0, cuDNN Version: 8.2.\r\n"
     ]
    },
    {
     "name": "stdout",
     "output_type": "stream",
     "text": [
      "[03/19 21:47:51] ppdet.utils.checkpoint INFO: Finish loading model weights: /home/aistudio/output/yolov7_tiny_300e_coco/model_final.pdparams\r\n",
      "['/home/aistudio/wurenji/test/20190926_183400_1_3/000001.jpg', '/home/aistudio/wurenji/test/20190926_183400_1_3/000002.jpg', '/home/aistudio/wurenji/test/20190926_183400_1_3/000003.jpg', '/home/aistudio/wurenji/test/20190926_183400_1_3/000004.jpg', '/home/aistudio/wurenji/test/20190926_183400_1_3/000005.jpg', '/home/aistudio/wurenji/test/20190926_183400_1_3/000006.jpg', '/home/aistudio/wurenji/test/20190926_183400_1_3/000007.jpg', '/home/aistudio/wurenji/test/20190926_183400_1_3/000008.jpg', '/home/aistudio/wurenji/test/20190926_183400_1_3/000009.jpg', '/home/aistudio/wurenji/test/20190926_183400_1_3/000010.jpg', '/home/aistudio/wurenji/test/20190926_183400_1_3/000011.jpg', '/home/aistudio/wurenji/test/20190926_183400_1_3/000012.jpg', '/home/aistudio/wurenji/test/20190926_183400_1_3/000013.jpg', '/home/aistudio/wurenji/test/20190926_183400_1_3/000014.jpg', '/home/aistudio/wurenji/test/20190926_183400_1_3/000015.jpg', '/home/aistudio/wurenji/test/20190926_183400_1_3/000016.jpg', '/home/\r\n",
      "[03/19 21:47:51] train INFO: Found 1000 inference images in total.\r\n",
      "[03/19 21:47:51] ppdet.data.source.category WARNING: anno_file 'dataset/coco/annotations/instances_val2017.json' is None or not set or not exist, please recheck TrainDataset/EvalDataset/TestDataset.anno_path, otherwise the default categories will be used by metric_type.\r\n",
      "[03/19 21:47:51] ppdet.data.source.category WARNING: metric_type: COCO, load default categories of COCO.\r\n",
      "[03/19 21:47:51] ppdet.data.source.category WARNING: anno_file 'dataset/coco/annotations/instances_val2017.json' is None or not set or not exist, please recheck TrainDataset/EvalDataset/TestDataset.anno_path, otherwise the default categories will be used by metric_type.\r\n",
      "[03/19 21:47:51] ppdet.data.source.category WARNING: metric_type: COCO, load default categories of COCO.\r\n",
      "[03/19 21:47:51] ppdet.engine INFO: Test loader length is 1000, test batch_size is 1.\r\n",
      "[03/19 21:47:51] ppdet.engine INFO: Starting predicting ......\r\n",
      "\r\n"
     ]
    },
    {
     "name": "stderr",
     "output_type": "stream",
     "text": [
      "Warning: import ppdet from source directory without installing, run 'python setup.py install' to install ppdet firstly\r\n",
      "100%|██████████| 1000/1000 [00:20<00:00, 47.79it/s]\r\n"
     ]
    },
    {
     "name": "stdout",
     "output_type": "stream",
     "text": [
      "[03/19 21:48:12] ppdet.metrics.metrics INFO: The bbox result is saved to bbox.json.\r\n",
      "[03/19 21:48:12] ppdet.metrics.metrics INFO: The bbox result is saved to output/bbox.json and do not evaluate the mAP.\r\n"
     ]
    },
    {
     "name": "stderr",
     "output_type": "stream",
     "text": [
      "W0319 21:48:16.941978  1894 gpu_resources.cc:61] Please NOTE: device: 0, GPU Compute Capability: 8.0, Driver API Version: 11.2, Runtime API Version: 11.2\r\n",
      "W0319 21:48:16.945145  1894 gpu_resources.cc:91] device: 0, cuDNN Version: 8.2.\r\n"
     ]
    },
    {
     "name": "stdout",
     "output_type": "stream",
     "text": [
      "[03/19 21:48:18] ppdet.utils.checkpoint INFO: Finish loading model weights: /home/aistudio/output/yolov7_tiny_300e_coco/model_final.pdparams\r\n",
      "['/home/aistudio/wurenji/test/20190925_124612_1_4/000001.jpg', '/home/aistudio/wurenji/test/20190925_124612_1_4/000002.jpg', '/home/aistudio/wurenji/test/20190925_124612_1_4/000003.jpg', '/home/aistudio/wurenji/test/20190925_124612_1_4/000004.jpg', '/home/aistudio/wurenji/test/20190925_124612_1_4/000005.jpg', '/home/aistudio/wurenji/test/20190925_124612_1_4/000006.jpg', '/home/aistudio/wurenji/test/20190925_124612_1_4/000007.jpg', '/home/aistudio/wurenji/test/20190925_124612_1_4/000008.jpg', '/home/aistudio/wurenji/test/20190925_124612_1_4/000009.jpg', '/home/aistudio/wurenji/test/20190925_124612_1_4/000010.jpg', '/home/aistudio/wurenji/test/20190925_124612_1_4/000011.jpg', '/home/aistudio/wurenji/test/20190925_124612_1_4/000012.jpg', '/home/aistudio/wurenji/test/20190925_124612_1_4/000013.jpg', '/home/aistudio/wurenji/test/20190925_124612_1_4/000014.jpg', '/home/aistudio/wurenji/test/20190925_124612_1_4/000015.jpg', '/home/aistudio/wurenji/test/20190925_124612_1_4/000016.jpg', '/home/\r\n",
      "[03/19 21:48:18] train INFO: Found 1000 inference images in total.\r\n",
      "[03/19 21:48:18] ppdet.data.source.category WARNING: anno_file 'dataset/coco/annotations/instances_val2017.json' is None or not set or not exist, please recheck TrainDataset/EvalDataset/TestDataset.anno_path, otherwise the default categories will be used by metric_type.\r\n",
      "[03/19 21:48:18] ppdet.data.source.category WARNING: metric_type: COCO, load default categories of COCO.\r\n",
      "[03/19 21:48:18] ppdet.data.source.category WARNING: anno_file 'dataset/coco/annotations/instances_val2017.json' is None or not set or not exist, please recheck TrainDataset/EvalDataset/TestDataset.anno_path, otherwise the default categories will be used by metric_type.\r\n",
      "[03/19 21:48:18] ppdet.data.source.category WARNING: metric_type: COCO, load default categories of COCO.\r\n",
      "[03/19 21:48:18] ppdet.engine INFO: Test loader length is 1000, test batch_size is 1.\r\n",
      "[03/19 21:48:18] ppdet.engine INFO: Starting predicting ......\r\n",
      "\r\n"
     ]
    },
    {
     "name": "stderr",
     "output_type": "stream",
     "text": [
      "Warning: import ppdet from source directory without installing, run 'python setup.py install' to install ppdet firstly\r\n",
      "100%|██████████| 1000/1000 [00:20<00:00, 47.75it/s]"
     ]
    },
    {
     "name": "stdout",
     "output_type": "stream",
     "text": [
      "[03/19 21:48:39] ppdet.metrics.metrics INFO: The bbox result is saved to bbox.json.\r\n",
      "[03/19 21:48:39] ppdet.metrics.metrics INFO: The bbox result is saved to output/bbox.json and do not evaluate the mAP.\r\n"
     ]
    },
    {
     "name": "stderr",
     "output_type": "stream",
     "text": [
      "\r\n",
      "W0319 21:48:44.637671  2076 gpu_resources.cc:61] Please NOTE: device: 0, GPU Compute Capability: 8.0, Driver API Version: 11.2, Runtime API Version: 11.2\r\n",
      "W0319 21:48:44.640693  2076 gpu_resources.cc:91] device: 0, cuDNN Version: 8.2.\r\n"
     ]
    },
    {
     "name": "stdout",
     "output_type": "stream",
     "text": [
      "[03/19 21:48:46] ppdet.utils.checkpoint INFO: Finish loading model weights: /home/aistudio/output/yolov7_tiny_300e_coco/model_final.pdparams\r\n",
      "['/home/aistudio/wurenji/test/20190925_222534_1_4/000001.jpg', '/home/aistudio/wurenji/test/20190925_222534_1_4/000002.jpg', '/home/aistudio/wurenji/test/20190925_222534_1_4/000003.jpg', '/home/aistudio/wurenji/test/20190925_222534_1_4/000004.jpg', '/home/aistudio/wurenji/test/20190925_222534_1_4/000005.jpg', '/home/aistudio/wurenji/test/20190925_222534_1_4/000006.jpg', '/home/aistudio/wurenji/test/20190925_222534_1_4/000007.jpg', '/home/aistudio/wurenji/test/20190925_222534_1_4/000008.jpg', '/home/aistudio/wurenji/test/20190925_222534_1_4/000009.jpg', '/home/aistudio/wurenji/test/20190925_222534_1_4/000010.jpg', '/home/aistudio/wurenji/test/20190925_222534_1_4/000011.jpg', '/home/aistudio/wurenji/test/20190925_222534_1_4/000012.jpg', '/home/aistudio/wurenji/test/20190925_222534_1_4/000013.jpg', '/home/aistudio/wurenji/test/20190925_222534_1_4/000014.jpg', '/home/aistudio/wurenji/test/20190925_222534_1_4/000015.jpg', '/home/aistudio/wurenji/test/20190925_222534_1_4/000016.jpg', '/home/\r\n",
      "[03/19 21:48:46] train INFO: Found 987 inference images in total.\r\n",
      "[03/19 21:48:46] ppdet.data.source.category WARNING: anno_file 'dataset/coco/annotations/instances_val2017.json' is None or not set or not exist, please recheck TrainDataset/EvalDataset/TestDataset.anno_path, otherwise the default categories will be used by metric_type.\r\n",
      "[03/19 21:48:46] ppdet.data.source.category WARNING: metric_type: COCO, load default categories of COCO.\r\n",
      "[03/19 21:48:46] ppdet.data.source.category WARNING: anno_file 'dataset/coco/annotations/instances_val2017.json' is None or not set or not exist, please recheck TrainDataset/EvalDataset/TestDataset.anno_path, otherwise the default categories will be used by metric_type.\r\n",
      "[03/19 21:48:46] ppdet.data.source.category WARNING: metric_type: COCO, load default categories of COCO.\r\n",
      "[03/19 21:48:46] ppdet.engine INFO: Test loader length is 987, test batch_size is 1.\r\n",
      "[03/19 21:48:46] ppdet.engine INFO: Starting predicting ......\r\n",
      "\r\n"
     ]
    },
    {
     "name": "stderr",
     "output_type": "stream",
     "text": [
      "Warning: import ppdet from source directory without installing, run 'python setup.py install' to install ppdet firstly\r\n",
      "100%|██████████| 987/987 [00:20<00:00, 49.20it/s]\r\n"
     ]
    },
    {
     "name": "stdout",
     "output_type": "stream",
     "text": [
      "[03/19 21:49:06] ppdet.metrics.metrics INFO: The bbox result is saved to bbox.json.\r\n",
      "[03/19 21:49:06] ppdet.metrics.metrics INFO: The bbox result is saved to output/bbox.json and do not evaluate the mAP.\r\n"
     ]
    },
    {
     "name": "stderr",
     "output_type": "stream",
     "text": [
      "W0319 21:49:10.672559  2262 gpu_resources.cc:61] Please NOTE: device: 0, GPU Compute Capability: 8.0, Driver API Version: 11.2, Runtime API Version: 11.2\r\n",
      "W0319 21:49:10.675587  2262 gpu_resources.cc:91] device: 0, cuDNN Version: 8.2.\r\n"
     ]
    },
    {
     "name": "stdout",
     "output_type": "stream",
     "text": [
      "[03/19 21:49:12] ppdet.utils.checkpoint INFO: Finish loading model weights: /home/aistudio/output/yolov7_tiny_300e_coco/model_final.pdparams\r\n",
      "['/home/aistudio/wurenji/test/wg2022_ir_048_split_03/000001.jpg', '/home/aistudio/wurenji/test/wg2022_ir_048_split_03/000002.jpg', '/home/aistudio/wurenji/test/wg2022_ir_048_split_03/000003.jpg', '/home/aistudio/wurenji/test/wg2022_ir_048_split_03/000004.jpg', '/home/aistudio/wurenji/test/wg2022_ir_048_split_03/000005.jpg', '/home/aistudio/wurenji/test/wg2022_ir_048_split_03/000006.jpg', '/home/aistudio/wurenji/test/wg2022_ir_048_split_03/000007.jpg', '/home/aistudio/wurenji/test/wg2022_ir_048_split_03/000008.jpg', '/home/aistudio/wurenji/test/wg2022_ir_048_split_03/000009.jpg', '/home/aistudio/wurenji/test/wg2022_ir_048_split_03/000010.jpg', '/home/aistudio/wurenji/test/wg2022_ir_048_split_03/000011.jpg', '/home/aistudio/wurenji/test/wg2022_ir_048_split_03/000012.jpg', '/home/aistudio/wurenji/test/wg2022_ir_048_split_03/000013.jpg', '/home/aistudio/wurenji/test/wg2022_ir_048_split_03/000014.jpg', '/home/aistudio/wurenji/test/wg2022_ir_048_split_03/000015.jpg', '/home/aistudio/wurenji/\r\n",
      "[03/19 21:49:12] train INFO: Found 1500 inference images in total.\r\n",
      "[03/19 21:49:12] ppdet.data.source.category WARNING: anno_file 'dataset/coco/annotations/instances_val2017.json' is None or not set or not exist, please recheck TrainDataset/EvalDataset/TestDataset.anno_path, otherwise the default categories will be used by metric_type.\r\n",
      "[03/19 21:49:12] ppdet.data.source.category WARNING: metric_type: COCO, load default categories of COCO.\r\n",
      "[03/19 21:49:12] ppdet.data.source.category WARNING: anno_file 'dataset/coco/annotations/instances_val2017.json' is None or not set or not exist, please recheck TrainDataset/EvalDataset/TestDataset.anno_path, otherwise the default categories will be used by metric_type.\r\n",
      "[03/19 21:49:12] ppdet.data.source.category WARNING: metric_type: COCO, load default categories of COCO.\r\n",
      "[03/19 21:49:12] ppdet.engine INFO: Test loader length is 1500, test batch_size is 1.\r\n",
      "[03/19 21:49:12] ppdet.engine INFO: Starting predicting ......\r\n",
      "\r\n"
     ]
    },
    {
     "name": "stderr",
     "output_type": "stream",
     "text": [
      "Warning: import ppdet from source directory without installing, run 'python setup.py install' to install ppdet firstly\r\n",
      "100%|██████████| 1500/1500 [00:30<00:00, 48.68it/s]"
     ]
    },
    {
     "name": "stdout",
     "output_type": "stream",
     "text": [
      "[03/19 21:49:43] ppdet.metrics.metrics INFO: The bbox result is saved to bbox.json.\r\n",
      "[03/19 21:49:43] ppdet.metrics.metrics INFO: The bbox result is saved to output/bbox.json and do not evaluate the mAP.\r\n"
     ]
    },
    {
     "name": "stderr",
     "output_type": "stream",
     "text": [
      "\r\n",
      "W0319 21:49:48.839165  2457 gpu_resources.cc:61] Please NOTE: device: 0, GPU Compute Capability: 8.0, Driver API Version: 11.2, Runtime API Version: 11.2\r\n",
      "W0319 21:49:48.842370  2457 gpu_resources.cc:91] device: 0, cuDNN Version: 8.2.\r\n"
     ]
    },
    {
     "name": "stdout",
     "output_type": "stream",
     "text": [
      "[03/19 21:49:50] ppdet.utils.checkpoint INFO: Finish loading model weights: /home/aistudio/output/yolov7_tiny_300e_coco/model_final.pdparams\r\n",
      "['/home/aistudio/wurenji/test/20190925_194211_1_2/000001.jpg', '/home/aistudio/wurenji/test/20190925_194211_1_2/000002.jpg', '/home/aistudio/wurenji/test/20190925_194211_1_2/000003.jpg', '/home/aistudio/wurenji/test/20190925_194211_1_2/000004.jpg', '/home/aistudio/wurenji/test/20190925_194211_1_2/000005.jpg', '/home/aistudio/wurenji/test/20190925_194211_1_2/000006.jpg', '/home/aistudio/wurenji/test/20190925_194211_1_2/000007.jpg', '/home/aistudio/wurenji/test/20190925_194211_1_2/000008.jpg', '/home/aistudio/wurenji/test/20190925_194211_1_2/000009.jpg', '/home/aistudio/wurenji/test/20190925_194211_1_2/000010.jpg', '/home/aistudio/wurenji/test/20190925_194211_1_2/000011.jpg', '/home/aistudio/wurenji/test/20190925_194211_1_2/000012.jpg', '/home/aistudio/wurenji/test/20190925_194211_1_2/000013.jpg', '/home/aistudio/wurenji/test/20190925_194211_1_2/000014.jpg', '/home/aistudio/wurenji/test/20190925_194211_1_2/000015.jpg', '/home/aistudio/wurenji/test/20190925_194211_1_2/000016.jpg', '/home/\r\n",
      "[03/19 21:49:50] train INFO: Found 956 inference images in total.\r\n",
      "[03/19 21:49:50] ppdet.data.source.category WARNING: anno_file 'dataset/coco/annotations/instances_val2017.json' is None or not set or not exist, please recheck TrainDataset/EvalDataset/TestDataset.anno_path, otherwise the default categories will be used by metric_type.\r\n",
      "[03/19 21:49:50] ppdet.data.source.category WARNING: metric_type: COCO, load default categories of COCO.\r\n",
      "[03/19 21:49:50] ppdet.data.source.category WARNING: anno_file 'dataset/coco/annotations/instances_val2017.json' is None or not set or not exist, please recheck TrainDataset/EvalDataset/TestDataset.anno_path, otherwise the default categories will be used by metric_type.\r\n",
      "[03/19 21:49:50] ppdet.data.source.category WARNING: metric_type: COCO, load default categories of COCO.\r\n",
      "[03/19 21:49:50] ppdet.engine INFO: Test loader length is 956, test batch_size is 1.\r\n",
      "[03/19 21:49:50] ppdet.engine INFO: Starting predicting ......\r\n",
      "\r\n"
     ]
    },
    {
     "name": "stderr",
     "output_type": "stream",
     "text": [
      "Warning: import ppdet from source directory without installing, run 'python setup.py install' to install ppdet firstly\r\n",
      "100%|██████████| 956/956 [00:19<00:00, 48.71it/s]\r\n"
     ]
    },
    {
     "name": "stdout",
     "output_type": "stream",
     "text": [
      "[03/19 21:50:10] ppdet.metrics.metrics INFO: The bbox result is saved to bbox.json.\r\n",
      "[03/19 21:50:10] ppdet.metrics.metrics INFO: The bbox result is saved to output/bbox.json and do not evaluate the mAP.\r\n"
     ]
    },
    {
     "name": "stderr",
     "output_type": "stream",
     "text": [
      "W0319 21:50:15.267163  2640 gpu_resources.cc:61] Please NOTE: device: 0, GPU Compute Capability: 8.0, Driver API Version: 11.2, Runtime API Version: 11.2\r\n",
      "W0319 21:50:15.270195  2640 gpu_resources.cc:91] device: 0, cuDNN Version: 8.2.\r\n"
     ]
    },
    {
     "name": "stdout",
     "output_type": "stream",
     "text": [
      "[03/19 21:50:16] ppdet.utils.checkpoint INFO: Finish loading model weights: /home/aistudio/output/yolov7_tiny_300e_coco/model_final.pdparams\r\n",
      "['/home/aistudio/wurenji/test/20190925_140917_1_3/000001.jpg', '/home/aistudio/wurenji/test/20190925_140917_1_3/000002.jpg', '/home/aistudio/wurenji/test/20190925_140917_1_3/000003.jpg', '/home/aistudio/wurenji/test/20190925_140917_1_3/000004.jpg', '/home/aistudio/wurenji/test/20190925_140917_1_3/000005.jpg', '/home/aistudio/wurenji/test/20190925_140917_1_3/000006.jpg', '/home/aistudio/wurenji/test/20190925_140917_1_3/000007.jpg', '/home/aistudio/wurenji/test/20190925_140917_1_3/000008.jpg', '/home/aistudio/wurenji/test/20190925_140917_1_3/000009.jpg', '/home/aistudio/wurenji/test/20190925_140917_1_3/000010.jpg', '/home/aistudio/wurenji/test/20190925_140917_1_3/000011.jpg', '/home/aistudio/wurenji/test/20190925_140917_1_3/000012.jpg', '/home/aistudio/wurenji/test/20190925_140917_1_3/000013.jpg', '/home/aistudio/wurenji/test/20190925_140917_1_3/000014.jpg', '/home/aistudio/wurenji/test/20190925_140917_1_3/000015.jpg', '/home/aistudio/wurenji/test/20190925_140917_1_3/000016.jpg', '/home/\r\n",
      "[03/19 21:50:16] train INFO: Found 1000 inference images in total.\r\n",
      "[03/19 21:50:16] ppdet.data.source.category WARNING: anno_file 'dataset/coco/annotations/instances_val2017.json' is None or not set or not exist, please recheck TrainDataset/EvalDataset/TestDataset.anno_path, otherwise the default categories will be used by metric_type.\r\n",
      "[03/19 21:50:16] ppdet.data.source.category WARNING: metric_type: COCO, load default categories of COCO.\r\n",
      "[03/19 21:50:16] ppdet.data.source.category WARNING: anno_file 'dataset/coco/annotations/instances_val2017.json' is None or not set or not exist, please recheck TrainDataset/EvalDataset/TestDataset.anno_path, otherwise the default categories will be used by metric_type.\r\n",
      "[03/19 21:50:16] ppdet.data.source.category WARNING: metric_type: COCO, load default categories of COCO.\r\n",
      "[03/19 21:50:16] ppdet.engine INFO: Test loader length is 1000, test batch_size is 1.\r\n",
      "[03/19 21:50:16] ppdet.engine INFO: Starting predicting ......\r\n",
      "\r\n"
     ]
    },
    {
     "name": "stderr",
     "output_type": "stream",
     "text": [
      "Warning: import ppdet from source directory without installing, run 'python setup.py install' to install ppdet firstly\r\n",
      "100%|██████████| 1000/1000 [00:19<00:00, 50.25it/s]"
     ]
    },
    {
     "name": "stdout",
     "output_type": "stream",
     "text": [
      "[03/19 21:50:36] ppdet.metrics.metrics INFO: The bbox result is saved to bbox.json.\r\n",
      "[03/19 21:50:36] ppdet.metrics.metrics INFO: The bbox result is saved to output/bbox.json and do not evaluate the mAP.\r\n"
     ]
    },
    {
     "name": "stderr",
     "output_type": "stream",
     "text": [
      "\r\n",
      "W0319 21:50:41.245625  2827 gpu_resources.cc:61] Please NOTE: device: 0, GPU Compute Capability: 8.0, Driver API Version: 11.2, Runtime API Version: 11.2\r\n",
      "W0319 21:50:41.248607  2827 gpu_resources.cc:91] device: 0, cuDNN Version: 8.2.\r\n"
     ]
    },
    {
     "name": "stdout",
     "output_type": "stream",
     "text": [
      "[03/19 21:50:42] ppdet.utils.checkpoint INFO: Finish loading model weights: /home/aistudio/output/yolov7_tiny_300e_coco/model_final.pdparams\r\n",
      "['/home/aistudio/wurenji/test/wg2022_ir_011_split_07/000001.jpg', '/home/aistudio/wurenji/test/wg2022_ir_011_split_07/000002.jpg', '/home/aistudio/wurenji/test/wg2022_ir_011_split_07/000003.jpg', '/home/aistudio/wurenji/test/wg2022_ir_011_split_07/000004.jpg', '/home/aistudio/wurenji/test/wg2022_ir_011_split_07/000005.jpg', '/home/aistudio/wurenji/test/wg2022_ir_011_split_07/000006.jpg', '/home/aistudio/wurenji/test/wg2022_ir_011_split_07/000007.jpg', '/home/aistudio/wurenji/test/wg2022_ir_011_split_07/000008.jpg', '/home/aistudio/wurenji/test/wg2022_ir_011_split_07/000009.jpg', '/home/aistudio/wurenji/test/wg2022_ir_011_split_07/000010.jpg', '/home/aistudio/wurenji/test/wg2022_ir_011_split_07/000011.jpg', '/home/aistudio/wurenji/test/wg2022_ir_011_split_07/000012.jpg', '/home/aistudio/wurenji/test/wg2022_ir_011_split_07/000013.jpg', '/home/aistudio/wurenji/test/wg2022_ir_011_split_07/000014.jpg', '/home/aistudio/wurenji/test/wg2022_ir_011_split_07/000015.jpg', '/home/aistudio/wurenji/\r\n",
      "[03/19 21:50:42] train INFO: Found 1500 inference images in total.\r\n",
      "[03/19 21:50:42] ppdet.data.source.category WARNING: anno_file 'dataset/coco/annotations/instances_val2017.json' is None or not set or not exist, please recheck TrainDataset/EvalDataset/TestDataset.anno_path, otherwise the default categories will be used by metric_type.\r\n",
      "[03/19 21:50:42] ppdet.data.source.category WARNING: metric_type: COCO, load default categories of COCO.\r\n",
      "[03/19 21:50:42] ppdet.data.source.category WARNING: anno_file 'dataset/coco/annotations/instances_val2017.json' is None or not set or not exist, please recheck TrainDataset/EvalDataset/TestDataset.anno_path, otherwise the default categories will be used by metric_type.\r\n",
      "[03/19 21:50:42] ppdet.data.source.category WARNING: metric_type: COCO, load default categories of COCO.\r\n",
      "[03/19 21:50:42] ppdet.engine INFO: Test loader length is 1500, test batch_size is 1.\r\n",
      "[03/19 21:50:42] ppdet.engine INFO: Starting predicting ......\r\n",
      "\r\n"
     ]
    },
    {
     "name": "stderr",
     "output_type": "stream",
     "text": [
      "Warning: import ppdet from source directory without installing, run 'python setup.py install' to install ppdet firstly\r\n",
      "100%|██████████| 1500/1500 [00:29<00:00, 50.48it/s]"
     ]
    },
    {
     "name": "stdout",
     "output_type": "stream",
     "text": [
      "[03/19 21:51:12] ppdet.metrics.metrics INFO: The bbox result is saved to bbox.json.\r\n",
      "[03/19 21:51:12] ppdet.metrics.metrics INFO: The bbox result is saved to output/bbox.json and do not evaluate the mAP.\r\n"
     ]
    },
    {
     "name": "stderr",
     "output_type": "stream",
     "text": [
      "\r\n",
      "W0319 21:51:18.517675  3022 gpu_resources.cc:61] Please NOTE: device: 0, GPU Compute Capability: 8.0, Driver API Version: 11.2, Runtime API Version: 11.2\r\n",
      "W0319 21:51:18.520692  3022 gpu_resources.cc:91] device: 0, cuDNN Version: 8.2.\r\n"
     ]
    },
    {
     "name": "stdout",
     "output_type": "stream",
     "text": [
      "[03/19 21:51:20] ppdet.utils.checkpoint INFO: Finish loading model weights: /home/aistudio/output/yolov7_tiny_300e_coco/model_final.pdparams\r\n",
      "['/home/aistudio/wurenji/test/20190925_124000_1_9/000001.jpg', '/home/aistudio/wurenji/test/20190925_124000_1_9/000002.jpg', '/home/aistudio/wurenji/test/20190925_124000_1_9/000003.jpg', '/home/aistudio/wurenji/test/20190925_124000_1_9/000004.jpg', '/home/aistudio/wurenji/test/20190925_124000_1_9/000005.jpg', '/home/aistudio/wurenji/test/20190925_124000_1_9/000006.jpg', '/home/aistudio/wurenji/test/20190925_124000_1_9/000007.jpg', '/home/aistudio/wurenji/test/20190925_124000_1_9/000008.jpg', '/home/aistudio/wurenji/test/20190925_124000_1_9/000009.jpg', '/home/aistudio/wurenji/test/20190925_124000_1_9/000010.jpg', '/home/aistudio/wurenji/test/20190925_124000_1_9/000011.jpg', '/home/aistudio/wurenji/test/20190925_124000_1_9/000012.jpg', '/home/aistudio/wurenji/test/20190925_124000_1_9/000013.jpg', '/home/aistudio/wurenji/test/20190925_124000_1_9/000014.jpg', '/home/aistudio/wurenji/test/20190925_124000_1_9/000015.jpg', '/home/aistudio/wurenji/test/20190925_124000_1_9/000016.jpg', '/home/\r\n",
      "[03/19 21:51:20] train INFO: Found 1000 inference images in total.\r\n",
      "[03/19 21:51:20] ppdet.data.source.category WARNING: anno_file 'dataset/coco/annotations/instances_val2017.json' is None or not set or not exist, please recheck TrainDataset/EvalDataset/TestDataset.anno_path, otherwise the default categories will be used by metric_type.\r\n",
      "[03/19 21:51:20] ppdet.data.source.category WARNING: metric_type: COCO, load default categories of COCO.\r\n",
      "[03/19 21:51:20] ppdet.data.source.category WARNING: anno_file 'dataset/coco/annotations/instances_val2017.json' is None or not set or not exist, please recheck TrainDataset/EvalDataset/TestDataset.anno_path, otherwise the default categories will be used by metric_type.\r\n",
      "[03/19 21:51:20] ppdet.data.source.category WARNING: metric_type: COCO, load default categories of COCO.\r\n",
      "[03/19 21:51:20] ppdet.engine INFO: Test loader length is 1000, test batch_size is 1.\r\n",
      "[03/19 21:51:20] ppdet.engine INFO: Starting predicting ......\r\n",
      "\r\n"
     ]
    },
    {
     "name": "stderr",
     "output_type": "stream",
     "text": [
      "Warning: import ppdet from source directory without installing, run 'python setup.py install' to install ppdet firstly\r\n",
      "100%|██████████| 1000/1000 [00:21<00:00, 47.14it/s]"
     ]
    },
    {
     "name": "stdout",
     "output_type": "stream",
     "text": [
      "[03/19 21:51:41] ppdet.metrics.metrics INFO: The bbox result is saved to bbox.json.\r\n",
      "[03/19 21:51:41] ppdet.metrics.metrics INFO: The bbox result is saved to output/bbox.json and do not evaluate the mAP.\r\n"
     ]
    },
    {
     "name": "stderr",
     "output_type": "stream",
     "text": [
      "\r\n",
      "W0319 21:51:46.724099  3205 gpu_resources.cc:61] Please NOTE: device: 0, GPU Compute Capability: 8.0, Driver API Version: 11.2, Runtime API Version: 11.2\r\n",
      "W0319 21:51:46.727109  3205 gpu_resources.cc:91] device: 0, cuDNN Version: 8.2.\r\n"
     ]
    },
    {
     "name": "stdout",
     "output_type": "stream",
     "text": [
      "[03/19 21:51:48] ppdet.utils.checkpoint INFO: Finish loading model weights: /home/aistudio/output/yolov7_tiny_300e_coco/model_final.pdparams\r\n",
      "['/home/aistudio/wurenji/test/wg2022_ir_049_split_02/000001.jpg', '/home/aistudio/wurenji/test/wg2022_ir_049_split_02/000002.jpg', '/home/aistudio/wurenji/test/wg2022_ir_049_split_02/000003.jpg', '/home/aistudio/wurenji/test/wg2022_ir_049_split_02/000004.jpg', '/home/aistudio/wurenji/test/wg2022_ir_049_split_02/000005.jpg', '/home/aistudio/wurenji/test/wg2022_ir_049_split_02/000006.jpg', '/home/aistudio/wurenji/test/wg2022_ir_049_split_02/000007.jpg', '/home/aistudio/wurenji/test/wg2022_ir_049_split_02/000008.jpg', '/home/aistudio/wurenji/test/wg2022_ir_049_split_02/000009.jpg', '/home/aistudio/wurenji/test/wg2022_ir_049_split_02/000010.jpg', '/home/aistudio/wurenji/test/wg2022_ir_049_split_02/000011.jpg', '/home/aistudio/wurenji/test/wg2022_ir_049_split_02/000012.jpg', '/home/aistudio/wurenji/test/wg2022_ir_049_split_02/000013.jpg', '/home/aistudio/wurenji/test/wg2022_ir_049_split_02/000014.jpg', '/home/aistudio/wurenji/test/wg2022_ir_049_split_02/000015.jpg', '/home/aistudio/wurenji/\r\n",
      "[03/19 21:51:48] train INFO: Found 1500 inference images in total.\r\n",
      "[03/19 21:51:48] ppdet.data.source.category WARNING: anno_file 'dataset/coco/annotations/instances_val2017.json' is None or not set or not exist, please recheck TrainDataset/EvalDataset/TestDataset.anno_path, otherwise the default categories will be used by metric_type.\r\n",
      "[03/19 21:51:48] ppdet.data.source.category WARNING: metric_type: COCO, load default categories of COCO.\r\n",
      "[03/19 21:51:48] ppdet.data.source.category WARNING: anno_file 'dataset/coco/annotations/instances_val2017.json' is None or not set or not exist, please recheck TrainDataset/EvalDataset/TestDataset.anno_path, otherwise the default categories will be used by metric_type.\r\n",
      "[03/19 21:51:48] ppdet.data.source.category WARNING: metric_type: COCO, load default categories of COCO.\r\n",
      "[03/19 21:51:48] ppdet.engine INFO: Test loader length is 1500, test batch_size is 1.\r\n",
      "[03/19 21:51:48] ppdet.engine INFO: Starting predicting ......\r\n",
      "\r\n"
     ]
    },
    {
     "name": "stderr",
     "output_type": "stream",
     "text": [
      "Warning: import ppdet from source directory without installing, run 'python setup.py install' to install ppdet firstly\r\n",
      "100%|██████████| 1500/1500 [00:30<00:00, 49.74it/s]"
     ]
    },
    {
     "name": "stdout",
     "output_type": "stream",
     "text": [
      "[03/19 21:52:19] ppdet.metrics.metrics INFO: The bbox result is saved to bbox.json.\r\n",
      "[03/19 21:52:19] ppdet.metrics.metrics INFO: The bbox result is saved to output/bbox.json and do not evaluate the mAP.\r\n"
     ]
    },
    {
     "name": "stderr",
     "output_type": "stream",
     "text": [
      "\r\n",
      "W0319 21:52:25.464828  3402 gpu_resources.cc:61] Please NOTE: device: 0, GPU Compute Capability: 8.0, Driver API Version: 11.2, Runtime API Version: 11.2\r\n",
      "W0319 21:52:25.468111  3402 gpu_resources.cc:91] device: 0, cuDNN Version: 8.2.\r\n"
     ]
    },
    {
     "name": "stdout",
     "output_type": "stream",
     "text": [
      "[03/19 21:52:26] ppdet.utils.checkpoint INFO: Finish loading model weights: /home/aistudio/output/yolov7_tiny_300e_coco/model_final.pdparams\r\n",
      "['/home/aistudio/wurenji/test/01_4485_2985-4484/000001.jpg', '/home/aistudio/wurenji/test/01_4485_2985-4484/000002.jpg', '/home/aistudio/wurenji/test/01_4485_2985-4484/000003.jpg', '/home/aistudio/wurenji/test/01_4485_2985-4484/000004.jpg', '/home/aistudio/wurenji/test/01_4485_2985-4484/000005.jpg', '/home/aistudio/wurenji/test/01_4485_2985-4484/000006.jpg', '/home/aistudio/wurenji/test/01_4485_2985-4484/000007.jpg', '/home/aistudio/wurenji/test/01_4485_2985-4484/000008.jpg', '/home/aistudio/wurenji/test/01_4485_2985-4484/000009.jpg', '/home/aistudio/wurenji/test/01_4485_2985-4484/000010.jpg', '/home/aistudio/wurenji/test/01_4485_2985-4484/000011.jpg', '/home/aistudio/wurenji/test/01_4485_2985-4484/000012.jpg', '/home/aistudio/wurenji/test/01_4485_2985-4484/000013.jpg', '/home/aistudio/wurenji/test/01_4485_2985-4484/000014.jpg', '/home/aistudio/wurenji/test/01_4485_2985-4484/000015.jpg', '/home/aistudio/wurenji/test/01_4485_2985-4484/000016.jpg', '/home/aistudio/wurenji/test/01_4485_29\r\n",
      "[03/19 21:52:27] train INFO: Found 1500 inference images in total.\r\n",
      "[03/19 21:52:27] ppdet.data.source.category WARNING: anno_file 'dataset/coco/annotations/instances_val2017.json' is None or not set or not exist, please recheck TrainDataset/EvalDataset/TestDataset.anno_path, otherwise the default categories will be used by metric_type.\r\n",
      "[03/19 21:52:27] ppdet.data.source.category WARNING: metric_type: COCO, load default categories of COCO.\r\n",
      "[03/19 21:52:27] ppdet.data.source.category WARNING: anno_file 'dataset/coco/annotations/instances_val2017.json' is None or not set or not exist, please recheck TrainDataset/EvalDataset/TestDataset.anno_path, otherwise the default categories will be used by metric_type.\r\n",
      "[03/19 21:52:27] ppdet.data.source.category WARNING: metric_type: COCO, load default categories of COCO.\r\n",
      "[03/19 21:52:27] ppdet.engine INFO: Test loader length is 1500, test batch_size is 1.\r\n",
      "[03/19 21:52:27] ppdet.engine INFO: Starting predicting ......\r\n",
      "\r\n"
     ]
    },
    {
     "name": "stderr",
     "output_type": "stream",
     "text": [
      "Warning: import ppdet from source directory without installing, run 'python setup.py install' to install ppdet firstly\r\n",
      "100%|██████████| 1500/1500 [00:29<00:00, 51.64it/s]"
     ]
    },
    {
     "name": "stdout",
     "output_type": "stream",
     "text": [
      "[03/19 21:52:56] ppdet.metrics.metrics INFO: The bbox result is saved to bbox.json.\r\n",
      "[03/19 21:52:56] ppdet.metrics.metrics INFO: The bbox result is saved to output/bbox.json and do not evaluate the mAP.\r\n"
     ]
    },
    {
     "name": "stderr",
     "output_type": "stream",
     "text": [
      "\r\n",
      "W0319 21:53:00.845772  3643 gpu_resources.cc:61] Please NOTE: device: 0, GPU Compute Capability: 8.0, Driver API Version: 11.2, Runtime API Version: 11.2\r\n",
      "W0319 21:53:00.848744  3643 gpu_resources.cc:91] device: 0, cuDNN Version: 8.2.\r\n"
     ]
    },
    {
     "name": "stdout",
     "output_type": "stream",
     "text": [
      "[03/19 21:53:02] ppdet.utils.checkpoint INFO: Finish loading model weights: /home/aistudio/output/yolov7_tiny_300e_coco/model_final.pdparams\r\n",
      "['/home/aistudio/wurenji/test/3700000000002_091121_1/000001.jpg', '/home/aistudio/wurenji/test/3700000000002_091121_1/000002.jpg', '/home/aistudio/wurenji/test/3700000000002_091121_1/000003.jpg', '/home/aistudio/wurenji/test/3700000000002_091121_1/000004.jpg', '/home/aistudio/wurenji/test/3700000000002_091121_1/000005.jpg', '/home/aistudio/wurenji/test/3700000000002_091121_1/000006.jpg', '/home/aistudio/wurenji/test/3700000000002_091121_1/000007.jpg', '/home/aistudio/wurenji/test/3700000000002_091121_1/000008.jpg', '/home/aistudio/wurenji/test/3700000000002_091121_1/000009.jpg', '/home/aistudio/wurenji/test/3700000000002_091121_1/000010.jpg', '/home/aistudio/wurenji/test/3700000000002_091121_1/000011.jpg', '/home/aistudio/wurenji/test/3700000000002_091121_1/000012.jpg', '/home/aistudio/wurenji/test/3700000000002_091121_1/000013.jpg', '/home/aistudio/wurenji/test/3700000000002_091121_1/000014.jpg', '/home/aistudio/wurenji/test/3700000000002_091121_1/000015.jpg', '/home/aistudio/wurenji/\r\n",
      "[03/19 21:53:02] train INFO: Found 1500 inference images in total.\r\n",
      "[03/19 21:53:02] ppdet.data.source.category WARNING: anno_file 'dataset/coco/annotations/instances_val2017.json' is None or not set or not exist, please recheck TrainDataset/EvalDataset/TestDataset.anno_path, otherwise the default categories will be used by metric_type.\r\n",
      "[03/19 21:53:02] ppdet.data.source.category WARNING: metric_type: COCO, load default categories of COCO.\r\n",
      "[03/19 21:53:02] ppdet.data.source.category WARNING: anno_file 'dataset/coco/annotations/instances_val2017.json' is None or not set or not exist, please recheck TrainDataset/EvalDataset/TestDataset.anno_path, otherwise the default categories will be used by metric_type.\r\n",
      "[03/19 21:53:02] ppdet.data.source.category WARNING: metric_type: COCO, load default categories of COCO.\r\n",
      "[03/19 21:53:02] ppdet.engine INFO: Test loader length is 1500, test batch_size is 1.\r\n",
      "[03/19 21:53:02] ppdet.engine INFO: Starting predicting ......\r\n",
      "\r\n"
     ]
    },
    {
     "name": "stderr",
     "output_type": "stream",
     "text": [
      "Warning: import ppdet from source directory without installing, run 'python setup.py install' to install ppdet firstly\r\n",
      "100%|██████████| 1500/1500 [00:31<00:00, 48.12it/s]"
     ]
    },
    {
     "name": "stdout",
     "output_type": "stream",
     "text": [
      "[03/19 21:53:34] ppdet.metrics.metrics INFO: The bbox result is saved to bbox.json.\r\n",
      "[03/19 21:53:34] ppdet.metrics.metrics INFO: The bbox result is saved to output/bbox.json and do not evaluate the mAP.\r\n"
     ]
    },
    {
     "name": "stderr",
     "output_type": "stream",
     "text": [
      "\r\n",
      "W0319 21:53:38.910759  3798 gpu_resources.cc:61] Please NOTE: device: 0, GPU Compute Capability: 8.0, Driver API Version: 11.2, Runtime API Version: 11.2\r\n",
      "W0319 21:53:38.913631  3798 gpu_resources.cc:91] device: 0, cuDNN Version: 8.2.\r\n"
     ]
    },
    {
     "name": "stdout",
     "output_type": "stream",
     "text": [
      "[03/19 21:53:40] ppdet.utils.checkpoint INFO: Finish loading model weights: /home/aistudio/output/yolov7_tiny_300e_coco/model_final.pdparams\r\n",
      "['/home/aistudio/wurenji/test/wg2022_ir_040_split_05/000001.jpg', '/home/aistudio/wurenji/test/wg2022_ir_040_split_05/000002.jpg', '/home/aistudio/wurenji/test/wg2022_ir_040_split_05/000003.jpg', '/home/aistudio/wurenji/test/wg2022_ir_040_split_05/000004.jpg', '/home/aistudio/wurenji/test/wg2022_ir_040_split_05/000005.jpg', '/home/aistudio/wurenji/test/wg2022_ir_040_split_05/000006.jpg', '/home/aistudio/wurenji/test/wg2022_ir_040_split_05/000007.jpg', '/home/aistudio/wurenji/test/wg2022_ir_040_split_05/000008.jpg', '/home/aistudio/wurenji/test/wg2022_ir_040_split_05/000009.jpg', '/home/aistudio/wurenji/test/wg2022_ir_040_split_05/000010.jpg', '/home/aistudio/wurenji/test/wg2022_ir_040_split_05/000011.jpg', '/home/aistudio/wurenji/test/wg2022_ir_040_split_05/000012.jpg', '/home/aistudio/wurenji/test/wg2022_ir_040_split_05/000013.jpg', '/home/aistudio/wurenji/test/wg2022_ir_040_split_05/000014.jpg', '/home/aistudio/wurenji/test/wg2022_ir_040_split_05/000015.jpg', '/home/aistudio/wurenji/\r\n",
      "[03/19 21:53:40] train INFO: Found 1500 inference images in total.\r\n",
      "[03/19 21:53:40] ppdet.data.source.category WARNING: anno_file 'dataset/coco/annotations/instances_val2017.json' is None or not set or not exist, please recheck TrainDataset/EvalDataset/TestDataset.anno_path, otherwise the default categories will be used by metric_type.\r\n",
      "[03/19 21:53:40] ppdet.data.source.category WARNING: metric_type: COCO, load default categories of COCO.\r\n",
      "[03/19 21:53:40] ppdet.data.source.category WARNING: anno_file 'dataset/coco/annotations/instances_val2017.json' is None or not set or not exist, please recheck TrainDataset/EvalDataset/TestDataset.anno_path, otherwise the default categories will be used by metric_type.\r\n",
      "[03/19 21:53:40] ppdet.data.source.category WARNING: metric_type: COCO, load default categories of COCO.\r\n",
      "[03/19 21:53:40] ppdet.engine INFO: Test loader length is 1500, test batch_size is 1.\r\n",
      "[03/19 21:53:40] ppdet.engine INFO: Starting predicting ......\r\n",
      "\r\n"
     ]
    },
    {
     "name": "stderr",
     "output_type": "stream",
     "text": [
      "Warning: import ppdet from source directory without installing, run 'python setup.py install' to install ppdet firstly\r\n",
      "100%|██████████| 1500/1500 [00:29<00:00, 51.55it/s]"
     ]
    },
    {
     "name": "stdout",
     "output_type": "stream",
     "text": [
      "[03/19 21:54:09] ppdet.metrics.metrics INFO: The bbox result is saved to bbox.json.\r\n",
      "[03/19 21:54:09] ppdet.metrics.metrics INFO: The bbox result is saved to output/bbox.json and do not evaluate the mAP.\r\n"
     ]
    },
    {
     "name": "stderr",
     "output_type": "stream",
     "text": [
      "\r\n",
      "W0319 21:54:14.142988  4036 gpu_resources.cc:61] Please NOTE: device: 0, GPU Compute Capability: 8.0, Driver API Version: 11.2, Runtime API Version: 11.2\r\n",
      "W0319 21:54:14.145992  4036 gpu_resources.cc:91] device: 0, cuDNN Version: 8.2.\r\n"
     ]
    },
    {
     "name": "stdout",
     "output_type": "stream",
     "text": [
      "[03/19 21:54:15] ppdet.utils.checkpoint INFO: Finish loading model weights: /home/aistudio/output/yolov7_tiny_300e_coco/model_final.pdparams\r\n",
      "['/home/aistudio/wurenji/test/wg2022_ir_015_split_01/000001.jpg', '/home/aistudio/wurenji/test/wg2022_ir_015_split_01/000002.jpg', '/home/aistudio/wurenji/test/wg2022_ir_015_split_01/000003.jpg', '/home/aistudio/wurenji/test/wg2022_ir_015_split_01/000004.jpg', '/home/aistudio/wurenji/test/wg2022_ir_015_split_01/000005.jpg', '/home/aistudio/wurenji/test/wg2022_ir_015_split_01/000006.jpg', '/home/aistudio/wurenji/test/wg2022_ir_015_split_01/000007.jpg', '/home/aistudio/wurenji/test/wg2022_ir_015_split_01/000008.jpg', '/home/aistudio/wurenji/test/wg2022_ir_015_split_01/000009.jpg', '/home/aistudio/wurenji/test/wg2022_ir_015_split_01/000010.jpg', '/home/aistudio/wurenji/test/wg2022_ir_015_split_01/000011.jpg', '/home/aistudio/wurenji/test/wg2022_ir_015_split_01/000012.jpg', '/home/aistudio/wurenji/test/wg2022_ir_015_split_01/000013.jpg', '/home/aistudio/wurenji/test/wg2022_ir_015_split_01/000014.jpg', '/home/aistudio/wurenji/test/wg2022_ir_015_split_01/000015.jpg', '/home/aistudio/wurenji/\r\n",
      "[03/19 21:54:15] train INFO: Found 1500 inference images in total.\r\n",
      "[03/19 21:54:15] ppdet.data.source.category WARNING: anno_file 'dataset/coco/annotations/instances_val2017.json' is None or not set or not exist, please recheck TrainDataset/EvalDataset/TestDataset.anno_path, otherwise the default categories will be used by metric_type.\r\n",
      "[03/19 21:54:15] ppdet.data.source.category WARNING: metric_type: COCO, load default categories of COCO.\r\n",
      "[03/19 21:54:15] ppdet.data.source.category WARNING: anno_file 'dataset/coco/annotations/instances_val2017.json' is None or not set or not exist, please recheck TrainDataset/EvalDataset/TestDataset.anno_path, otherwise the default categories will be used by metric_type.\r\n",
      "[03/19 21:54:15] ppdet.data.source.category WARNING: metric_type: COCO, load default categories of COCO.\r\n",
      "[03/19 21:54:15] ppdet.engine INFO: Test loader length is 1500, test batch_size is 1.\r\n",
      "[03/19 21:54:15] ppdet.engine INFO: Starting predicting ......\r\n",
      "\r\n"
     ]
    },
    {
     "name": "stderr",
     "output_type": "stream",
     "text": [
      "Warning: import ppdet from source directory without installing, run 'python setup.py install' to install ppdet firstly\r\n",
      "100%|██████████| 1500/1500 [00:29<00:00, 51.23it/s]\r\n"
     ]
    },
    {
     "name": "stdout",
     "output_type": "stream",
     "text": [
      "[03/19 21:54:45] ppdet.metrics.metrics INFO: The bbox result is saved to bbox.json.\r\n",
      "[03/19 21:54:45] ppdet.metrics.metrics INFO: The bbox result is saved to output/bbox.json and do not evaluate the mAP.\r\n"
     ]
    },
    {
     "name": "stderr",
     "output_type": "stream",
     "text": [
      "W0319 21:54:49.429947  4222 gpu_resources.cc:61] Please NOTE: device: 0, GPU Compute Capability: 8.0, Driver API Version: 11.2, Runtime API Version: 11.2\r\n",
      "W0319 21:54:49.433084  4222 gpu_resources.cc:91] device: 0, cuDNN Version: 8.2.\r\n"
     ]
    },
    {
     "name": "stdout",
     "output_type": "stream",
     "text": [
      "[03/19 21:54:50] ppdet.utils.checkpoint INFO: Finish loading model weights: /home/aistudio/output/yolov7_tiny_300e_coco/model_final.pdparams\r\n",
      "['/home/aistudio/wurenji/test/20190925_141417_1_3/000001.jpg', '/home/aistudio/wurenji/test/20190925_141417_1_3/000002.jpg', '/home/aistudio/wurenji/test/20190925_141417_1_3/000003.jpg', '/home/aistudio/wurenji/test/20190925_141417_1_3/000004.jpg', '/home/aistudio/wurenji/test/20190925_141417_1_3/000005.jpg', '/home/aistudio/wurenji/test/20190925_141417_1_3/000006.jpg', '/home/aistudio/wurenji/test/20190925_141417_1_3/000007.jpg', '/home/aistudio/wurenji/test/20190925_141417_1_3/000008.jpg', '/home/aistudio/wurenji/test/20190925_141417_1_3/000009.jpg', '/home/aistudio/wurenji/test/20190925_141417_1_3/000010.jpg', '/home/aistudio/wurenji/test/20190925_141417_1_3/000011.jpg', '/home/aistudio/wurenji/test/20190925_141417_1_3/000012.jpg', '/home/aistudio/wurenji/test/20190925_141417_1_3/000013.jpg', '/home/aistudio/wurenji/test/20190925_141417_1_3/000014.jpg', '/home/aistudio/wurenji/test/20190925_141417_1_3/000015.jpg', '/home/aistudio/wurenji/test/20190925_141417_1_3/000016.jpg', '/home/\r\n",
      "[03/19 21:54:50] train INFO: Found 1000 inference images in total.\r\n",
      "[03/19 21:54:50] ppdet.data.source.category WARNING: anno_file 'dataset/coco/annotations/instances_val2017.json' is None or not set or not exist, please recheck TrainDataset/EvalDataset/TestDataset.anno_path, otherwise the default categories will be used by metric_type.\r\n",
      "[03/19 21:54:50] ppdet.data.source.category WARNING: metric_type: COCO, load default categories of COCO.\r\n",
      "[03/19 21:54:50] ppdet.data.source.category WARNING: anno_file 'dataset/coco/annotations/instances_val2017.json' is None or not set or not exist, please recheck TrainDataset/EvalDataset/TestDataset.anno_path, otherwise the default categories will be used by metric_type.\r\n",
      "[03/19 21:54:50] ppdet.data.source.category WARNING: metric_type: COCO, load default categories of COCO.\r\n",
      "[03/19 21:54:50] ppdet.engine INFO: Test loader length is 1000, test batch_size is 1.\r\n",
      "[03/19 21:54:50] ppdet.engine INFO: Starting predicting ......\r\n",
      "\r\n"
     ]
    },
    {
     "name": "stderr",
     "output_type": "stream",
     "text": [
      "Warning: import ppdet from source directory without installing, run 'python setup.py install' to install ppdet firstly\r\n",
      "100%|██████████| 1000/1000 [00:20<00:00, 49.18it/s]"
     ]
    },
    {
     "name": "stdout",
     "output_type": "stream",
     "text": [
      "[03/19 21:55:11] ppdet.metrics.metrics INFO: The bbox result is saved to bbox.json.\r\n",
      "[03/19 21:55:11] ppdet.metrics.metrics INFO: The bbox result is saved to output/bbox.json and do not evaluate the mAP.\r\n"
     ]
    },
    {
     "name": "stderr",
     "output_type": "stream",
     "text": [
      "\r\n",
      "W0319 21:55:15.920272  4407 gpu_resources.cc:61] Please NOTE: device: 0, GPU Compute Capability: 8.0, Driver API Version: 11.2, Runtime API Version: 11.2\r\n",
      "W0319 21:55:15.923208  4407 gpu_resources.cc:91] device: 0, cuDNN Version: 8.2.\r\n"
     ]
    },
    {
     "name": "stdout",
     "output_type": "stream",
     "text": [
      "[03/19 21:55:17] ppdet.utils.checkpoint INFO: Finish loading model weights: /home/aistudio/output/yolov7_tiny_300e_coco/model_final.pdparams\r\n",
      "['/home/aistudio/wurenji/test/20190926_103046_1_1/000001.jpg', '/home/aistudio/wurenji/test/20190926_103046_1_1/000002.jpg', '/home/aistudio/wurenji/test/20190926_103046_1_1/000003.jpg', '/home/aistudio/wurenji/test/20190926_103046_1_1/000004.jpg', '/home/aistudio/wurenji/test/20190926_103046_1_1/000005.jpg', '/home/aistudio/wurenji/test/20190926_103046_1_1/000006.jpg', '/home/aistudio/wurenji/test/20190926_103046_1_1/000007.jpg', '/home/aistudio/wurenji/test/20190926_103046_1_1/000008.jpg', '/home/aistudio/wurenji/test/20190926_103046_1_1/000009.jpg', '/home/aistudio/wurenji/test/20190926_103046_1_1/000010.jpg', '/home/aistudio/wurenji/test/20190926_103046_1_1/000011.jpg', '/home/aistudio/wurenji/test/20190926_103046_1_1/000012.jpg', '/home/aistudio/wurenji/test/20190926_103046_1_1/000013.jpg', '/home/aistudio/wurenji/test/20190926_103046_1_1/000014.jpg', '/home/aistudio/wurenji/test/20190926_103046_1_1/000015.jpg', '/home/aistudio/wurenji/test/20190926_103046_1_1/000016.jpg', '/home/\r\n",
      "[03/19 21:55:17] train INFO: Found 1000 inference images in total.\r\n",
      "[03/19 21:55:17] ppdet.data.source.category WARNING: anno_file 'dataset/coco/annotations/instances_val2017.json' is None or not set or not exist, please recheck TrainDataset/EvalDataset/TestDataset.anno_path, otherwise the default categories will be used by metric_type.\r\n",
      "[03/19 21:55:17] ppdet.data.source.category WARNING: metric_type: COCO, load default categories of COCO.\r\n",
      "[03/19 21:55:17] ppdet.data.source.category WARNING: anno_file 'dataset/coco/annotations/instances_val2017.json' is None or not set or not exist, please recheck TrainDataset/EvalDataset/TestDataset.anno_path, otherwise the default categories will be used by metric_type.\r\n",
      "[03/19 21:55:17] ppdet.data.source.category WARNING: metric_type: COCO, load default categories of COCO.\r\n",
      "[03/19 21:55:17] ppdet.engine INFO: Test loader length is 1000, test batch_size is 1.\r\n",
      "[03/19 21:55:17] ppdet.engine INFO: Starting predicting ......\r\n",
      "\r\n"
     ]
    },
    {
     "name": "stderr",
     "output_type": "stream",
     "text": [
      "Warning: import ppdet from source directory without installing, run 'python setup.py install' to install ppdet firstly\r\n",
      "100%|██████████| 1000/1000 [00:20<00:00, 47.66it/s]\r\n"
     ]
    },
    {
     "name": "stdout",
     "output_type": "stream",
     "text": [
      "[03/19 21:55:38] ppdet.metrics.metrics INFO: The bbox result is saved to bbox.json.\r\n",
      "[03/19 21:55:38] ppdet.metrics.metrics INFO: The bbox result is saved to output/bbox.json and do not evaluate the mAP.\r\n"
     ]
    },
    {
     "name": "stderr",
     "output_type": "stream",
     "text": [
      "W0319 21:55:43.691951  4546 gpu_resources.cc:61] Please NOTE: device: 0, GPU Compute Capability: 8.0, Driver API Version: 11.2, Runtime API Version: 11.2\r\n",
      "W0319 21:55:43.695024  4546 gpu_resources.cc:91] device: 0, cuDNN Version: 8.2.\r\n"
     ]
    },
    {
     "name": "stdout",
     "output_type": "stream",
     "text": [
      "[03/19 21:55:45] ppdet.utils.checkpoint INFO: Finish loading model weights: /home/aistudio/output/yolov7_tiny_300e_coco/model_final.pdparams\r\n",
      "['/home/aistudio/wurenji/test/20190925_124612_1_3/000001.jpg', '/home/aistudio/wurenji/test/20190925_124612_1_3/000002.jpg', '/home/aistudio/wurenji/test/20190925_124612_1_3/000003.jpg', '/home/aistudio/wurenji/test/20190925_124612_1_3/000004.jpg', '/home/aistudio/wurenji/test/20190925_124612_1_3/000005.jpg', '/home/aistudio/wurenji/test/20190925_124612_1_3/000006.jpg', '/home/aistudio/wurenji/test/20190925_124612_1_3/000007.jpg', '/home/aistudio/wurenji/test/20190925_124612_1_3/000008.jpg', '/home/aistudio/wurenji/test/20190925_124612_1_3/000009.jpg', '/home/aistudio/wurenji/test/20190925_124612_1_3/000010.jpg', '/home/aistudio/wurenji/test/20190925_124612_1_3/000011.jpg', '/home/aistudio/wurenji/test/20190925_124612_1_3/000012.jpg', '/home/aistudio/wurenji/test/20190925_124612_1_3/000013.jpg', '/home/aistudio/wurenji/test/20190925_124612_1_3/000014.jpg', '/home/aistudio/wurenji/test/20190925_124612_1_3/000015.jpg', '/home/aistudio/wurenji/test/20190925_124612_1_3/000016.jpg', '/home/\r\n",
      "[03/19 21:55:45] train INFO: Found 1000 inference images in total.\r\n",
      "[03/19 21:55:45] ppdet.data.source.category WARNING: anno_file 'dataset/coco/annotations/instances_val2017.json' is None or not set or not exist, please recheck TrainDataset/EvalDataset/TestDataset.anno_path, otherwise the default categories will be used by metric_type.\r\n",
      "[03/19 21:55:45] ppdet.data.source.category WARNING: metric_type: COCO, load default categories of COCO.\r\n",
      "[03/19 21:55:45] ppdet.data.source.category WARNING: anno_file 'dataset/coco/annotations/instances_val2017.json' is None or not set or not exist, please recheck TrainDataset/EvalDataset/TestDataset.anno_path, otherwise the default categories will be used by metric_type.\r\n",
      "[03/19 21:55:45] ppdet.data.source.category WARNING: metric_type: COCO, load default categories of COCO.\r\n",
      "[03/19 21:55:45] ppdet.engine INFO: Test loader length is 1000, test batch_size is 1.\r\n",
      "[03/19 21:55:45] ppdet.engine INFO: Starting predicting ......\r\n",
      "\r\n"
     ]
    },
    {
     "name": "stderr",
     "output_type": "stream",
     "text": [
      "Warning: import ppdet from source directory without installing, run 'python setup.py install' to install ppdet firstly\r\n",
      "100%|██████████| 1000/1000 [00:20<00:00, 48.06it/s]\r\n"
     ]
    },
    {
     "name": "stdout",
     "output_type": "stream",
     "text": [
      "[03/19 21:56:06] ppdet.metrics.metrics INFO: The bbox result is saved to bbox.json.\r\n",
      "[03/19 21:56:06] ppdet.metrics.metrics INFO: The bbox result is saved to output/bbox.json and do not evaluate the mAP.\r\n"
     ]
    },
    {
     "name": "stderr",
     "output_type": "stream",
     "text": [
      "W0319 21:56:10.782357  4770 gpu_resources.cc:61] Please NOTE: device: 0, GPU Compute Capability: 8.0, Driver API Version: 11.2, Runtime API Version: 11.2\r\n",
      "W0319 21:56:10.785575  4770 gpu_resources.cc:91] device: 0, cuDNN Version: 8.2.\r\n"
     ]
    },
    {
     "name": "stdout",
     "output_type": "stream",
     "text": [
      "[03/19 21:56:12] ppdet.utils.checkpoint INFO: Finish loading model weights: /home/aistudio/output/yolov7_tiny_300e_coco/model_final.pdparams\r\n",
      "['/home/aistudio/wurenji/test/20190925_200805_1_7/000001.jpg', '/home/aistudio/wurenji/test/20190925_200805_1_7/000002.jpg', '/home/aistudio/wurenji/test/20190925_200805_1_7/000003.jpg', '/home/aistudio/wurenji/test/20190925_200805_1_7/000004.jpg', '/home/aistudio/wurenji/test/20190925_200805_1_7/000005.jpg', '/home/aistudio/wurenji/test/20190925_200805_1_7/000006.jpg', '/home/aistudio/wurenji/test/20190925_200805_1_7/000007.jpg', '/home/aistudio/wurenji/test/20190925_200805_1_7/000008.jpg', '/home/aistudio/wurenji/test/20190925_200805_1_7/000009.jpg', '/home/aistudio/wurenji/test/20190925_200805_1_7/000010.jpg', '/home/aistudio/wurenji/test/20190925_200805_1_7/000011.jpg', '/home/aistudio/wurenji/test/20190925_200805_1_7/000012.jpg', '/home/aistudio/wurenji/test/20190925_200805_1_7/000013.jpg', '/home/aistudio/wurenji/test/20190925_200805_1_7/000014.jpg', '/home/aistudio/wurenji/test/20190925_200805_1_7/000015.jpg', '/home/aistudio/wurenji/test/20190925_200805_1_7/000016.jpg', '/home/\r\n",
      "[03/19 21:56:12] train INFO: Found 958 inference images in total.\r\n",
      "[03/19 21:56:12] ppdet.data.source.category WARNING: anno_file 'dataset/coco/annotations/instances_val2017.json' is None or not set or not exist, please recheck TrainDataset/EvalDataset/TestDataset.anno_path, otherwise the default categories will be used by metric_type.\r\n",
      "[03/19 21:56:12] ppdet.data.source.category WARNING: metric_type: COCO, load default categories of COCO.\r\n",
      "[03/19 21:56:12] ppdet.data.source.category WARNING: anno_file 'dataset/coco/annotations/instances_val2017.json' is None or not set or not exist, please recheck TrainDataset/EvalDataset/TestDataset.anno_path, otherwise the default categories will be used by metric_type.\r\n",
      "[03/19 21:56:12] ppdet.data.source.category WARNING: metric_type: COCO, load default categories of COCO.\r\n",
      "[03/19 21:56:12] ppdet.engine INFO: Test loader length is 958, test batch_size is 1.\r\n",
      "[03/19 21:56:12] ppdet.engine INFO: Starting predicting ......\r\n",
      "\r\n"
     ]
    },
    {
     "name": "stderr",
     "output_type": "stream",
     "text": [
      "Warning: import ppdet from source directory without installing, run 'python setup.py install' to install ppdet firstly\r\n",
      "100%|██████████| 958/958 [00:20<00:00, 47.69it/s]"
     ]
    },
    {
     "name": "stdout",
     "output_type": "stream",
     "text": [
      "[03/19 21:56:32] ppdet.metrics.metrics INFO: The bbox result is saved to bbox.json.\r\n",
      "[03/19 21:56:32] ppdet.metrics.metrics INFO: The bbox result is saved to output/bbox.json and do not evaluate the mAP.\r\n"
     ]
    },
    {
     "name": "stderr",
     "output_type": "stream",
     "text": [
      "\r\n",
      "W0319 21:56:37.374644  4905 gpu_resources.cc:61] Please NOTE: device: 0, GPU Compute Capability: 8.0, Driver API Version: 11.2, Runtime API Version: 11.2\r\n",
      "W0319 21:56:37.377746  4905 gpu_resources.cc:91] device: 0, cuDNN Version: 8.2.\r\n"
     ]
    },
    {
     "name": "stdout",
     "output_type": "stream",
     "text": [
      "[03/19 21:56:38] ppdet.utils.checkpoint INFO: Finish loading model weights: /home/aistudio/output/yolov7_tiny_300e_coco/model_final.pdparams\r\n",
      "['/home/aistudio/wurenji/test/20190925_101846_1_1/000001.jpg', '/home/aistudio/wurenji/test/20190925_101846_1_1/000002.jpg', '/home/aistudio/wurenji/test/20190925_101846_1_1/000003.jpg', '/home/aistudio/wurenji/test/20190925_101846_1_1/000004.jpg', '/home/aistudio/wurenji/test/20190925_101846_1_1/000005.jpg', '/home/aistudio/wurenji/test/20190925_101846_1_1/000006.jpg', '/home/aistudio/wurenji/test/20190925_101846_1_1/000007.jpg', '/home/aistudio/wurenji/test/20190925_101846_1_1/000008.jpg', '/home/aistudio/wurenji/test/20190925_101846_1_1/000009.jpg', '/home/aistudio/wurenji/test/20190925_101846_1_1/000010.jpg', '/home/aistudio/wurenji/test/20190925_101846_1_1/000011.jpg', '/home/aistudio/wurenji/test/20190925_101846_1_1/000012.jpg', '/home/aistudio/wurenji/test/20190925_101846_1_1/000013.jpg', '/home/aistudio/wurenji/test/20190925_101846_1_1/000014.jpg', '/home/aistudio/wurenji/test/20190925_101846_1_1/000015.jpg', '/home/aistudio/wurenji/test/20190925_101846_1_1/000016.jpg', '/home/\r\n",
      "[03/19 21:56:38] train INFO: Found 1000 inference images in total.\r\n",
      "[03/19 21:56:38] ppdet.data.source.category WARNING: anno_file 'dataset/coco/annotations/instances_val2017.json' is None or not set or not exist, please recheck TrainDataset/EvalDataset/TestDataset.anno_path, otherwise the default categories will be used by metric_type.\r\n",
      "[03/19 21:56:38] ppdet.data.source.category WARNING: metric_type: COCO, load default categories of COCO.\r\n",
      "[03/19 21:56:38] ppdet.data.source.category WARNING: anno_file 'dataset/coco/annotations/instances_val2017.json' is None or not set or not exist, please recheck TrainDataset/EvalDataset/TestDataset.anno_path, otherwise the default categories will be used by metric_type.\r\n",
      "[03/19 21:56:38] ppdet.data.source.category WARNING: metric_type: COCO, load default categories of COCO.\r\n",
      "[03/19 21:56:38] ppdet.engine INFO: Test loader length is 1000, test batch_size is 1.\r\n",
      "[03/19 21:56:38] ppdet.engine INFO: Starting predicting ......\r\n",
      "\r\n"
     ]
    },
    {
     "name": "stderr",
     "output_type": "stream",
     "text": [
      "Warning: import ppdet from source directory without installing, run 'python setup.py install' to install ppdet firstly\r\n",
      "100%|██████████| 1000/1000 [00:21<00:00, 46.77it/s]\r\n"
     ]
    },
    {
     "name": "stdout",
     "output_type": "stream",
     "text": [
      "[03/19 21:57:00] ppdet.metrics.metrics INFO: The bbox result is saved to bbox.json.\r\n",
      "[03/19 21:57:00] ppdet.metrics.metrics INFO: The bbox result is saved to output/bbox.json and do not evaluate the mAP.\r\n"
     ]
    },
    {
     "name": "stderr",
     "output_type": "stream",
     "text": [
      "W0319 21:57:04.681344  5092 gpu_resources.cc:61] Please NOTE: device: 0, GPU Compute Capability: 8.0, Driver API Version: 11.2, Runtime API Version: 11.2\r\n",
      "W0319 21:57:04.684597  5092 gpu_resources.cc:91] device: 0, cuDNN Version: 8.2.\r\n"
     ]
    },
    {
     "name": "stdout",
     "output_type": "stream",
     "text": [
      "[03/19 21:57:06] ppdet.utils.checkpoint INFO: Finish loading model weights: /home/aistudio/output/yolov7_tiny_300e_coco/model_final.pdparams\r\n",
      "['/home/aistudio/wurenji/test/02_6321_0274-2773/000001.jpg', '/home/aistudio/wurenji/test/02_6321_0274-2773/000002.jpg', '/home/aistudio/wurenji/test/02_6321_0274-2773/000003.jpg', '/home/aistudio/wurenji/test/02_6321_0274-2773/000004.jpg', '/home/aistudio/wurenji/test/02_6321_0274-2773/000005.jpg', '/home/aistudio/wurenji/test/02_6321_0274-2773/000006.jpg', '/home/aistudio/wurenji/test/02_6321_0274-2773/000007.jpg', '/home/aistudio/wurenji/test/02_6321_0274-2773/000008.jpg', '/home/aistudio/wurenji/test/02_6321_0274-2773/000009.jpg', '/home/aistudio/wurenji/test/02_6321_0274-2773/000010.jpg', '/home/aistudio/wurenji/test/02_6321_0274-2773/000011.jpg', '/home/aistudio/wurenji/test/02_6321_0274-2773/000012.jpg', '/home/aistudio/wurenji/test/02_6321_0274-2773/000013.jpg', '/home/aistudio/wurenji/test/02_6321_0274-2773/000014.jpg', '/home/aistudio/wurenji/test/02_6321_0274-2773/000015.jpg', '/home/aistudio/wurenji/test/02_6321_0274-2773/000016.jpg', '/home/aistudio/wurenji/test/02_6321_02\r\n",
      "[03/19 21:57:06] train INFO: Found 1500 inference images in total.\r\n",
      "[03/19 21:57:06] ppdet.data.source.category WARNING: anno_file 'dataset/coco/annotations/instances_val2017.json' is None or not set or not exist, please recheck TrainDataset/EvalDataset/TestDataset.anno_path, otherwise the default categories will be used by metric_type.\r\n",
      "[03/19 21:57:06] ppdet.data.source.category WARNING: metric_type: COCO, load default categories of COCO.\r\n",
      "[03/19 21:57:06] ppdet.data.source.category WARNING: anno_file 'dataset/coco/annotations/instances_val2017.json' is None or not set or not exist, please recheck TrainDataset/EvalDataset/TestDataset.anno_path, otherwise the default categories will be used by metric_type.\r\n",
      "[03/19 21:57:06] ppdet.data.source.category WARNING: metric_type: COCO, load default categories of COCO.\r\n",
      "[03/19 21:57:06] ppdet.engine INFO: Test loader length is 1500, test batch_size is 1.\r\n",
      "[03/19 21:57:06] ppdet.engine INFO: Starting predicting ......\r\n",
      "\r\n"
     ]
    },
    {
     "name": "stderr",
     "output_type": "stream",
     "text": [
      "Warning: import ppdet from source directory without installing, run 'python setup.py install' to install ppdet firstly\r\n",
      "100%|██████████| 1500/1500 [00:30<00:00, 48.77it/s]"
     ]
    },
    {
     "name": "stdout",
     "output_type": "stream",
     "text": [
      "[03/19 21:57:37] ppdet.metrics.metrics INFO: The bbox result is saved to bbox.json.\r\n",
      "[03/19 21:57:37] ppdet.metrics.metrics INFO: The bbox result is saved to output/bbox.json and do not evaluate the mAP.\r\n"
     ]
    },
    {
     "name": "stderr",
     "output_type": "stream",
     "text": [
      "\r\n",
      "W0319 21:57:41.872542  5284 gpu_resources.cc:61] Please NOTE: device: 0, GPU Compute Capability: 8.0, Driver API Version: 11.2, Runtime API Version: 11.2\r\n",
      "W0319 21:57:41.876060  5284 gpu_resources.cc:91] device: 0, cuDNN Version: 8.2.\r\n"
     ]
    },
    {
     "name": "stdout",
     "output_type": "stream",
     "text": [
      "[03/19 21:57:43] ppdet.utils.checkpoint INFO: Finish loading model weights: /home/aistudio/output/yolov7_tiny_300e_coco/model_final.pdparams\r\n",
      "['/home/aistudio/wurenji/test/wg2022_ir_040_split_02/000001.jpg', '/home/aistudio/wurenji/test/wg2022_ir_040_split_02/000002.jpg', '/home/aistudio/wurenji/test/wg2022_ir_040_split_02/000003.jpg', '/home/aistudio/wurenji/test/wg2022_ir_040_split_02/000004.jpg', '/home/aistudio/wurenji/test/wg2022_ir_040_split_02/000005.jpg', '/home/aistudio/wurenji/test/wg2022_ir_040_split_02/000006.jpg', '/home/aistudio/wurenji/test/wg2022_ir_040_split_02/000007.jpg', '/home/aistudio/wurenji/test/wg2022_ir_040_split_02/000008.jpg', '/home/aistudio/wurenji/test/wg2022_ir_040_split_02/000009.jpg', '/home/aistudio/wurenji/test/wg2022_ir_040_split_02/000010.jpg', '/home/aistudio/wurenji/test/wg2022_ir_040_split_02/000011.jpg', '/home/aistudio/wurenji/test/wg2022_ir_040_split_02/000012.jpg', '/home/aistudio/wurenji/test/wg2022_ir_040_split_02/000013.jpg', '/home/aistudio/wurenji/test/wg2022_ir_040_split_02/000014.jpg', '/home/aistudio/wurenji/test/wg2022_ir_040_split_02/000015.jpg', '/home/aistudio/wurenji/\r\n",
      "[03/19 21:57:43] train INFO: Found 1500 inference images in total.\r\n",
      "[03/19 21:57:43] ppdet.data.source.category WARNING: anno_file 'dataset/coco/annotations/instances_val2017.json' is None or not set or not exist, please recheck TrainDataset/EvalDataset/TestDataset.anno_path, otherwise the default categories will be used by metric_type.\r\n",
      "[03/19 21:57:43] ppdet.data.source.category WARNING: metric_type: COCO, load default categories of COCO.\r\n",
      "[03/19 21:57:43] ppdet.data.source.category WARNING: anno_file 'dataset/coco/annotations/instances_val2017.json' is None or not set or not exist, please recheck TrainDataset/EvalDataset/TestDataset.anno_path, otherwise the default categories will be used by metric_type.\r\n",
      "[03/19 21:57:43] ppdet.data.source.category WARNING: metric_type: COCO, load default categories of COCO.\r\n",
      "[03/19 21:57:43] ppdet.engine INFO: Test loader length is 1500, test batch_size is 1.\r\n",
      "[03/19 21:57:43] ppdet.engine INFO: Starting predicting ......\r\n",
      "\r\n"
     ]
    },
    {
     "name": "stderr",
     "output_type": "stream",
     "text": [
      "Warning: import ppdet from source directory without installing, run 'python setup.py install' to install ppdet firstly\r\n",
      "100%|██████████| 1500/1500 [00:30<00:00, 49.02it/s]"
     ]
    },
    {
     "name": "stdout",
     "output_type": "stream",
     "text": [
      "[03/19 21:58:14] ppdet.metrics.metrics INFO: The bbox result is saved to bbox.json.\r\n",
      "[03/19 21:58:14] ppdet.metrics.metrics INFO: The bbox result is saved to output/bbox.json and do not evaluate the mAP.\r\n"
     ]
    },
    {
     "name": "stderr",
     "output_type": "stream",
     "text": [
      "\r\n",
      "W0319 21:58:19.481552  5538 gpu_resources.cc:61] Please NOTE: device: 0, GPU Compute Capability: 8.0, Driver API Version: 11.2, Runtime API Version: 11.2\r\n",
      "W0319 21:58:19.484884  5538 gpu_resources.cc:91] device: 0, cuDNN Version: 8.2.\r\n"
     ]
    },
    {
     "name": "stdout",
     "output_type": "stream",
     "text": [
      "[03/19 21:58:21] ppdet.utils.checkpoint INFO: Finish loading model weights: /home/aistudio/output/yolov7_tiny_300e_coco/model_final.pdparams\r\n",
      "['/home/aistudio/wurenji/test/20190926_103046_1_5/000001.jpg', '/home/aistudio/wurenji/test/20190926_103046_1_5/000002.jpg', '/home/aistudio/wurenji/test/20190926_103046_1_5/000003.jpg', '/home/aistudio/wurenji/test/20190926_103046_1_5/000004.jpg', '/home/aistudio/wurenji/test/20190926_103046_1_5/000005.jpg', '/home/aistudio/wurenji/test/20190926_103046_1_5/000006.jpg', '/home/aistudio/wurenji/test/20190926_103046_1_5/000007.jpg', '/home/aistudio/wurenji/test/20190926_103046_1_5/000008.jpg', '/home/aistudio/wurenji/test/20190926_103046_1_5/000009.jpg', '/home/aistudio/wurenji/test/20190926_103046_1_5/000010.jpg', '/home/aistudio/wurenji/test/20190926_103046_1_5/000011.jpg', '/home/aistudio/wurenji/test/20190926_103046_1_5/000012.jpg', '/home/aistudio/wurenji/test/20190926_103046_1_5/000013.jpg', '/home/aistudio/wurenji/test/20190926_103046_1_5/000014.jpg', '/home/aistudio/wurenji/test/20190926_103046_1_5/000015.jpg', '/home/aistudio/wurenji/test/20190926_103046_1_5/000016.jpg', '/home/\r\n",
      "[03/19 21:58:21] train INFO: Found 1000 inference images in total.\r\n",
      "[03/19 21:58:21] ppdet.data.source.category WARNING: anno_file 'dataset/coco/annotations/instances_val2017.json' is None or not set or not exist, please recheck TrainDataset/EvalDataset/TestDataset.anno_path, otherwise the default categories will be used by metric_type.\r\n",
      "[03/19 21:58:21] ppdet.data.source.category WARNING: metric_type: COCO, load default categories of COCO.\r\n",
      "[03/19 21:58:21] ppdet.data.source.category WARNING: anno_file 'dataset/coco/annotations/instances_val2017.json' is None or not set or not exist, please recheck TrainDataset/EvalDataset/TestDataset.anno_path, otherwise the default categories will be used by metric_type.\r\n",
      "[03/19 21:58:21] ppdet.data.source.category WARNING: metric_type: COCO, load default categories of COCO.\r\n",
      "[03/19 21:58:21] ppdet.engine INFO: Test loader length is 1000, test batch_size is 1.\r\n",
      "[03/19 21:58:21] ppdet.engine INFO: Starting predicting ......\r\n",
      "\r\n"
     ]
    },
    {
     "name": "stderr",
     "output_type": "stream",
     "text": [
      "Warning: import ppdet from source directory without installing, run 'python setup.py install' to install ppdet firstly\r\n",
      "100%|██████████| 1000/1000 [00:22<00:00, 45.43it/s]\r\n"
     ]
    },
    {
     "name": "stdout",
     "output_type": "stream",
     "text": [
      "[03/19 21:58:43] ppdet.metrics.metrics INFO: The bbox result is saved to bbox.json.\r\n",
      "[03/19 21:58:43] ppdet.metrics.metrics INFO: The bbox result is saved to output/bbox.json and do not evaluate the mAP.\r\n"
     ]
    },
    {
     "name": "stderr",
     "output_type": "stream",
     "text": [
      "W0319 21:58:48.198204  5671 gpu_resources.cc:61] Please NOTE: device: 0, GPU Compute Capability: 8.0, Driver API Version: 11.2, Runtime API Version: 11.2\r\n",
      "W0319 21:58:48.201216  5671 gpu_resources.cc:91] device: 0, cuDNN Version: 8.2.\r\n"
     ]
    },
    {
     "name": "stdout",
     "output_type": "stream",
     "text": [
      "[03/19 21:58:49] ppdet.utils.checkpoint INFO: Finish loading model weights: /home/aistudio/output/yolov7_tiny_300e_coco/model_final.pdparams\r\n",
      "['/home/aistudio/wurenji/test/20190925_124000_1_4/000001.jpg', '/home/aistudio/wurenji/test/20190925_124000_1_4/000002.jpg', '/home/aistudio/wurenji/test/20190925_124000_1_4/000003.jpg', '/home/aistudio/wurenji/test/20190925_124000_1_4/000004.jpg', '/home/aistudio/wurenji/test/20190925_124000_1_4/000005.jpg', '/home/aistudio/wurenji/test/20190925_124000_1_4/000006.jpg', '/home/aistudio/wurenji/test/20190925_124000_1_4/000007.jpg', '/home/aistudio/wurenji/test/20190925_124000_1_4/000008.jpg', '/home/aistudio/wurenji/test/20190925_124000_1_4/000009.jpg', '/home/aistudio/wurenji/test/20190925_124000_1_4/000010.jpg', '/home/aistudio/wurenji/test/20190925_124000_1_4/000011.jpg', '/home/aistudio/wurenji/test/20190925_124000_1_4/000012.jpg', '/home/aistudio/wurenji/test/20190925_124000_1_4/000013.jpg', '/home/aistudio/wurenji/test/20190925_124000_1_4/000014.jpg', '/home/aistudio/wurenji/test/20190925_124000_1_4/000015.jpg', '/home/aistudio/wurenji/test/20190925_124000_1_4/000016.jpg', '/home/\r\n",
      "[03/19 21:58:49] train INFO: Found 1000 inference images in total.\r\n",
      "[03/19 21:58:49] ppdet.data.source.category WARNING: anno_file 'dataset/coco/annotations/instances_val2017.json' is None or not set or not exist, please recheck TrainDataset/EvalDataset/TestDataset.anno_path, otherwise the default categories will be used by metric_type.\r\n",
      "[03/19 21:58:49] ppdet.data.source.category WARNING: metric_type: COCO, load default categories of COCO.\r\n",
      "[03/19 21:58:49] ppdet.data.source.category WARNING: anno_file 'dataset/coco/annotations/instances_val2017.json' is None or not set or not exist, please recheck TrainDataset/EvalDataset/TestDataset.anno_path, otherwise the default categories will be used by metric_type.\r\n",
      "[03/19 21:58:49] ppdet.data.source.category WARNING: metric_type: COCO, load default categories of COCO.\r\n",
      "[03/19 21:58:49] ppdet.engine INFO: Test loader length is 1000, test batch_size is 1.\r\n",
      "[03/19 21:58:49] ppdet.engine INFO: Starting predicting ......\r\n",
      "\r\n"
     ]
    },
    {
     "name": "stderr",
     "output_type": "stream",
     "text": [
      "Warning: import ppdet from source directory without installing, run 'python setup.py install' to install ppdet firstly\r\n",
      "100%|██████████| 1000/1000 [00:20<00:00, 47.98it/s]"
     ]
    },
    {
     "name": "stdout",
     "output_type": "stream",
     "text": [
      "[03/19 21:59:10] ppdet.metrics.metrics INFO: The bbox result is saved to bbox.json.\r\n",
      "[03/19 21:59:10] ppdet.metrics.metrics INFO: The bbox result is saved to output/bbox.json and do not evaluate the mAP.\r\n"
     ]
    },
    {
     "name": "stderr",
     "output_type": "stream",
     "text": [
      "\r\n",
      "W0319 21:59:15.190291  5849 gpu_resources.cc:61] Please NOTE: device: 0, GPU Compute Capability: 8.0, Driver API Version: 11.2, Runtime API Version: 11.2\r\n",
      "W0319 21:59:15.193205  5849 gpu_resources.cc:91] device: 0, cuDNN Version: 8.2.\r\n"
     ]
    },
    {
     "name": "stdout",
     "output_type": "stream",
     "text": [
      "[03/19 21:59:16] ppdet.utils.checkpoint INFO: Finish loading model weights: /home/aistudio/output/yolov7_tiny_300e_coco/model_final.pdparams\r\n",
      "['/home/aistudio/wurenji/test/wg2022_ir_020_split_03/000001.jpg', '/home/aistudio/wurenji/test/wg2022_ir_020_split_03/000002.jpg', '/home/aistudio/wurenji/test/wg2022_ir_020_split_03/000003.jpg', '/home/aistudio/wurenji/test/wg2022_ir_020_split_03/000004.jpg', '/home/aistudio/wurenji/test/wg2022_ir_020_split_03/000005.jpg', '/home/aistudio/wurenji/test/wg2022_ir_020_split_03/000006.jpg', '/home/aistudio/wurenji/test/wg2022_ir_020_split_03/000007.jpg', '/home/aistudio/wurenji/test/wg2022_ir_020_split_03/000008.jpg', '/home/aistudio/wurenji/test/wg2022_ir_020_split_03/000009.jpg', '/home/aistudio/wurenji/test/wg2022_ir_020_split_03/000010.jpg', '/home/aistudio/wurenji/test/wg2022_ir_020_split_03/000011.jpg', '/home/aistudio/wurenji/test/wg2022_ir_020_split_03/000012.jpg', '/home/aistudio/wurenji/test/wg2022_ir_020_split_03/000013.jpg', '/home/aistudio/wurenji/test/wg2022_ir_020_split_03/000014.jpg', '/home/aistudio/wurenji/test/wg2022_ir_020_split_03/000015.jpg', '/home/aistudio/wurenji/\r\n",
      "[03/19 21:59:16] train INFO: Found 1500 inference images in total.\r\n",
      "[03/19 21:59:16] ppdet.data.source.category WARNING: anno_file 'dataset/coco/annotations/instances_val2017.json' is None or not set or not exist, please recheck TrainDataset/EvalDataset/TestDataset.anno_path, otherwise the default categories will be used by metric_type.\r\n",
      "[03/19 21:59:16] ppdet.data.source.category WARNING: metric_type: COCO, load default categories of COCO.\r\n",
      "[03/19 21:59:16] ppdet.data.source.category WARNING: anno_file 'dataset/coco/annotations/instances_val2017.json' is None or not set or not exist, please recheck TrainDataset/EvalDataset/TestDataset.anno_path, otherwise the default categories will be used by metric_type.\r\n",
      "[03/19 21:59:16] ppdet.data.source.category WARNING: metric_type: COCO, load default categories of COCO.\r\n",
      "[03/19 21:59:16] ppdet.engine INFO: Test loader length is 1500, test batch_size is 1.\r\n",
      "[03/19 21:59:16] ppdet.engine INFO: Starting predicting ......\r\n",
      "\r\n"
     ]
    },
    {
     "name": "stderr",
     "output_type": "stream",
     "text": [
      "Warning: import ppdet from source directory without installing, run 'python setup.py install' to install ppdet firstly\r\n",
      "100%|██████████| 1500/1500 [00:30<00:00, 49.98it/s]"
     ]
    },
    {
     "name": "stdout",
     "output_type": "stream",
     "text": [
      "[03/19 21:59:47] ppdet.metrics.metrics INFO: The bbox result is saved to bbox.json.\r\n",
      "[03/19 21:59:47] ppdet.metrics.metrics INFO: The bbox result is saved to output/bbox.json and do not evaluate the mAP.\r\n"
     ]
    },
    {
     "name": "stderr",
     "output_type": "stream",
     "text": [
      "\r\n",
      "W0319 21:59:52.799026  6055 gpu_resources.cc:61] Please NOTE: device: 0, GPU Compute Capability: 8.0, Driver API Version: 11.2, Runtime API Version: 11.2\r\n",
      "W0319 21:59:52.802181  6055 gpu_resources.cc:91] device: 0, cuDNN Version: 8.2.\r\n"
     ]
    },
    {
     "name": "stdout",
     "output_type": "stream",
     "text": [
      "[03/19 21:59:54] ppdet.utils.checkpoint INFO: Finish loading model weights: /home/aistudio/output/yolov7_tiny_300e_coco/model_final.pdparams\r\n",
      "['/home/aistudio/wurenji/test/wg2022_ir_011_split_03/000001.jpg', '/home/aistudio/wurenji/test/wg2022_ir_011_split_03/000002.jpg', '/home/aistudio/wurenji/test/wg2022_ir_011_split_03/000003.jpg', '/home/aistudio/wurenji/test/wg2022_ir_011_split_03/000004.jpg', '/home/aistudio/wurenji/test/wg2022_ir_011_split_03/000005.jpg', '/home/aistudio/wurenji/test/wg2022_ir_011_split_03/000006.jpg', '/home/aistudio/wurenji/test/wg2022_ir_011_split_03/000007.jpg', '/home/aistudio/wurenji/test/wg2022_ir_011_split_03/000008.jpg', '/home/aistudio/wurenji/test/wg2022_ir_011_split_03/000009.jpg', '/home/aistudio/wurenji/test/wg2022_ir_011_split_03/000010.jpg', '/home/aistudio/wurenji/test/wg2022_ir_011_split_03/000011.jpg', '/home/aistudio/wurenji/test/wg2022_ir_011_split_03/000012.jpg', '/home/aistudio/wurenji/test/wg2022_ir_011_split_03/000013.jpg', '/home/aistudio/wurenji/test/wg2022_ir_011_split_03/000014.jpg', '/home/aistudio/wurenji/test/wg2022_ir_011_split_03/000015.jpg', '/home/aistudio/wurenji/\r\n",
      "[03/19 21:59:54] train INFO: Found 1500 inference images in total.\r\n",
      "[03/19 21:59:54] ppdet.data.source.category WARNING: anno_file 'dataset/coco/annotations/instances_val2017.json' is None or not set or not exist, please recheck TrainDataset/EvalDataset/TestDataset.anno_path, otherwise the default categories will be used by metric_type.\r\n",
      "[03/19 21:59:54] ppdet.data.source.category WARNING: metric_type: COCO, load default categories of COCO.\r\n",
      "[03/19 21:59:54] ppdet.data.source.category WARNING: anno_file 'dataset/coco/annotations/instances_val2017.json' is None or not set or not exist, please recheck TrainDataset/EvalDataset/TestDataset.anno_path, otherwise the default categories will be used by metric_type.\r\n",
      "[03/19 21:59:54] ppdet.data.source.category WARNING: metric_type: COCO, load default categories of COCO.\r\n",
      "[03/19 21:59:54] ppdet.engine INFO: Test loader length is 1500, test batch_size is 1.\r\n",
      "[03/19 21:59:54] ppdet.engine INFO: Starting predicting ......\r\n",
      "\r\n"
     ]
    },
    {
     "name": "stderr",
     "output_type": "stream",
     "text": [
      "Warning: import ppdet from source directory without installing, run 'python setup.py install' to install ppdet firstly\r\n",
      "100%|██████████| 1500/1500 [00:29<00:00, 50.18it/s]"
     ]
    },
    {
     "name": "stdout",
     "output_type": "stream",
     "text": [
      "[03/19 22:00:24] ppdet.metrics.metrics INFO: The bbox result is saved to bbox.json.\r\n",
      "[03/19 22:00:24] ppdet.metrics.metrics INFO: The bbox result is saved to output/bbox.json and do not evaluate the mAP.\r\n"
     ]
    },
    {
     "name": "stderr",
     "output_type": "stream",
     "text": [
      "\r\n",
      "W0319 22:00:29.755472  6298 gpu_resources.cc:61] Please NOTE: device: 0, GPU Compute Capability: 8.0, Driver API Version: 11.2, Runtime API Version: 11.2\r\n",
      "W0319 22:00:29.758705  6298 gpu_resources.cc:91] device: 0, cuDNN Version: 8.2.\r\n"
     ]
    },
    {
     "name": "stdout",
     "output_type": "stream",
     "text": [
      "[03/19 22:00:31] ppdet.utils.checkpoint INFO: Finish loading model weights: /home/aistudio/output/yolov7_tiny_300e_coco/model_final.pdparams\r\n",
      "['/home/aistudio/wurenji/test/01_2192_0001-1500/000001.jpg', '/home/aistudio/wurenji/test/01_2192_0001-1500/000002.jpg', '/home/aistudio/wurenji/test/01_2192_0001-1500/000003.jpg', '/home/aistudio/wurenji/test/01_2192_0001-1500/000004.jpg', '/home/aistudio/wurenji/test/01_2192_0001-1500/000005.jpg', '/home/aistudio/wurenji/test/01_2192_0001-1500/000006.jpg', '/home/aistudio/wurenji/test/01_2192_0001-1500/000007.jpg', '/home/aistudio/wurenji/test/01_2192_0001-1500/000008.jpg', '/home/aistudio/wurenji/test/01_2192_0001-1500/000009.jpg', '/home/aistudio/wurenji/test/01_2192_0001-1500/000010.jpg', '/home/aistudio/wurenji/test/01_2192_0001-1500/000011.jpg', '/home/aistudio/wurenji/test/01_2192_0001-1500/000012.jpg', '/home/aistudio/wurenji/test/01_2192_0001-1500/000013.jpg', '/home/aistudio/wurenji/test/01_2192_0001-1500/000014.jpg', '/home/aistudio/wurenji/test/01_2192_0001-1500/000015.jpg', '/home/aistudio/wurenji/test/01_2192_0001-1500/000016.jpg', '/home/aistudio/wurenji/test/01_2192_00\r\n",
      "[03/19 22:00:31] train INFO: Found 1500 inference images in total.\r\n",
      "[03/19 22:00:31] ppdet.data.source.category WARNING: anno_file 'dataset/coco/annotations/instances_val2017.json' is None or not set or not exist, please recheck TrainDataset/EvalDataset/TestDataset.anno_path, otherwise the default categories will be used by metric_type.\r\n",
      "[03/19 22:00:31] ppdet.data.source.category WARNING: metric_type: COCO, load default categories of COCO.\r\n",
      "[03/19 22:00:31] ppdet.data.source.category WARNING: anno_file 'dataset/coco/annotations/instances_val2017.json' is None or not set or not exist, please recheck TrainDataset/EvalDataset/TestDataset.anno_path, otherwise the default categories will be used by metric_type.\r\n",
      "[03/19 22:00:31] ppdet.data.source.category WARNING: metric_type: COCO, load default categories of COCO.\r\n",
      "[03/19 22:00:31] ppdet.engine INFO: Test loader length is 1500, test batch_size is 1.\r\n",
      "[03/19 22:00:31] ppdet.engine INFO: Starting predicting ......\r\n",
      "\r\n"
     ]
    },
    {
     "name": "stderr",
     "output_type": "stream",
     "text": [
      "Warning: import ppdet from source directory without installing, run 'python setup.py install' to install ppdet firstly\r\n",
      "100%|██████████| 1500/1500 [00:30<00:00, 49.84it/s]"
     ]
    },
    {
     "name": "stdout",
     "output_type": "stream",
     "text": [
      "[03/19 22:01:01] ppdet.metrics.metrics INFO: The bbox result is saved to bbox.json.\r\n",
      "[03/19 22:01:01] ppdet.metrics.metrics INFO: The bbox result is saved to output/bbox.json and do not evaluate the mAP.\r\n"
     ]
    },
    {
     "name": "stderr",
     "output_type": "stream",
     "text": [
      "\r\n",
      "W0319 22:01:06.279549  6489 gpu_resources.cc:61] Please NOTE: device: 0, GPU Compute Capability: 8.0, Driver API Version: 11.2, Runtime API Version: 11.2\r\n",
      "W0319 22:01:06.282867  6489 gpu_resources.cc:91] device: 0, cuDNN Version: 8.2.\r\n"
     ]
    },
    {
     "name": "stdout",
     "output_type": "stream",
     "text": [
      "[03/19 22:01:07] ppdet.utils.checkpoint INFO: Finish loading model weights: /home/aistudio/output/yolov7_tiny_300e_coco/model_final.pdparams\r\n",
      "['/home/aistudio/wurenji/test/20190925_143900_1_4/000001.jpg', '/home/aistudio/wurenji/test/20190925_143900_1_4/000002.jpg', '/home/aistudio/wurenji/test/20190925_143900_1_4/000003.jpg', '/home/aistudio/wurenji/test/20190925_143900_1_4/000004.jpg', '/home/aistudio/wurenji/test/20190925_143900_1_4/000005.jpg', '/home/aistudio/wurenji/test/20190925_143900_1_4/000006.jpg', '/home/aistudio/wurenji/test/20190925_143900_1_4/000007.jpg', '/home/aistudio/wurenji/test/20190925_143900_1_4/000008.jpg', '/home/aistudio/wurenji/test/20190925_143900_1_4/000009.jpg', '/home/aistudio/wurenji/test/20190925_143900_1_4/000010.jpg', '/home/aistudio/wurenji/test/20190925_143900_1_4/000011.jpg', '/home/aistudio/wurenji/test/20190925_143900_1_4/000012.jpg', '/home/aistudio/wurenji/test/20190925_143900_1_4/000013.jpg', '/home/aistudio/wurenji/test/20190925_143900_1_4/000014.jpg', '/home/aistudio/wurenji/test/20190925_143900_1_4/000015.jpg', '/home/aistudio/wurenji/test/20190925_143900_1_4/000016.jpg', '/home/\r\n",
      "[03/19 22:01:07] train INFO: Found 1000 inference images in total.\r\n",
      "[03/19 22:01:07] ppdet.data.source.category WARNING: anno_file 'dataset/coco/annotations/instances_val2017.json' is None or not set or not exist, please recheck TrainDataset/EvalDataset/TestDataset.anno_path, otherwise the default categories will be used by metric_type.\r\n",
      "[03/19 22:01:07] ppdet.data.source.category WARNING: metric_type: COCO, load default categories of COCO.\r\n",
      "[03/19 22:01:07] ppdet.data.source.category WARNING: anno_file 'dataset/coco/annotations/instances_val2017.json' is None or not set or not exist, please recheck TrainDataset/EvalDataset/TestDataset.anno_path, otherwise the default categories will be used by metric_type.\r\n",
      "[03/19 22:01:07] ppdet.data.source.category WARNING: metric_type: COCO, load default categories of COCO.\r\n",
      "[03/19 22:01:07] ppdet.engine INFO: Test loader length is 1000, test batch_size is 1.\r\n",
      "[03/19 22:01:07] ppdet.engine INFO: Starting predicting ......\r\n",
      "\r\n"
     ]
    },
    {
     "name": "stderr",
     "output_type": "stream",
     "text": [
      "Warning: import ppdet from source directory without installing, run 'python setup.py install' to install ppdet firstly\r\n",
      "100%|██████████| 1000/1000 [00:20<00:00, 48.13it/s]"
     ]
    },
    {
     "name": "stdout",
     "output_type": "stream",
     "text": [
      "[03/19 22:01:28] ppdet.metrics.metrics INFO: The bbox result is saved to bbox.json.\r\n",
      "[03/19 22:01:28] ppdet.metrics.metrics INFO: The bbox result is saved to output/bbox.json and do not evaluate the mAP.\r\n"
     ]
    },
    {
     "name": "stderr",
     "output_type": "stream",
     "text": [
      "\r\n",
      "W0319 22:01:33.517997  6677 gpu_resources.cc:61] Please NOTE: device: 0, GPU Compute Capability: 8.0, Driver API Version: 11.2, Runtime API Version: 11.2\r\n",
      "W0319 22:01:33.521132  6677 gpu_resources.cc:91] device: 0, cuDNN Version: 8.2.\r\n"
     ]
    },
    {
     "name": "stdout",
     "output_type": "stream",
     "text": [
      "[03/19 22:01:35] ppdet.utils.checkpoint INFO: Finish loading model weights: /home/aistudio/output/yolov7_tiny_300e_coco/model_final.pdparams\r\n",
      "['/home/aistudio/wurenji/test/20190926_134054_1_2/000001.jpg', '/home/aistudio/wurenji/test/20190926_134054_1_2/000002.jpg', '/home/aistudio/wurenji/test/20190926_134054_1_2/000003.jpg', '/home/aistudio/wurenji/test/20190926_134054_1_2/000004.jpg', '/home/aistudio/wurenji/test/20190926_134054_1_2/000005.jpg', '/home/aistudio/wurenji/test/20190926_134054_1_2/000006.jpg', '/home/aistudio/wurenji/test/20190926_134054_1_2/000007.jpg', '/home/aistudio/wurenji/test/20190926_134054_1_2/000008.jpg', '/home/aistudio/wurenji/test/20190926_134054_1_2/000009.jpg', '/home/aistudio/wurenji/test/20190926_134054_1_2/000010.jpg', '/home/aistudio/wurenji/test/20190926_134054_1_2/000011.jpg', '/home/aistudio/wurenji/test/20190926_134054_1_2/000012.jpg', '/home/aistudio/wurenji/test/20190926_134054_1_2/000013.jpg', '/home/aistudio/wurenji/test/20190926_134054_1_2/000014.jpg', '/home/aistudio/wurenji/test/20190926_134054_1_2/000015.jpg', '/home/aistudio/wurenji/test/20190926_134054_1_2/000016.jpg', '/home/\r\n",
      "[03/19 22:01:35] train INFO: Found 1000 inference images in total.\r\n",
      "[03/19 22:01:35] ppdet.data.source.category WARNING: anno_file 'dataset/coco/annotations/instances_val2017.json' is None or not set or not exist, please recheck TrainDataset/EvalDataset/TestDataset.anno_path, otherwise the default categories will be used by metric_type.\r\n",
      "[03/19 22:01:35] ppdet.data.source.category WARNING: metric_type: COCO, load default categories of COCO.\r\n",
      "[03/19 22:01:35] ppdet.data.source.category WARNING: anno_file 'dataset/coco/annotations/instances_val2017.json' is None or not set or not exist, please recheck TrainDataset/EvalDataset/TestDataset.anno_path, otherwise the default categories will be used by metric_type.\r\n",
      "[03/19 22:01:35] ppdet.data.source.category WARNING: metric_type: COCO, load default categories of COCO.\r\n",
      "[03/19 22:01:35] ppdet.engine INFO: Test loader length is 1000, test batch_size is 1.\r\n",
      "[03/19 22:01:35] ppdet.engine INFO: Starting predicting ......\r\n",
      "\r\n"
     ]
    },
    {
     "name": "stderr",
     "output_type": "stream",
     "text": [
      "Warning: import ppdet from source directory without installing, run 'python setup.py install' to install ppdet firstly\r\n",
      "100%|██████████| 1000/1000 [00:21<00:00, 47.38it/s]\r\n"
     ]
    },
    {
     "name": "stdout",
     "output_type": "stream",
     "text": [
      "[03/19 22:01:56] ppdet.metrics.metrics INFO: The bbox result is saved to bbox.json.\r\n",
      "[03/19 22:01:56] ppdet.metrics.metrics INFO: The bbox result is saved to output/bbox.json and do not evaluate the mAP.\r\n"
     ]
    },
    {
     "name": "stderr",
     "output_type": "stream",
     "text": [
      "W0319 22:02:01.062037  6814 gpu_resources.cc:61] Please NOTE: device: 0, GPU Compute Capability: 8.0, Driver API Version: 11.2, Runtime API Version: 11.2\r\n",
      "W0319 22:02:01.065018  6814 gpu_resources.cc:91] device: 0, cuDNN Version: 8.2.\r\n"
     ]
    },
    {
     "name": "stdout",
     "output_type": "stream",
     "text": [
      "[03/19 22:02:02] ppdet.utils.checkpoint INFO: Finish loading model weights: /home/aistudio/output/yolov7_tiny_300e_coco/model_final.pdparams\r\n",
      "['/home/aistudio/wurenji/test/wg2022_ir_026_split_03/000001.jpg', '/home/aistudio/wurenji/test/wg2022_ir_026_split_03/000002.jpg', '/home/aistudio/wurenji/test/wg2022_ir_026_split_03/000003.jpg', '/home/aistudio/wurenji/test/wg2022_ir_026_split_03/000004.jpg', '/home/aistudio/wurenji/test/wg2022_ir_026_split_03/000005.jpg', '/home/aistudio/wurenji/test/wg2022_ir_026_split_03/000006.jpg', '/home/aistudio/wurenji/test/wg2022_ir_026_split_03/000007.jpg', '/home/aistudio/wurenji/test/wg2022_ir_026_split_03/000008.jpg', '/home/aistudio/wurenji/test/wg2022_ir_026_split_03/000009.jpg', '/home/aistudio/wurenji/test/wg2022_ir_026_split_03/000010.jpg', '/home/aistudio/wurenji/test/wg2022_ir_026_split_03/000011.jpg', '/home/aistudio/wurenji/test/wg2022_ir_026_split_03/000012.jpg', '/home/aistudio/wurenji/test/wg2022_ir_026_split_03/000013.jpg', '/home/aistudio/wurenji/test/wg2022_ir_026_split_03/000014.jpg', '/home/aistudio/wurenji/test/wg2022_ir_026_split_03/000015.jpg', '/home/aistudio/wurenji/\r\n",
      "[03/19 22:02:02] train INFO: Found 1500 inference images in total.\r\n",
      "[03/19 22:02:02] ppdet.data.source.category WARNING: anno_file 'dataset/coco/annotations/instances_val2017.json' is None or not set or not exist, please recheck TrainDataset/EvalDataset/TestDataset.anno_path, otherwise the default categories will be used by metric_type.\r\n",
      "[03/19 22:02:02] ppdet.data.source.category WARNING: metric_type: COCO, load default categories of COCO.\r\n",
      "[03/19 22:02:02] ppdet.data.source.category WARNING: anno_file 'dataset/coco/annotations/instances_val2017.json' is None or not set or not exist, please recheck TrainDataset/EvalDataset/TestDataset.anno_path, otherwise the default categories will be used by metric_type.\r\n",
      "[03/19 22:02:02] ppdet.data.source.category WARNING: metric_type: COCO, load default categories of COCO.\r\n",
      "[03/19 22:02:02] ppdet.engine INFO: Test loader length is 1500, test batch_size is 1.\r\n",
      "[03/19 22:02:02] ppdet.engine INFO: Starting predicting ......\r\n",
      "\r\n"
     ]
    },
    {
     "name": "stderr",
     "output_type": "stream",
     "text": [
      "Warning: import ppdet from source directory without installing, run 'python setup.py install' to install ppdet firstly\r\n",
      "100%|██████████| 1500/1500 [00:29<00:00, 50.28it/s]"
     ]
    },
    {
     "name": "stdout",
     "output_type": "stream",
     "text": [
      "[03/19 22:02:34] ppdet.metrics.metrics INFO: The bbox result is saved to bbox.json.\r\n",
      "[03/19 22:02:34] ppdet.metrics.metrics INFO: The bbox result is saved to output/bbox.json and do not evaluate the mAP.\r\n"
     ]
    },
    {
     "name": "stderr",
     "output_type": "stream",
     "text": [
      "\r\n",
      "W0319 22:02:39.285097  7056 gpu_resources.cc:61] Please NOTE: device: 0, GPU Compute Capability: 8.0, Driver API Version: 11.2, Runtime API Version: 11.2\r\n",
      "W0319 22:02:39.288297  7056 gpu_resources.cc:91] device: 0, cuDNN Version: 8.2.\r\n"
     ]
    },
    {
     "name": "stdout",
     "output_type": "stream",
     "text": [
      "[03/19 22:02:40] ppdet.utils.checkpoint INFO: Finish loading model weights: /home/aistudio/output/yolov7_tiny_300e_coco/model_final.pdparams\r\n",
      "['/home/aistudio/wurenji/test/3700000000002_105103_6/000001.jpg', '/home/aistudio/wurenji/test/3700000000002_105103_6/000002.jpg', '/home/aistudio/wurenji/test/3700000000002_105103_6/000003.jpg', '/home/aistudio/wurenji/test/3700000000002_105103_6/000004.jpg', '/home/aistudio/wurenji/test/3700000000002_105103_6/000005.jpg', '/home/aistudio/wurenji/test/3700000000002_105103_6/000006.jpg', '/home/aistudio/wurenji/test/3700000000002_105103_6/000007.jpg', '/home/aistudio/wurenji/test/3700000000002_105103_6/000008.jpg', '/home/aistudio/wurenji/test/3700000000002_105103_6/000009.jpg', '/home/aistudio/wurenji/test/3700000000002_105103_6/000010.jpg', '/home/aistudio/wurenji/test/3700000000002_105103_6/000011.jpg', '/home/aistudio/wurenji/test/3700000000002_105103_6/000012.jpg', '/home/aistudio/wurenji/test/3700000000002_105103_6/000013.jpg', '/home/aistudio/wurenji/test/3700000000002_105103_6/000014.jpg', '/home/aistudio/wurenji/test/3700000000002_105103_6/000015.jpg', '/home/aistudio/wurenji/\r\n",
      "[03/19 22:02:40] train INFO: Found 1500 inference images in total.\r\n",
      "[03/19 22:02:40] ppdet.data.source.category WARNING: anno_file 'dataset/coco/annotations/instances_val2017.json' is None or not set or not exist, please recheck TrainDataset/EvalDataset/TestDataset.anno_path, otherwise the default categories will be used by metric_type.\r\n",
      "[03/19 22:02:40] ppdet.data.source.category WARNING: metric_type: COCO, load default categories of COCO.\r\n",
      "[03/19 22:02:40] ppdet.data.source.category WARNING: anno_file 'dataset/coco/annotations/instances_val2017.json' is None or not set or not exist, please recheck TrainDataset/EvalDataset/TestDataset.anno_path, otherwise the default categories will be used by metric_type.\r\n",
      "[03/19 22:02:40] ppdet.data.source.category WARNING: metric_type: COCO, load default categories of COCO.\r\n",
      "[03/19 22:02:40] ppdet.engine INFO: Test loader length is 1500, test batch_size is 1.\r\n",
      "[03/19 22:02:40] ppdet.engine INFO: Starting predicting ......\r\n",
      "\r\n"
     ]
    },
    {
     "name": "stderr",
     "output_type": "stream",
     "text": [
      "Warning: import ppdet from source directory without installing, run 'python setup.py install' to install ppdet firstly\r\n",
      "100%|██████████| 1500/1500 [00:29<00:00, 50.28it/s]"
     ]
    },
    {
     "name": "stdout",
     "output_type": "stream",
     "text": [
      "[03/19 22:03:11] ppdet.metrics.metrics INFO: The bbox result is saved to bbox.json.\r\n",
      "[03/19 22:03:11] ppdet.metrics.metrics INFO: The bbox result is saved to output/bbox.json and do not evaluate the mAP.\r\n"
     ]
    },
    {
     "name": "stderr",
     "output_type": "stream",
     "text": [
      "\r\n",
      "W0319 22:03:15.789670  7248 gpu_resources.cc:61] Please NOTE: device: 0, GPU Compute Capability: 8.0, Driver API Version: 11.2, Runtime API Version: 11.2\r\n",
      "W0319 22:03:15.792907  7248 gpu_resources.cc:91] device: 0, cuDNN Version: 8.2.\r\n"
     ]
    },
    {
     "name": "stdout",
     "output_type": "stream",
     "text": [
      "[03/19 22:03:17] ppdet.utils.checkpoint INFO: Finish loading model weights: /home/aistudio/output/yolov7_tiny_300e_coco/model_final.pdparams\r\n",
      "['/home/aistudio/wurenji/test/20190925_133630_1_8/000001.jpg', '/home/aistudio/wurenji/test/20190925_133630_1_8/000002.jpg', '/home/aistudio/wurenji/test/20190925_133630_1_8/000003.jpg', '/home/aistudio/wurenji/test/20190925_133630_1_8/000004.jpg', '/home/aistudio/wurenji/test/20190925_133630_1_8/000005.jpg', '/home/aistudio/wurenji/test/20190925_133630_1_8/000006.jpg', '/home/aistudio/wurenji/test/20190925_133630_1_8/000007.jpg', '/home/aistudio/wurenji/test/20190925_133630_1_8/000008.jpg', '/home/aistudio/wurenji/test/20190925_133630_1_8/000009.jpg', '/home/aistudio/wurenji/test/20190925_133630_1_8/000010.jpg', '/home/aistudio/wurenji/test/20190925_133630_1_8/000011.jpg', '/home/aistudio/wurenji/test/20190925_133630_1_8/000012.jpg', '/home/aistudio/wurenji/test/20190925_133630_1_8/000013.jpg', '/home/aistudio/wurenji/test/20190925_133630_1_8/000014.jpg', '/home/aistudio/wurenji/test/20190925_133630_1_8/000015.jpg', '/home/aistudio/wurenji/test/20190925_133630_1_8/000016.jpg', '/home/\r\n",
      "[03/19 22:03:17] train INFO: Found 1000 inference images in total.\r\n",
      "[03/19 22:03:17] ppdet.data.source.category WARNING: anno_file 'dataset/coco/annotations/instances_val2017.json' is None or not set or not exist, please recheck TrainDataset/EvalDataset/TestDataset.anno_path, otherwise the default categories will be used by metric_type.\r\n",
      "[03/19 22:03:17] ppdet.data.source.category WARNING: metric_type: COCO, load default categories of COCO.\r\n",
      "[03/19 22:03:17] ppdet.data.source.category WARNING: anno_file 'dataset/coco/annotations/instances_val2017.json' is None or not set or not exist, please recheck TrainDataset/EvalDataset/TestDataset.anno_path, otherwise the default categories will be used by metric_type.\r\n",
      "[03/19 22:03:17] ppdet.data.source.category WARNING: metric_type: COCO, load default categories of COCO.\r\n",
      "[03/19 22:03:17] ppdet.engine INFO: Test loader length is 1000, test batch_size is 1.\r\n",
      "[03/19 22:03:17] ppdet.engine INFO: Starting predicting ......\r\n",
      "\r\n"
     ]
    },
    {
     "name": "stderr",
     "output_type": "stream",
     "text": [
      "Warning: import ppdet from source directory without installing, run 'python setup.py install' to install ppdet firstly\r\n",
      "100%|██████████| 1000/1000 [00:21<00:00, 47.23it/s]"
     ]
    },
    {
     "name": "stdout",
     "output_type": "stream",
     "text": [
      "[03/19 22:03:38] ppdet.metrics.metrics INFO: The bbox result is saved to bbox.json.\r\n",
      "[03/19 22:03:38] ppdet.metrics.metrics INFO: The bbox result is saved to output/bbox.json and do not evaluate the mAP.\r\n"
     ]
    },
    {
     "name": "stderr",
     "output_type": "stream",
     "text": [
      "\r\n",
      "W0319 22:03:44.086455  7436 gpu_resources.cc:61] Please NOTE: device: 0, GPU Compute Capability: 8.0, Driver API Version: 11.2, Runtime API Version: 11.2\r\n",
      "W0319 22:03:44.089653  7436 gpu_resources.cc:91] device: 0, cuDNN Version: 8.2.\r\n"
     ]
    },
    {
     "name": "stdout",
     "output_type": "stream",
     "text": [
      "[03/19 22:03:45] ppdet.utils.checkpoint INFO: Finish loading model weights: /home/aistudio/output/yolov7_tiny_300e_coco/model_final.pdparams\r\n",
      "['/home/aistudio/wurenji/test/new8_train-new/000001.jpg', '/home/aistudio/wurenji/test/new8_train-new/000002.jpg', '/home/aistudio/wurenji/test/new8_train-new/000003.jpg', '/home/aistudio/wurenji/test/new8_train-new/000004.jpg', '/home/aistudio/wurenji/test/new8_train-new/000005.jpg', '/home/aistudio/wurenji/test/new8_train-new/000006.jpg', '/home/aistudio/wurenji/test/new8_train-new/000007.jpg', '/home/aistudio/wurenji/test/new8_train-new/000008.jpg', '/home/aistudio/wurenji/test/new8_train-new/000009.jpg', '/home/aistudio/wurenji/test/new8_train-new/000010.jpg', '/home/aistudio/wurenji/test/new8_train-new/000011.jpg', '/home/aistudio/wurenji/test/new8_train-new/000012.jpg', '/home/aistudio/wurenji/test/new8_train-new/000013.jpg', '/home/aistudio/wurenji/test/new8_train-new/000014.jpg', '/home/aistudio/wurenji/test/new8_train-new/000015.jpg', '/home/aistudio/wurenji/test/new8_train-new/000016.jpg', '/home/aistudio/wurenji/test/new8_train-new/000017.jpg', '/home/aistudio/wurenji/test/n\r\n",
      "[03/19 22:03:45] train INFO: Found 1500 inference images in total.\r\n",
      "[03/19 22:03:45] ppdet.data.source.category WARNING: anno_file 'dataset/coco/annotations/instances_val2017.json' is None or not set or not exist, please recheck TrainDataset/EvalDataset/TestDataset.anno_path, otherwise the default categories will be used by metric_type.\r\n",
      "[03/19 22:03:45] ppdet.data.source.category WARNING: metric_type: COCO, load default categories of COCO.\r\n",
      "[03/19 22:03:45] ppdet.data.source.category WARNING: anno_file 'dataset/coco/annotations/instances_val2017.json' is None or not set or not exist, please recheck TrainDataset/EvalDataset/TestDataset.anno_path, otherwise the default categories will be used by metric_type.\r\n",
      "[03/19 22:03:45] ppdet.data.source.category WARNING: metric_type: COCO, load default categories of COCO.\r\n",
      "[03/19 22:03:45] ppdet.engine INFO: Test loader length is 1500, test batch_size is 1.\r\n",
      "[03/19 22:03:45] ppdet.engine INFO: Starting predicting ......\r\n",
      "\r\n"
     ]
    },
    {
     "name": "stderr",
     "output_type": "stream",
     "text": [
      "Warning: import ppdet from source directory without installing, run 'python setup.py install' to install ppdet firstly\r\n",
      "100%|██████████| 1500/1500 [00:28<00:00, 52.52it/s]"
     ]
    },
    {
     "name": "stdout",
     "output_type": "stream",
     "text": [
      "[03/19 22:04:14] ppdet.metrics.metrics INFO: The bbox result is saved to bbox.json.\r\n",
      "[03/19 22:04:14] ppdet.metrics.metrics INFO: The bbox result is saved to output/bbox.json and do not evaluate the mAP.\r\n"
     ]
    },
    {
     "name": "stderr",
     "output_type": "stream",
     "text": [
      "\r\n",
      "W0319 22:04:18.848680  7625 gpu_resources.cc:61] Please NOTE: device: 0, GPU Compute Capability: 8.0, Driver API Version: 11.2, Runtime API Version: 11.2\r\n",
      "W0319 22:04:18.851727  7625 gpu_resources.cc:91] device: 0, cuDNN Version: 8.2.\r\n"
     ]
    },
    {
     "name": "stdout",
     "output_type": "stream",
     "text": [
      "[03/19 22:04:20] ppdet.utils.checkpoint INFO: Finish loading model weights: /home/aistudio/output/yolov7_tiny_300e_coco/model_final.pdparams\r\n",
      "['/home/aistudio/wurenji/test/20190926_141816_1_4/000001.jpg', '/home/aistudio/wurenji/test/20190926_141816_1_4/000002.jpg', '/home/aistudio/wurenji/test/20190926_141816_1_4/000003.jpg', '/home/aistudio/wurenji/test/20190926_141816_1_4/000004.jpg', '/home/aistudio/wurenji/test/20190926_141816_1_4/000005.jpg', '/home/aistudio/wurenji/test/20190926_141816_1_4/000006.jpg', '/home/aistudio/wurenji/test/20190926_141816_1_4/000007.jpg', '/home/aistudio/wurenji/test/20190926_141816_1_4/000008.jpg', '/home/aistudio/wurenji/test/20190926_141816_1_4/000009.jpg', '/home/aistudio/wurenji/test/20190926_141816_1_4/000010.jpg', '/home/aistudio/wurenji/test/20190926_141816_1_4/000011.jpg', '/home/aistudio/wurenji/test/20190926_141816_1_4/000012.jpg', '/home/aistudio/wurenji/test/20190926_141816_1_4/000013.jpg', '/home/aistudio/wurenji/test/20190926_141816_1_4/000014.jpg', '/home/aistudio/wurenji/test/20190926_141816_1_4/000015.jpg', '/home/aistudio/wurenji/test/20190926_141816_1_4/000016.jpg', '/home/\r\n",
      "[03/19 22:04:20] train INFO: Found 1000 inference images in total.\r\n",
      "[03/19 22:04:20] ppdet.data.source.category WARNING: anno_file 'dataset/coco/annotations/instances_val2017.json' is None or not set or not exist, please recheck TrainDataset/EvalDataset/TestDataset.anno_path, otherwise the default categories will be used by metric_type.\r\n",
      "[03/19 22:04:20] ppdet.data.source.category WARNING: metric_type: COCO, load default categories of COCO.\r\n",
      "[03/19 22:04:20] ppdet.data.source.category WARNING: anno_file 'dataset/coco/annotations/instances_val2017.json' is None or not set or not exist, please recheck TrainDataset/EvalDataset/TestDataset.anno_path, otherwise the default categories will be used by metric_type.\r\n",
      "[03/19 22:04:20] ppdet.data.source.category WARNING: metric_type: COCO, load default categories of COCO.\r\n",
      "[03/19 22:04:20] ppdet.engine INFO: Test loader length is 1000, test batch_size is 1.\r\n",
      "[03/19 22:04:20] ppdet.engine INFO: Starting predicting ......\r\n",
      "\r\n"
     ]
    },
    {
     "name": "stderr",
     "output_type": "stream",
     "text": [
      "Warning: import ppdet from source directory without installing, run 'python setup.py install' to install ppdet firstly\r\n",
      "100%|██████████| 1000/1000 [00:19<00:00, 50.58it/s]"
     ]
    },
    {
     "name": "stdout",
     "output_type": "stream",
     "text": [
      "[03/19 22:04:40] ppdet.metrics.metrics INFO: The bbox result is saved to bbox.json.\r\n",
      "[03/19 22:04:40] ppdet.metrics.metrics INFO: The bbox result is saved to output/bbox.json and do not evaluate the mAP.\r\n"
     ]
    },
    {
     "name": "stderr",
     "output_type": "stream",
     "text": [
      "\r\n",
      "W0319 22:04:44.745986  7813 gpu_resources.cc:61] Please NOTE: device: 0, GPU Compute Capability: 8.0, Driver API Version: 11.2, Runtime API Version: 11.2\r\n",
      "W0319 22:04:44.748932  7813 gpu_resources.cc:91] device: 0, cuDNN Version: 8.2.\r\n"
     ]
    },
    {
     "name": "stdout",
     "output_type": "stream",
     "text": [
      "[03/19 22:04:46] ppdet.utils.checkpoint INFO: Finish loading model weights: /home/aistudio/output/yolov7_tiny_300e_coco/model_final.pdparams\r\n",
      "['/home/aistudio/wurenji/test/20190926_103046_1_8/000001.jpg', '/home/aistudio/wurenji/test/20190926_103046_1_8/000002.jpg', '/home/aistudio/wurenji/test/20190926_103046_1_8/000003.jpg', '/home/aistudio/wurenji/test/20190926_103046_1_8/000004.jpg', '/home/aistudio/wurenji/test/20190926_103046_1_8/000005.jpg', '/home/aistudio/wurenji/test/20190926_103046_1_8/000006.jpg', '/home/aistudio/wurenji/test/20190926_103046_1_8/000007.jpg', '/home/aistudio/wurenji/test/20190926_103046_1_8/000008.jpg', '/home/aistudio/wurenji/test/20190926_103046_1_8/000009.jpg', '/home/aistudio/wurenji/test/20190926_103046_1_8/000010.jpg', '/home/aistudio/wurenji/test/20190926_103046_1_8/000011.jpg', '/home/aistudio/wurenji/test/20190926_103046_1_8/000012.jpg', '/home/aistudio/wurenji/test/20190926_103046_1_8/000013.jpg', '/home/aistudio/wurenji/test/20190926_103046_1_8/000014.jpg', '/home/aistudio/wurenji/test/20190926_103046_1_8/000015.jpg', '/home/aistudio/wurenji/test/20190926_103046_1_8/000016.jpg', '/home/\r\n",
      "[03/19 22:04:46] train INFO: Found 509 inference images in total.\r\n",
      "[03/19 22:04:46] ppdet.data.source.category WARNING: anno_file 'dataset/coco/annotations/instances_val2017.json' is None or not set or not exist, please recheck TrainDataset/EvalDataset/TestDataset.anno_path, otherwise the default categories will be used by metric_type.\r\n",
      "[03/19 22:04:46] ppdet.data.source.category WARNING: metric_type: COCO, load default categories of COCO.\r\n",
      "[03/19 22:04:46] ppdet.data.source.category WARNING: anno_file 'dataset/coco/annotations/instances_val2017.json' is None or not set or not exist, please recheck TrainDataset/EvalDataset/TestDataset.anno_path, otherwise the default categories will be used by metric_type.\r\n",
      "[03/19 22:04:46] ppdet.data.source.category WARNING: metric_type: COCO, load default categories of COCO.\r\n",
      "[03/19 22:04:46] ppdet.engine INFO: Test loader length is 509, test batch_size is 1.\r\n",
      "[03/19 22:04:46] ppdet.engine INFO: Starting predicting ......\r\n",
      "\r\n"
     ]
    },
    {
     "name": "stderr",
     "output_type": "stream",
     "text": [
      "Warning: import ppdet from source directory without installing, run 'python setup.py install' to install ppdet firstly\r\n",
      "100%|██████████| 509/509 [00:11<00:00, 44.05it/s]\r\n"
     ]
    },
    {
     "name": "stdout",
     "output_type": "stream",
     "text": [
      "[03/19 22:04:57] ppdet.metrics.metrics INFO: The bbox result is saved to bbox.json.\r\n",
      "[03/19 22:04:57] ppdet.metrics.metrics INFO: The bbox result is saved to output/bbox.json and do not evaluate the mAP.\r\n"
     ]
    },
    {
     "name": "stderr",
     "output_type": "stream",
     "text": [
      "W0319 22:05:02.271592  7930 gpu_resources.cc:61] Please NOTE: device: 0, GPU Compute Capability: 8.0, Driver API Version: 11.2, Runtime API Version: 11.2\r\n",
      "W0319 22:05:02.274487  7930 gpu_resources.cc:91] device: 0, cuDNN Version: 8.2.\r\n"
     ]
    },
    {
     "name": "stdout",
     "output_type": "stream",
     "text": [
      "[03/19 22:05:03] ppdet.utils.checkpoint INFO: Finish loading model weights: /home/aistudio/output/yolov7_tiny_300e_coco/model_final.pdparams\r\n",
      "['/home/aistudio/wurenji/test/20190925_141417_1_2/000001.jpg', '/home/aistudio/wurenji/test/20190925_141417_1_2/000002.jpg', '/home/aistudio/wurenji/test/20190925_141417_1_2/000003.jpg', '/home/aistudio/wurenji/test/20190925_141417_1_2/000004.jpg', '/home/aistudio/wurenji/test/20190925_141417_1_2/000005.jpg', '/home/aistudio/wurenji/test/20190925_141417_1_2/000006.jpg', '/home/aistudio/wurenji/test/20190925_141417_1_2/000007.jpg', '/home/aistudio/wurenji/test/20190925_141417_1_2/000008.jpg', '/home/aistudio/wurenji/test/20190925_141417_1_2/000009.jpg', '/home/aistudio/wurenji/test/20190925_141417_1_2/000010.jpg', '/home/aistudio/wurenji/test/20190925_141417_1_2/000011.jpg', '/home/aistudio/wurenji/test/20190925_141417_1_2/000012.jpg', '/home/aistudio/wurenji/test/20190925_141417_1_2/000013.jpg', '/home/aistudio/wurenji/test/20190925_141417_1_2/000014.jpg', '/home/aistudio/wurenji/test/20190925_141417_1_2/000015.jpg', '/home/aistudio/wurenji/test/20190925_141417_1_2/000016.jpg', '/home/\r\n",
      "[03/19 22:05:03] train INFO: Found 1000 inference images in total.\r\n",
      "[03/19 22:05:03] ppdet.data.source.category WARNING: anno_file 'dataset/coco/annotations/instances_val2017.json' is None or not set or not exist, please recheck TrainDataset/EvalDataset/TestDataset.anno_path, otherwise the default categories will be used by metric_type.\r\n",
      "[03/19 22:05:03] ppdet.data.source.category WARNING: metric_type: COCO, load default categories of COCO.\r\n",
      "[03/19 22:05:03] ppdet.data.source.category WARNING: anno_file 'dataset/coco/annotations/instances_val2017.json' is None or not set or not exist, please recheck TrainDataset/EvalDataset/TestDataset.anno_path, otherwise the default categories will be used by metric_type.\r\n",
      "[03/19 22:05:03] ppdet.data.source.category WARNING: metric_type: COCO, load default categories of COCO.\r\n",
      "[03/19 22:05:03] ppdet.engine INFO: Test loader length is 1000, test batch_size is 1.\r\n",
      "[03/19 22:05:03] ppdet.engine INFO: Starting predicting ......\r\n",
      "\r\n"
     ]
    },
    {
     "name": "stderr",
     "output_type": "stream",
     "text": [
      "Warning: import ppdet from source directory without installing, run 'python setup.py install' to install ppdet firstly\r\n",
      "100%|██████████| 1000/1000 [00:20<00:00, 48.06it/s]"
     ]
    },
    {
     "name": "stdout",
     "output_type": "stream",
     "text": [
      "[03/19 22:05:24] ppdet.metrics.metrics INFO: The bbox result is saved to bbox.json.\r\n",
      "[03/19 22:05:24] ppdet.metrics.metrics INFO: The bbox result is saved to output/bbox.json and do not evaluate the mAP.\r\n"
     ]
    },
    {
     "name": "stderr",
     "output_type": "stream",
     "text": [
      "\r\n",
      "W0319 22:05:30.368501  8168 gpu_resources.cc:61] Please NOTE: device: 0, GPU Compute Capability: 8.0, Driver API Version: 11.2, Runtime API Version: 11.2\r\n",
      "W0319 22:05:30.371428  8168 gpu_resources.cc:91] device: 0, cuDNN Version: 8.2.\r\n"
     ]
    },
    {
     "name": "stdout",
     "output_type": "stream",
     "text": [
      "[03/19 22:05:31] ppdet.utils.checkpoint INFO: Finish loading model weights: /home/aistudio/output/yolov7_tiny_300e_coco/model_final.pdparams\r\n",
      "['/home/aistudio/wurenji/test/20190925_141417_1_4/000001.jpg', '/home/aistudio/wurenji/test/20190925_141417_1_4/000002.jpg', '/home/aistudio/wurenji/test/20190925_141417_1_4/000003.jpg', '/home/aistudio/wurenji/test/20190925_141417_1_4/000004.jpg', '/home/aistudio/wurenji/test/20190925_141417_1_4/000005.jpg', '/home/aistudio/wurenji/test/20190925_141417_1_4/000006.jpg', '/home/aistudio/wurenji/test/20190925_141417_1_4/000007.jpg', '/home/aistudio/wurenji/test/20190925_141417_1_4/000008.jpg', '/home/aistudio/wurenji/test/20190925_141417_1_4/000009.jpg', '/home/aistudio/wurenji/test/20190925_141417_1_4/000010.jpg', '/home/aistudio/wurenji/test/20190925_141417_1_4/000011.jpg', '/home/aistudio/wurenji/test/20190925_141417_1_4/000012.jpg', '/home/aistudio/wurenji/test/20190925_141417_1_4/000013.jpg', '/home/aistudio/wurenji/test/20190925_141417_1_4/000014.jpg', '/home/aistudio/wurenji/test/20190925_141417_1_4/000015.jpg', '/home/aistudio/wurenji/test/20190925_141417_1_4/000016.jpg', '/home/\r\n",
      "[03/19 22:05:31] train INFO: Found 1000 inference images in total.\r\n",
      "[03/19 22:05:31] ppdet.data.source.category WARNING: anno_file 'dataset/coco/annotations/instances_val2017.json' is None or not set or not exist, please recheck TrainDataset/EvalDataset/TestDataset.anno_path, otherwise the default categories will be used by metric_type.\r\n",
      "[03/19 22:05:31] ppdet.data.source.category WARNING: metric_type: COCO, load default categories of COCO.\r\n",
      "[03/19 22:05:31] ppdet.data.source.category WARNING: anno_file 'dataset/coco/annotations/instances_val2017.json' is None or not set or not exist, please recheck TrainDataset/EvalDataset/TestDataset.anno_path, otherwise the default categories will be used by metric_type.\r\n",
      "[03/19 22:05:31] ppdet.data.source.category WARNING: metric_type: COCO, load default categories of COCO.\r\n",
      "[03/19 22:05:31] ppdet.engine INFO: Test loader length is 1000, test batch_size is 1.\r\n",
      "[03/19 22:05:31] ppdet.engine INFO: Starting predicting ......\r\n",
      "\r\n"
     ]
    },
    {
     "name": "stderr",
     "output_type": "stream",
     "text": [
      "Warning: import ppdet from source directory without installing, run 'python setup.py install' to install ppdet firstly\r\n",
      "100%|██████████| 1000/1000 [00:22<00:00, 45.33it/s]"
     ]
    },
    {
     "name": "stdout",
     "output_type": "stream",
     "text": [
      "[03/19 22:05:54] ppdet.metrics.metrics INFO: The bbox result is saved to bbox.json.\r\n",
      "[03/19 22:05:54] ppdet.metrics.metrics INFO: The bbox result is saved to output/bbox.json and do not evaluate the mAP.\r\n"
     ]
    },
    {
     "name": "stderr",
     "output_type": "stream",
     "text": [
      "\r\n",
      "W0319 22:05:59.596671  8302 gpu_resources.cc:61] Please NOTE: device: 0, GPU Compute Capability: 8.0, Driver API Version: 11.2, Runtime API Version: 11.2\r\n",
      "W0319 22:05:59.599786  8302 gpu_resources.cc:91] device: 0, cuDNN Version: 8.2.\r\n"
     ]
    },
    {
     "name": "stdout",
     "output_type": "stream",
     "text": [
      "[03/19 22:06:01] ppdet.utils.checkpoint INFO: Finish loading model weights: /home/aistudio/output/yolov7_tiny_300e_coco/model_final.pdparams\r\n",
      "['/home/aistudio/wurenji/test/20190925_210802_1_3/000001.jpg', '/home/aistudio/wurenji/test/20190925_210802_1_3/000002.jpg', '/home/aistudio/wurenji/test/20190925_210802_1_3/000003.jpg', '/home/aistudio/wurenji/test/20190925_210802_1_3/000004.jpg', '/home/aistudio/wurenji/test/20190925_210802_1_3/000005.jpg', '/home/aistudio/wurenji/test/20190925_210802_1_3/000006.jpg', '/home/aistudio/wurenji/test/20190925_210802_1_3/000007.jpg', '/home/aistudio/wurenji/test/20190925_210802_1_3/000008.jpg', '/home/aistudio/wurenji/test/20190925_210802_1_3/000009.jpg', '/home/aistudio/wurenji/test/20190925_210802_1_3/000010.jpg', '/home/aistudio/wurenji/test/20190925_210802_1_3/000011.jpg', '/home/aistudio/wurenji/test/20190925_210802_1_3/000012.jpg', '/home/aistudio/wurenji/test/20190925_210802_1_3/000013.jpg', '/home/aistudio/wurenji/test/20190925_210802_1_3/000014.jpg', '/home/aistudio/wurenji/test/20190925_210802_1_3/000015.jpg', '/home/aistudio/wurenji/test/20190925_210802_1_3/000016.jpg', '/home/\r\n",
      "[03/19 22:06:01] train INFO: Found 929 inference images in total.\r\n",
      "[03/19 22:06:01] ppdet.data.source.category WARNING: anno_file 'dataset/coco/annotations/instances_val2017.json' is None or not set or not exist, please recheck TrainDataset/EvalDataset/TestDataset.anno_path, otherwise the default categories will be used by metric_type.\r\n",
      "[03/19 22:06:01] ppdet.data.source.category WARNING: metric_type: COCO, load default categories of COCO.\r\n",
      "[03/19 22:06:01] ppdet.data.source.category WARNING: anno_file 'dataset/coco/annotations/instances_val2017.json' is None or not set or not exist, please recheck TrainDataset/EvalDataset/TestDataset.anno_path, otherwise the default categories will be used by metric_type.\r\n",
      "[03/19 22:06:01] ppdet.data.source.category WARNING: metric_type: COCO, load default categories of COCO.\r\n",
      "[03/19 22:06:01] ppdet.engine INFO: Test loader length is 929, test batch_size is 1.\r\n",
      "[03/19 22:06:01] ppdet.engine INFO: Starting predicting ......\r\n",
      "\r\n"
     ]
    },
    {
     "name": "stderr",
     "output_type": "stream",
     "text": [
      "Warning: import ppdet from source directory without installing, run 'python setup.py install' to install ppdet firstly\r\n",
      "100%|██████████| 929/929 [00:20<00:00, 44.53it/s]\r\n"
     ]
    },
    {
     "name": "stdout",
     "output_type": "stream",
     "text": [
      "[03/19 22:06:22] ppdet.metrics.metrics INFO: The bbox result is saved to bbox.json.\r\n",
      "[03/19 22:06:22] ppdet.metrics.metrics INFO: The bbox result is saved to output/bbox.json and do not evaluate the mAP.\r\n"
     ]
    },
    {
     "name": "stderr",
     "output_type": "stream",
     "text": [
      "W0319 22:06:26.722591  8490 gpu_resources.cc:61] Please NOTE: device: 0, GPU Compute Capability: 8.0, Driver API Version: 11.2, Runtime API Version: 11.2\r\n",
      "W0319 22:06:26.726089  8490 gpu_resources.cc:91] device: 0, cuDNN Version: 8.2.\r\n"
     ]
    },
    {
     "name": "stdout",
     "output_type": "stream",
     "text": [
      "[03/19 22:06:28] ppdet.utils.checkpoint INFO: Finish loading model weights: /home/aistudio/output/yolov7_tiny_300e_coco/model_final.pdparams\r\n",
      "['/home/aistudio/wurenji/test/20190926_103046_1_7/000001.jpg', '/home/aistudio/wurenji/test/20190926_103046_1_7/000002.jpg', '/home/aistudio/wurenji/test/20190926_103046_1_7/000003.jpg', '/home/aistudio/wurenji/test/20190926_103046_1_7/000004.jpg', '/home/aistudio/wurenji/test/20190926_103046_1_7/000005.jpg', '/home/aistudio/wurenji/test/20190926_103046_1_7/000006.jpg', '/home/aistudio/wurenji/test/20190926_103046_1_7/000007.jpg', '/home/aistudio/wurenji/test/20190926_103046_1_7/000008.jpg', '/home/aistudio/wurenji/test/20190926_103046_1_7/000009.jpg', '/home/aistudio/wurenji/test/20190926_103046_1_7/000010.jpg', '/home/aistudio/wurenji/test/20190926_103046_1_7/000011.jpg', '/home/aistudio/wurenji/test/20190926_103046_1_7/000012.jpg', '/home/aistudio/wurenji/test/20190926_103046_1_7/000013.jpg', '/home/aistudio/wurenji/test/20190926_103046_1_7/000014.jpg', '/home/aistudio/wurenji/test/20190926_103046_1_7/000015.jpg', '/home/aistudio/wurenji/test/20190926_103046_1_7/000016.jpg', '/home/\r\n",
      "[03/19 22:06:28] train INFO: Found 1000 inference images in total.\r\n",
      "[03/19 22:06:28] ppdet.data.source.category WARNING: anno_file 'dataset/coco/annotations/instances_val2017.json' is None or not set or not exist, please recheck TrainDataset/EvalDataset/TestDataset.anno_path, otherwise the default categories will be used by metric_type.\r\n",
      "[03/19 22:06:28] ppdet.data.source.category WARNING: metric_type: COCO, load default categories of COCO.\r\n",
      "[03/19 22:06:28] ppdet.data.source.category WARNING: anno_file 'dataset/coco/annotations/instances_val2017.json' is None or not set or not exist, please recheck TrainDataset/EvalDataset/TestDataset.anno_path, otherwise the default categories will be used by metric_type.\r\n",
      "[03/19 22:06:28] ppdet.data.source.category WARNING: metric_type: COCO, load default categories of COCO.\r\n",
      "[03/19 22:06:28] ppdet.engine INFO: Test loader length is 1000, test batch_size is 1.\r\n",
      "[03/19 22:06:28] ppdet.engine INFO: Starting predicting ......\r\n",
      "\r\n"
     ]
    },
    {
     "name": "stderr",
     "output_type": "stream",
     "text": [
      "Warning: import ppdet from source directory without installing, run 'python setup.py install' to install ppdet firstly\r\n",
      "100%|██████████| 1000/1000 [00:21<00:00, 47.48it/s]\r\n"
     ]
    },
    {
     "name": "stdout",
     "output_type": "stream",
     "text": [
      "[03/19 22:06:49] ppdet.metrics.metrics INFO: The bbox result is saved to bbox.json.\r\n",
      "[03/19 22:06:49] ppdet.metrics.metrics INFO: The bbox result is saved to output/bbox.json and do not evaluate the mAP.\r\n"
     ]
    },
    {
     "name": "stderr",
     "output_type": "stream",
     "text": [
      "W0319 22:06:53.933591  8677 gpu_resources.cc:61] Please NOTE: device: 0, GPU Compute Capability: 8.0, Driver API Version: 11.2, Runtime API Version: 11.2\r\n",
      "W0319 22:06:53.936759  8677 gpu_resources.cc:91] device: 0, cuDNN Version: 8.2.\r\n"
     ]
    },
    {
     "name": "stdout",
     "output_type": "stream",
     "text": [
      "[03/19 22:06:55] ppdet.utils.checkpoint INFO: Finish loading model weights: /home/aistudio/output/yolov7_tiny_300e_coco/model_final.pdparams\r\n",
      "['/home/aistudio/wurenji/test/20190925_133630_1_1/000001.jpg', '/home/aistudio/wurenji/test/20190925_133630_1_1/000002.jpg', '/home/aistudio/wurenji/test/20190925_133630_1_1/000003.jpg', '/home/aistudio/wurenji/test/20190925_133630_1_1/000004.jpg', '/home/aistudio/wurenji/test/20190925_133630_1_1/000005.jpg', '/home/aistudio/wurenji/test/20190925_133630_1_1/000006.jpg', '/home/aistudio/wurenji/test/20190925_133630_1_1/000007.jpg', '/home/aistudio/wurenji/test/20190925_133630_1_1/000008.jpg', '/home/aistudio/wurenji/test/20190925_133630_1_1/000009.jpg', '/home/aistudio/wurenji/test/20190925_133630_1_1/000010.jpg', '/home/aistudio/wurenji/test/20190925_133630_1_1/000011.jpg', '/home/aistudio/wurenji/test/20190925_133630_1_1/000012.jpg', '/home/aistudio/wurenji/test/20190925_133630_1_1/000013.jpg', '/home/aistudio/wurenji/test/20190925_133630_1_1/000014.jpg', '/home/aistudio/wurenji/test/20190925_133630_1_1/000015.jpg', '/home/aistudio/wurenji/test/20190925_133630_1_1/000016.jpg', '/home/\r\n",
      "[03/19 22:06:55] train INFO: Found 1000 inference images in total.\r\n",
      "[03/19 22:06:55] ppdet.data.source.category WARNING: anno_file 'dataset/coco/annotations/instances_val2017.json' is None or not set or not exist, please recheck TrainDataset/EvalDataset/TestDataset.anno_path, otherwise the default categories will be used by metric_type.\r\n",
      "[03/19 22:06:55] ppdet.data.source.category WARNING: metric_type: COCO, load default categories of COCO.\r\n",
      "[03/19 22:06:55] ppdet.data.source.category WARNING: anno_file 'dataset/coco/annotations/instances_val2017.json' is None or not set or not exist, please recheck TrainDataset/EvalDataset/TestDataset.anno_path, otherwise the default categories will be used by metric_type.\r\n",
      "[03/19 22:06:55] ppdet.data.source.category WARNING: metric_type: COCO, load default categories of COCO.\r\n",
      "[03/19 22:06:55] ppdet.engine INFO: Test loader length is 1000, test batch_size is 1.\r\n",
      "[03/19 22:06:55] ppdet.engine INFO: Starting predicting ......\r\n",
      "\r\n"
     ]
    },
    {
     "name": "stderr",
     "output_type": "stream",
     "text": [
      "Warning: import ppdet from source directory without installing, run 'python setup.py install' to install ppdet firstly\r\n",
      "100%|██████████| 1000/1000 [00:20<00:00, 49.65it/s]"
     ]
    },
    {
     "name": "stdout",
     "output_type": "stream",
     "text": [
      "[03/19 22:07:15] ppdet.metrics.metrics INFO: The bbox result is saved to bbox.json.\r\n",
      "[03/19 22:07:15] ppdet.metrics.metrics INFO: The bbox result is saved to output/bbox.json and do not evaluate the mAP.\r\n"
     ]
    },
    {
     "name": "stderr",
     "output_type": "stream",
     "text": [
      "\r\n",
      "W0319 22:07:21.032672  8863 gpu_resources.cc:61] Please NOTE: device: 0, GPU Compute Capability: 8.0, Driver API Version: 11.2, Runtime API Version: 11.2\r\n",
      "W0319 22:07:21.035986  8863 gpu_resources.cc:91] device: 0, cuDNN Version: 8.2.\r\n"
     ]
    },
    {
     "name": "stdout",
     "output_type": "stream",
     "text": [
      "[03/19 22:07:22] ppdet.utils.checkpoint INFO: Finish loading model weights: /home/aistudio/output/yolov7_tiny_300e_coco/model_final.pdparams\r\n",
      "['/home/aistudio/wurenji/test/20190926_144550_1_2/000001.jpg', '/home/aistudio/wurenji/test/20190926_144550_1_2/000002.jpg', '/home/aistudio/wurenji/test/20190926_144550_1_2/000003.jpg', '/home/aistudio/wurenji/test/20190926_144550_1_2/000004.jpg', '/home/aistudio/wurenji/test/20190926_144550_1_2/000005.jpg', '/home/aistudio/wurenji/test/20190926_144550_1_2/000006.jpg', '/home/aistudio/wurenji/test/20190926_144550_1_2/000007.jpg', '/home/aistudio/wurenji/test/20190926_144550_1_2/000008.jpg', '/home/aistudio/wurenji/test/20190926_144550_1_2/000009.jpg', '/home/aistudio/wurenji/test/20190926_144550_1_2/000010.jpg', '/home/aistudio/wurenji/test/20190926_144550_1_2/000011.jpg', '/home/aistudio/wurenji/test/20190926_144550_1_2/000012.jpg', '/home/aistudio/wurenji/test/20190926_144550_1_2/000013.jpg', '/home/aistudio/wurenji/test/20190926_144550_1_2/000014.jpg', '/home/aistudio/wurenji/test/20190926_144550_1_2/000015.jpg', '/home/aistudio/wurenji/test/20190926_144550_1_2/000016.jpg', '/home/\r\n",
      "[03/19 22:07:22] train INFO: Found 1000 inference images in total.\r\n",
      "[03/19 22:07:22] ppdet.data.source.category WARNING: anno_file 'dataset/coco/annotations/instances_val2017.json' is None or not set or not exist, please recheck TrainDataset/EvalDataset/TestDataset.anno_path, otherwise the default categories will be used by metric_type.\r\n",
      "[03/19 22:07:22] ppdet.data.source.category WARNING: metric_type: COCO, load default categories of COCO.\r\n",
      "[03/19 22:07:22] ppdet.data.source.category WARNING: anno_file 'dataset/coco/annotations/instances_val2017.json' is None or not set or not exist, please recheck TrainDataset/EvalDataset/TestDataset.anno_path, otherwise the default categories will be used by metric_type.\r\n",
      "[03/19 22:07:22] ppdet.data.source.category WARNING: metric_type: COCO, load default categories of COCO.\r\n",
      "[03/19 22:07:22] ppdet.engine INFO: Test loader length is 1000, test batch_size is 1.\r\n",
      "[03/19 22:07:22] ppdet.engine INFO: Starting predicting ......\r\n",
      "\r\n"
     ]
    },
    {
     "name": "stderr",
     "output_type": "stream",
     "text": [
      "Warning: import ppdet from source directory without installing, run 'python setup.py install' to install ppdet firstly\r\n",
      "100%|██████████| 1000/1000 [00:21<00:00, 47.02it/s]"
     ]
    },
    {
     "name": "stdout",
     "output_type": "stream",
     "text": [
      "[03/19 22:07:44] ppdet.metrics.metrics INFO: The bbox result is saved to bbox.json.\r\n",
      "[03/19 22:07:44] ppdet.metrics.metrics INFO: The bbox result is saved to output/bbox.json and do not evaluate the mAP.\r\n"
     ]
    },
    {
     "name": "stderr",
     "output_type": "stream",
     "text": [
      "\r\n",
      "W0319 22:07:48.556512  9050 gpu_resources.cc:61] Please NOTE: device: 0, GPU Compute Capability: 8.0, Driver API Version: 11.2, Runtime API Version: 11.2\r\n",
      "W0319 22:07:48.559584  9050 gpu_resources.cc:91] device: 0, cuDNN Version: 8.2.\r\n"
     ]
    },
    {
     "name": "stdout",
     "output_type": "stream",
     "text": [
      "[03/19 22:07:50] ppdet.utils.checkpoint INFO: Finish loading model weights: /home/aistudio/output/yolov7_tiny_300e_coco/model_final.pdparams\r\n",
      "['/home/aistudio/wurenji/test/20190926_102042_1_9/000001.jpg', '/home/aistudio/wurenji/test/20190926_102042_1_9/000002.jpg', '/home/aistudio/wurenji/test/20190926_102042_1_9/000003.jpg', '/home/aistudio/wurenji/test/20190926_102042_1_9/000004.jpg', '/home/aistudio/wurenji/test/20190926_102042_1_9/000005.jpg', '/home/aistudio/wurenji/test/20190926_102042_1_9/000006.jpg', '/home/aistudio/wurenji/test/20190926_102042_1_9/000007.jpg', '/home/aistudio/wurenji/test/20190926_102042_1_9/000008.jpg', '/home/aistudio/wurenji/test/20190926_102042_1_9/000009.jpg', '/home/aistudio/wurenji/test/20190926_102042_1_9/000010.jpg', '/home/aistudio/wurenji/test/20190926_102042_1_9/000011.jpg', '/home/aistudio/wurenji/test/20190926_102042_1_9/000012.jpg', '/home/aistudio/wurenji/test/20190926_102042_1_9/000013.jpg', '/home/aistudio/wurenji/test/20190926_102042_1_9/000014.jpg', '/home/aistudio/wurenji/test/20190926_102042_1_9/000015.jpg', '/home/aistudio/wurenji/test/20190926_102042_1_9/000016.jpg', '/home/\r\n",
      "[03/19 22:07:50] train INFO: Found 429 inference images in total.\r\n",
      "[03/19 22:07:50] ppdet.data.source.category WARNING: anno_file 'dataset/coco/annotations/instances_val2017.json' is None or not set or not exist, please recheck TrainDataset/EvalDataset/TestDataset.anno_path, otherwise the default categories will be used by metric_type.\r\n",
      "[03/19 22:07:50] ppdet.data.source.category WARNING: metric_type: COCO, load default categories of COCO.\r\n",
      "[03/19 22:07:50] ppdet.data.source.category WARNING: anno_file 'dataset/coco/annotations/instances_val2017.json' is None or not set or not exist, please recheck TrainDataset/EvalDataset/TestDataset.anno_path, otherwise the default categories will be used by metric_type.\r\n",
      "[03/19 22:07:50] ppdet.data.source.category WARNING: metric_type: COCO, load default categories of COCO.\r\n",
      "[03/19 22:07:50] ppdet.engine INFO: Test loader length is 429, test batch_size is 1.\r\n",
      "[03/19 22:07:50] ppdet.engine INFO: Starting predicting ......\r\n",
      "\r\n"
     ]
    },
    {
     "name": "stderr",
     "output_type": "stream",
     "text": [
      "Warning: import ppdet from source directory without installing, run 'python setup.py install' to install ppdet firstly\r\n",
      "100%|██████████| 429/429 [00:09<00:00, 43.11it/s]\r\n"
     ]
    },
    {
     "name": "stdout",
     "output_type": "stream",
     "text": [
      "[03/19 22:08:00] ppdet.metrics.metrics INFO: The bbox result is saved to bbox.json.\r\n",
      "[03/19 22:08:00] ppdet.metrics.metrics INFO: The bbox result is saved to output/bbox.json and do not evaluate the mAP.\r\n"
     ]
    },
    {
     "name": "stderr",
     "output_type": "stream",
     "text": [
      "W0319 22:08:04.527328  9166 gpu_resources.cc:61] Please NOTE: device: 0, GPU Compute Capability: 8.0, Driver API Version: 11.2, Runtime API Version: 11.2\r\n",
      "W0319 22:08:04.530122  9166 gpu_resources.cc:91] device: 0, cuDNN Version: 8.2.\r\n"
     ]
    },
    {
     "name": "stdout",
     "output_type": "stream",
     "text": [
      "[03/19 22:08:06] ppdet.utils.checkpoint INFO: Finish loading model weights: /home/aistudio/output/yolov7_tiny_300e_coco/model_final.pdparams\r\n",
      "['/home/aistudio/wurenji/test/new27_train-new/000001.jpg', '/home/aistudio/wurenji/test/new27_train-new/000002.jpg', '/home/aistudio/wurenji/test/new27_train-new/000003.jpg', '/home/aistudio/wurenji/test/new27_train-new/000004.jpg', '/home/aistudio/wurenji/test/new27_train-new/000005.jpg', '/home/aistudio/wurenji/test/new27_train-new/000006.jpg', '/home/aistudio/wurenji/test/new27_train-new/000007.jpg', '/home/aistudio/wurenji/test/new27_train-new/000008.jpg', '/home/aistudio/wurenji/test/new27_train-new/000009.jpg', '/home/aistudio/wurenji/test/new27_train-new/000010.jpg', '/home/aistudio/wurenji/test/new27_train-new/000011.jpg', '/home/aistudio/wurenji/test/new27_train-new/000012.jpg', '/home/aistudio/wurenji/test/new27_train-new/000013.jpg', '/home/aistudio/wurenji/test/new27_train-new/000014.jpg', '/home/aistudio/wurenji/test/new27_train-new/000015.jpg', '/home/aistudio/wurenji/test/new27_train-new/000016.jpg', '/home/aistudio/wurenji/test/new27_train-new/000017.jpg', '/home/aistud\r\n",
      "[03/19 22:08:06] train INFO: Found 1500 inference images in total.\r\n",
      "[03/19 22:08:06] ppdet.data.source.category WARNING: anno_file 'dataset/coco/annotations/instances_val2017.json' is None or not set or not exist, please recheck TrainDataset/EvalDataset/TestDataset.anno_path, otherwise the default categories will be used by metric_type.\r\n",
      "[03/19 22:08:06] ppdet.data.source.category WARNING: metric_type: COCO, load default categories of COCO.\r\n",
      "[03/19 22:08:06] ppdet.data.source.category WARNING: anno_file 'dataset/coco/annotations/instances_val2017.json' is None or not set or not exist, please recheck TrainDataset/EvalDataset/TestDataset.anno_path, otherwise the default categories will be used by metric_type.\r\n",
      "[03/19 22:08:06] ppdet.data.source.category WARNING: metric_type: COCO, load default categories of COCO.\r\n",
      "[03/19 22:08:06] ppdet.engine INFO: Test loader length is 1500, test batch_size is 1.\r\n",
      "[03/19 22:08:06] ppdet.engine INFO: Starting predicting ......\r\n",
      "\r\n"
     ]
    },
    {
     "name": "stderr",
     "output_type": "stream",
     "text": [
      "Warning: import ppdet from source directory without installing, run 'python setup.py install' to install ppdet firstly\r\n",
      "100%|██████████| 1500/1500 [00:30<00:00, 49.15it/s]"
     ]
    },
    {
     "name": "stdout",
     "output_type": "stream",
     "text": [
      "[03/19 22:08:36] ppdet.metrics.metrics INFO: The bbox result is saved to bbox.json.\r\n",
      "[03/19 22:08:36] ppdet.metrics.metrics INFO: The bbox result is saved to output/bbox.json and do not evaluate the mAP.\r\n"
     ]
    },
    {
     "name": "stderr",
     "output_type": "stream",
     "text": [
      "\r\n",
      "W0319 22:08:41.584441  9412 gpu_resources.cc:61] Please NOTE: device: 0, GPU Compute Capability: 8.0, Driver API Version: 11.2, Runtime API Version: 11.2\r\n",
      "W0319 22:08:41.587484  9412 gpu_resources.cc:91] device: 0, cuDNN Version: 8.2.\r\n"
     ]
    },
    {
     "name": "stdout",
     "output_type": "stream",
     "text": [
      "[03/19 22:08:43] ppdet.utils.checkpoint INFO: Finish loading model weights: /home/aistudio/output/yolov7_tiny_300e_coco/model_final.pdparams\r\n",
      "['/home/aistudio/wurenji/test/20190925_124612_1_7/000001.jpg', '/home/aistudio/wurenji/test/20190925_124612_1_7/000002.jpg', '/home/aistudio/wurenji/test/20190925_124612_1_7/000003.jpg', '/home/aistudio/wurenji/test/20190925_124612_1_7/000004.jpg', '/home/aistudio/wurenji/test/20190925_124612_1_7/000005.jpg', '/home/aistudio/wurenji/test/20190925_124612_1_7/000006.jpg', '/home/aistudio/wurenji/test/20190925_124612_1_7/000007.jpg', '/home/aistudio/wurenji/test/20190925_124612_1_7/000008.jpg', '/home/aistudio/wurenji/test/20190925_124612_1_7/000009.jpg', '/home/aistudio/wurenji/test/20190925_124612_1_7/000010.jpg', '/home/aistudio/wurenji/test/20190925_124612_1_7/000011.jpg', '/home/aistudio/wurenji/test/20190925_124612_1_7/000012.jpg', '/home/aistudio/wurenji/test/20190925_124612_1_7/000013.jpg', '/home/aistudio/wurenji/test/20190925_124612_1_7/000014.jpg', '/home/aistudio/wurenji/test/20190925_124612_1_7/000015.jpg', '/home/aistudio/wurenji/test/20190925_124612_1_7/000016.jpg', '/home/\r\n",
      "[03/19 22:08:43] train INFO: Found 1000 inference images in total.\r\n",
      "[03/19 22:08:43] ppdet.data.source.category WARNING: anno_file 'dataset/coco/annotations/instances_val2017.json' is None or not set or not exist, please recheck TrainDataset/EvalDataset/TestDataset.anno_path, otherwise the default categories will be used by metric_type.\r\n",
      "[03/19 22:08:43] ppdet.data.source.category WARNING: metric_type: COCO, load default categories of COCO.\r\n",
      "[03/19 22:08:43] ppdet.data.source.category WARNING: anno_file 'dataset/coco/annotations/instances_val2017.json' is None or not set or not exist, please recheck TrainDataset/EvalDataset/TestDataset.anno_path, otherwise the default categories will be used by metric_type.\r\n",
      "[03/19 22:08:43] ppdet.data.source.category WARNING: metric_type: COCO, load default categories of COCO.\r\n",
      "[03/19 22:08:43] ppdet.engine INFO: Test loader length is 1000, test batch_size is 1.\r\n",
      "[03/19 22:08:43] ppdet.engine INFO: Starting predicting ......\r\n",
      "\r\n"
     ]
    },
    {
     "name": "stderr",
     "output_type": "stream",
     "text": [
      "Warning: import ppdet from source directory without installing, run 'python setup.py install' to install ppdet firstly\r\n",
      "100%|██████████| 1000/1000 [00:20<00:00, 49.57it/s]"
     ]
    },
    {
     "name": "stdout",
     "output_type": "stream",
     "text": [
      "[03/19 22:09:03] ppdet.metrics.metrics INFO: The bbox result is saved to bbox.json.\r\n",
      "[03/19 22:09:03] ppdet.metrics.metrics INFO: The bbox result is saved to output/bbox.json and do not evaluate the mAP.\r\n"
     ]
    },
    {
     "name": "stderr",
     "output_type": "stream",
     "text": [
      "\r\n",
      "W0319 22:09:08.566237  9546 gpu_resources.cc:61] Please NOTE: device: 0, GPU Compute Capability: 8.0, Driver API Version: 11.2, Runtime API Version: 11.2\r\n",
      "W0319 22:09:08.569458  9546 gpu_resources.cc:91] device: 0, cuDNN Version: 8.2.\r\n"
     ]
    },
    {
     "name": "stdout",
     "output_type": "stream",
     "text": [
      "[03/19 22:09:10] ppdet.utils.checkpoint INFO: Finish loading model weights: /home/aistudio/output/yolov7_tiny_300e_coco/model_final.pdparams\r\n",
      "['/home/aistudio/wurenji/test/wg2022_ir_028_split_09/000001.jpg', '/home/aistudio/wurenji/test/wg2022_ir_028_split_09/000002.jpg', '/home/aistudio/wurenji/test/wg2022_ir_028_split_09/000003.jpg', '/home/aistudio/wurenji/test/wg2022_ir_028_split_09/000004.jpg', '/home/aistudio/wurenji/test/wg2022_ir_028_split_09/000005.jpg', '/home/aistudio/wurenji/test/wg2022_ir_028_split_09/000006.jpg', '/home/aistudio/wurenji/test/wg2022_ir_028_split_09/000007.jpg', '/home/aistudio/wurenji/test/wg2022_ir_028_split_09/000008.jpg', '/home/aistudio/wurenji/test/wg2022_ir_028_split_09/000009.jpg', '/home/aistudio/wurenji/test/wg2022_ir_028_split_09/000010.jpg', '/home/aistudio/wurenji/test/wg2022_ir_028_split_09/000011.jpg', '/home/aistudio/wurenji/test/wg2022_ir_028_split_09/000012.jpg', '/home/aistudio/wurenji/test/wg2022_ir_028_split_09/000013.jpg', '/home/aistudio/wurenji/test/wg2022_ir_028_split_09/000014.jpg', '/home/aistudio/wurenji/test/wg2022_ir_028_split_09/000015.jpg', '/home/aistudio/wurenji/\r\n",
      "[03/19 22:09:10] train INFO: Found 1500 inference images in total.\r\n",
      "[03/19 22:09:10] ppdet.data.source.category WARNING: anno_file 'dataset/coco/annotations/instances_val2017.json' is None or not set or not exist, please recheck TrainDataset/EvalDataset/TestDataset.anno_path, otherwise the default categories will be used by metric_type.\r\n",
      "[03/19 22:09:10] ppdet.data.source.category WARNING: metric_type: COCO, load default categories of COCO.\r\n",
      "[03/19 22:09:10] ppdet.data.source.category WARNING: anno_file 'dataset/coco/annotations/instances_val2017.json' is None or not set or not exist, please recheck TrainDataset/EvalDataset/TestDataset.anno_path, otherwise the default categories will be used by metric_type.\r\n",
      "[03/19 22:09:10] ppdet.data.source.category WARNING: metric_type: COCO, load default categories of COCO.\r\n",
      "[03/19 22:09:10] ppdet.engine INFO: Test loader length is 1500, test batch_size is 1.\r\n",
      "[03/19 22:09:10] ppdet.engine INFO: Starting predicting ......\r\n",
      "\r\n"
     ]
    },
    {
     "name": "stderr",
     "output_type": "stream",
     "text": [
      "Warning: import ppdet from source directory without installing, run 'python setup.py install' to install ppdet firstly\r\n",
      "100%|██████████| 1500/1500 [00:30<00:00, 49.61it/s]"
     ]
    },
    {
     "name": "stdout",
     "output_type": "stream",
     "text": [
      "[03/19 22:09:40] ppdet.metrics.metrics INFO: The bbox result is saved to bbox.json.\r\n",
      "[03/19 22:09:40] ppdet.metrics.metrics INFO: The bbox result is saved to output/bbox.json and do not evaluate the mAP.\r\n"
     ]
    },
    {
     "name": "stderr",
     "output_type": "stream",
     "text": [
      "\r\n",
      "W0319 22:09:46.082791  9800 gpu_resources.cc:61] Please NOTE: device: 0, GPU Compute Capability: 8.0, Driver API Version: 11.2, Runtime API Version: 11.2\r\n",
      "W0319 22:09:46.085978  9800 gpu_resources.cc:91] device: 0, cuDNN Version: 8.2.\r\n"
     ]
    },
    {
     "name": "stdout",
     "output_type": "stream",
     "text": [
      "[03/19 22:09:47] ppdet.utils.checkpoint INFO: Finish loading model weights: /home/aistudio/output/yolov7_tiny_300e_coco/model_final.pdparams\r\n",
      "['/home/aistudio/wurenji/test/3700000000002_105103_8/000001.jpg', '/home/aistudio/wurenji/test/3700000000002_105103_8/000002.jpg', '/home/aistudio/wurenji/test/3700000000002_105103_8/000003.jpg', '/home/aistudio/wurenji/test/3700000000002_105103_8/000004.jpg', '/home/aistudio/wurenji/test/3700000000002_105103_8/000005.jpg', '/home/aistudio/wurenji/test/3700000000002_105103_8/000006.jpg', '/home/aistudio/wurenji/test/3700000000002_105103_8/000007.jpg', '/home/aistudio/wurenji/test/3700000000002_105103_8/000008.jpg', '/home/aistudio/wurenji/test/3700000000002_105103_8/000009.jpg', '/home/aistudio/wurenji/test/3700000000002_105103_8/000010.jpg', '/home/aistudio/wurenji/test/3700000000002_105103_8/000011.jpg', '/home/aistudio/wurenji/test/3700000000002_105103_8/000012.jpg', '/home/aistudio/wurenji/test/3700000000002_105103_8/000013.jpg', '/home/aistudio/wurenji/test/3700000000002_105103_8/000014.jpg', '/home/aistudio/wurenji/test/3700000000002_105103_8/000015.jpg', '/home/aistudio/wurenji/\r\n",
      "[03/19 22:09:47] train INFO: Found 1500 inference images in total.\r\n",
      "[03/19 22:09:47] ppdet.data.source.category WARNING: anno_file 'dataset/coco/annotations/instances_val2017.json' is None or not set or not exist, please recheck TrainDataset/EvalDataset/TestDataset.anno_path, otherwise the default categories will be used by metric_type.\r\n",
      "[03/19 22:09:47] ppdet.data.source.category WARNING: metric_type: COCO, load default categories of COCO.\r\n",
      "[03/19 22:09:47] ppdet.data.source.category WARNING: anno_file 'dataset/coco/annotations/instances_val2017.json' is None or not set or not exist, please recheck TrainDataset/EvalDataset/TestDataset.anno_path, otherwise the default categories will be used by metric_type.\r\n",
      "[03/19 22:09:47] ppdet.data.source.category WARNING: metric_type: COCO, load default categories of COCO.\r\n",
      "[03/19 22:09:47] ppdet.engine INFO: Test loader length is 1500, test batch_size is 1.\r\n",
      "[03/19 22:09:47] ppdet.engine INFO: Starting predicting ......\r\n",
      "\r\n"
     ]
    },
    {
     "name": "stderr",
     "output_type": "stream",
     "text": [
      "Warning: import ppdet from source directory without installing, run 'python setup.py install' to install ppdet firstly\r\n",
      "100%|██████████| 1500/1500 [00:29<00:00, 51.08it/s]"
     ]
    },
    {
     "name": "stdout",
     "output_type": "stream",
     "text": [
      "[03/19 22:10:17] ppdet.metrics.metrics INFO: The bbox result is saved to bbox.json.\r\n",
      "[03/19 22:10:17] ppdet.metrics.metrics INFO: The bbox result is saved to output/bbox.json and do not evaluate the mAP.\r\n"
     ]
    },
    {
     "name": "stderr",
     "output_type": "stream",
     "text": [
      "\r\n"
     ]
    }
   ],
   "source": [
    "import os\n",
    "import json\n",
    "folders = os.listdir(\"/home/aistudio/wurenji/test\")\n",
    "for folder in folders:\n",
    "    os.system(\"python /home/aistudio/PaddleYOLO/tools/infer.py -c /home/aistudio/PaddleYOLO/configs/yolov7/yolov7_tiny_300e_coco.yml -o weights=/home/aistudio/output/yolov7_tiny_300e_coco/model_final.pdparams --infer_dir=/home/aistudio/wurenji/test/\"+folder+\" --save_results ./test --visualize False\")\n",
    "    bbox = \"/home/aistudio/output/bbox\"\n",
    "    bbox_data=[]\n",
    "    with open(\"/home/aistudio/output/bbox.json\",'r',encoding='utf8') as fp1:\n",
    "        bbox_data = json.load(fp1)\n",
    "    os.system(\"mv /home/aistudio/output/bbox.json /home/aistudio/ans/\"+folder+\".json\")\n",
    "    os.system(\"rm -rf /home/aistudio/output/bbox.json\")\n",
    "    os.system(\"rm -rf /home/aistudio/output/*.jpg\")\n"
   ]
  },
  {
   "cell_type": "markdown",
   "metadata": {},
   "source": [
    "## 单个文件夹"
   ]
  },
  {
   "cell_type": "code",
   "execution_count": null,
   "metadata": {
    "scrolled": true,
    "tags": []
   },
   "outputs": [],
   "source": [
    "import os\n",
    "import json\n",
    "folder = \"20190925_101846_1_1\"\n",
    "os.system(\"python /home/aistudio/PaddleYOLO/tools/infer.py -c /home/aistudio/PaddleYOLO/configs/yolov7/yolov7_tiny_300e_coco.yml -o weights=/home/aistudio/output/yolov7_tiny_300e_coco/model_final.pdparams --infer_dir=/home/aistudio/wurenji/test/\"+folder+\" --save_results ./test\")\n",
    "bbox = \"/home/aistudio/output/bbox\"\n",
    "bbox_data=[]\n",
    "with open(\"/home/aistudio/output/bbox.json\",'r',encoding='utf8') as fp1:\n",
    "    bbox_data = json.load(fp1)\n"
   ]
  },
  {
   "cell_type": "code",
   "execution_count": null,
   "metadata": {
    "scrolled": true,
    "tags": []
   },
   "outputs": [],
   "source": [
    "import json\n",
    "vis=[0 for i in range(2000)]\n",
    "ans=[]\n",
    "with open(\"/home/aistudio/output/bbox.json\",'r',encoding='utf-8') as fp1:\n",
    "  json_data = json.load(fp1)\n",
    "  for i in json_data:\n",
    "    if vis[i[\"image_id\"]]==1:\n",
    "      continue\n",
    "    print(i)\n",
    "    vis[i[\"image_id\"]]=1\n",
    "    temp = []\n",
    "    if i[\"score\"]<0.05:\n",
    "      print(str(i[\"image_id\"])+\"+++\"+str(i[\"score\"]))\n",
    "      ans.append(temp)\n",
    "      continue\n",
    "    else:\n",
    "      ans.append(i[\"bbox\"])\n",
    "      print(\"-------------\"+str(i[\"score\"])+\"+\"+str(i[\"image_id\"]))\n",
    "print(ans)"
   ]
  },
  {
   "cell_type": "markdown",
   "metadata": {},
   "source": [
    "## 处理ans"
   ]
  },
  {
   "cell_type": "code",
   "execution_count": 12,
   "metadata": {
    "execution": {
     "iopub.execute_input": "2023-03-20T08:14:49.626580Z",
     "iopub.status.busy": "2023-03-20T08:14:49.625978Z",
     "iopub.status.idle": "2023-03-20T08:15:01.605888Z",
     "shell.execute_reply": "2023-03-20T08:15:01.604638Z",
     "shell.execute_reply.started": "2023-03-20T08:14:49.626541Z"
    },
    "scrolled": true,
    "tags": []
   },
   "outputs": [
    {
     "name": "stdout",
     "output_type": "stream",
     "text": [
      "[{'image_id': 0, 'category_id': 1, 'bbox': [309.0836181640625, 277.27557373046875, 57.59417724609375, 42.7196044921875], 'score': 0.42117321491241455}, {'image_id': 0, 'category_id': 1, 'bbox': [311.56396484375, 285.35858154296875, 45.2847900390625, 35.61505126953125], 'score': 0.012416101060807705}, {'image_id': 0, 'category_id': 1, 'bbox': [315.49481201171875, 280.38201904296875, 44.28729248046875, 37.62384033203125], 'score': 0.00379589363001287}, {'image_id': 0, 'category_id': 1, 'bbox': [300.18072509765625, 276.8687438964844, 53.46685791015625, 41.00286865234375], 'score': 0.0031706946901977062}, {'image_id': 0, 'category_id': 1, 'bbox': [317.4538269042969, 275.5685119628906, 51.50921630859375, 37.7520751953125], 'score': 0.0025574229657649994}, {'image_id': 1, 'category_id': 1, 'bbox': [306.0187683105469, 277.45660400390625, 59.17254638671875, 43.8590087890625], 'score': 0.40381067991256714}, {'image_id': 1, 'category_id': 1, 'bbox': [309.7928466796875, 284.787109375, 46.92791748\r\n",
      "0\r\n",
      "0.0036536704283207655\r\n",
      "1\r\n",
      "0.0028202123939990997\r\n",
      "2\r\n",
      "0.004415615927428007\r\n",
      "3\r\n"
     ]
    },
    {
     "name": "stderr",
     "output_type": "stream",
     "text": [
      "IOPub data rate exceeded.\r\n",
      "The Jupyter server will temporarily stop sending output\r\n",
      "to the client in order to avoid crashing it.\r\n",
      "To change this limit, set the config variable\r\n",
      "`--ServerApp.iopub_data_rate_limit`.\r\n",
      "\r\n",
      "Current values:\r\n",
      "ServerApp.iopub_data_rate_limit=1000000.0 (bytes/sec)\r\n",
      "ServerApp.rate_limit_window=3.0 (secs)\r\n",
      "\r\n"
     ]
    },
    {
     "name": "stdout",
     "output_type": "stream",
     "text": [
      "\r\n",
      "20\r\n",
      "0.002471354091539979\r\n",
      "21\r\n",
      "0.002502904972061515\r\n",
      "22\r\n",
      "0.0012882823357358575\r\n",
      "23\r\n",
      "0.002737391972914338\r\n",
      "24\r\n",
      "0.002002701163291931\r\n",
      "25\r\n",
      "0.0014650247758254409\r\n",
      "26\r\n",
      "0.0029893869068473577\r\n",
      "27\r\n",
      "0.0029199731070548296\r\n",
      "28\r\n",
      "0.0031945055816322565\r\n",
      "29\r\n",
      "0.0030555634293705225\r\n",
      "30\r\n",
      "0.003583502722904086\r\n",
      "31\r\n",
      "0.002406741725280881\r\n",
      "32\r\n",
      "0.002227527555078268\r\n",
      "33\r\n",
      "0.0031519655603915453\r\n",
      "34\r\n",
      "0.0016159674851223826\r\n",
      "35\r\n",
      "0.0012465819017961621\r\n",
      "36\r\n",
      "0.0010288059711456299\r\n",
      "37\r\n",
      "0.0011858793441206217\r\n",
      "38\r\n",
      "0.0012598361354321241\r\n",
      "39\r\n",
      "0.0010023550130426884\r\n",
      "40\r\n",
      "0.003093005856499076\r\n",
      "41\r\n",
      "0.0013585648266598582\r\n",
      "42\r\n",
      "0.001349960220977664\r\n",
      "43\r\n",
      "0.001630208338610828\r\n",
      "44\r\n",
      "0.0026570868212729692\r\n",
      "45\r\n",
      "0.001115257851779461\r\n",
      "46\r\n",
      "0.0014866235433146358\r\n",
      "47\r\n",
      "0.002018268685787916\r\n",
      "48\r\n",
      "0.0038183785509318113\r\n",
      "49\r\n",
      "0.004640971776098013\r\n",
      "50\r\n",
      "0.00180583365727216\r\n",
      "51\r\n",
      "0.0031112059950828552\r\n",
      "52\r\n",
      "0.003531406633555889\r\n",
      "53\r\n",
      "0.0018268601270392537\r\n",
      "54\r\n",
      "0.002990793902426958\r\n",
      "55\r\n",
      "0.004001082852482796\r\n",
      "56\r\n",
      "0.004848792217671871\r\n",
      "57\r\n",
      "0.0032533113844692707\r\n",
      "58\r\n",
      "0.0019176919013261795\r\n",
      "59\r\n",
      "0.0026085232384502888\r\n",
      "60\r\n",
      "0.0024405091535300016\r\n",
      "61\r\n",
      "0.0016852309927344322\r\n",
      "62\r\n",
      "0.0017644827021285892\r\n",
      "63\r\n",
      "[{'image_id': 0, 'category_id': 1, 'bbox': [256.0215759277344, 298.4937438964844, 65.63946533203125, 29.8602294921875], 'score': 0.4011426866054535}, {'image_id': 0, 'category_id': 1, 'bbox': [266.2272644042969, 300.27752685546875, 45.97454833984375, 27.9287109375], 'score': 0.010652313940227032}, {'image_id': 0, 'category_id': 1, 'bbox': [254.75917053222656, 288.6696472167969, 73.07154846191406, 41.90277099609375], 'score': 0.0023918088991194963}, {'image_id': 0, 'category_id': 1, 'bbox': [261.9004821777344, 294.59130859375, 71.51593017578125, 39.0885009765625], 'score': 0.001575930742546916}, {'image_id': 0, 'category_id': 1, 'bbox': [245.22230529785156, 296.8673095703125, 67.38017272949219, 32.492431640625], 'score': 0.001020954456180334}, {'image_id': 1, 'category_id': 1, 'bbox': [255.7051544189453, 293.1428527832031, 64.76634216308594, 28.84124755859375], 'score': 0.37211135029792786}, {'image_id': 1, 'category_id': 1, 'bbox': [263.9520568847656, 295.3206787109375, 45.52490234375,\r\n",
      "0\r\n"
     ]
    }
   ],
   "source": [
    "import json\n",
    "files = os.listdir(\"./ans\")\n",
    "\n",
    "for name in files:\n",
    "    name = name[0:-5]\n",
    "    if name[0]=='.':\n",
    "        continue\n",
    "    vis = [0 for i in range(1,2000)]\n",
    "    res = {\"res\":[]}\n",
    "    cnt = 0\n",
    "    with open(\"/home/aistudio/ans/\"+name+\".json\",'r',encoding='utf-8') as fp1:\n",
    "        json_data = json.load(fp1)\n",
    "        print(json_data)\n",
    "        for it in json_data:\n",
    "            temp=[]\n",
    "            if vis[it[\"image_id\"]]:\n",
    "                continue\n",
    "            if it[\"score\"]<0.005:\n",
    "                res[\"res\"].append(temp)\n",
    "                #print(cnt,end=\" \")\n",
    "                print(cnt)\n",
    "                cnt = cnt+1\n",
    "                vis[it[\"image_id\"]]=1\n",
    "                print(it[\"score\"])\n",
    "                continue\n",
    "            vis[it[\"image_id\"]]=1\n",
    "            res[\"res\"].append(it[\"bbox\"])\n",
    "            #print(cnt,end=\" \")\n",
    "    #print(str(res))\n",
    "    print(cnt)\n",
    "    f = open(\"./res/\"+name+\".txt\",\"w\")\n",
    "    f.write(str(res))\n",
    "    f.close()\n",
    "\n",
    "        \n",
    "        \n",
    "      "
   ]
  },
  {
   "cell_type": "code",
   "execution_count": null,
   "metadata": {
    "scrolled": true
   },
   "outputs": [],
   "source": []
  }
 ],
 "metadata": {
  "kernelspec": {
   "display_name": "Python 3",
   "language": "python",
   "name": "py35-paddle1.2.0"
  },
  "language_info": {
   "codemirror_mode": {
    "name": "ipython",
    "version": 3
   },
   "file_extension": ".py",
   "mimetype": "text/x-python",
   "name": "python",
   "nbconvert_exporter": "python",
   "pygments_lexer": "ipython3",
   "version": "3.7.4"
  }
 },
 "nbformat": 4,
 "nbformat_minor": 4
}
